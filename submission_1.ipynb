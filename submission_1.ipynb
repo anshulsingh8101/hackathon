{
 "cells": [
  {
   "cell_type": "code",
   "execution_count": 1,
   "id": "adverse-theater",
   "metadata": {},
   "outputs": [
    {
     "name": "stdout",
     "output_type": "stream",
     "text": [
      "2.4.1\n"
     ]
    }
   ],
   "source": [
    "import pandas as pd\n",
    "pd.options.display.float_format = '{:.2f}'.format\n",
    "from sklearn.preprocessing import MinMaxScaler\n",
    "import numpy as np\n",
    "import tensorflow as tf\n",
    "from tensorflow.keras.layers import Dense\n",
    "from tensorflow.keras.models import Sequential\n",
    "import warnings\n",
    "warnings.filterwarnings('ignore')\n",
    "print(tf.__version__)"
   ]
  },
  {
   "cell_type": "code",
   "execution_count": 2,
   "id": "confident-credit",
   "metadata": {},
   "outputs": [],
   "source": [
    "df_train = pd.read_csv(r'C:\\Users\\anshu\\OneDrive\\Desktop\\hackathon\\data\\Training Data.csv')\n",
    "df_test = pd.read_csv(r'C:\\Users\\anshu\\OneDrive\\Desktop\\hackathon\\data\\Test Data.csv')\n",
    "df_sample = pd.read_csv(r'C:\\Users\\anshu\\OneDrive\\Desktop\\hackathon\\Sample Prediction Dataset.csv')"
   ]
  },
  {
   "cell_type": "code",
   "execution_count": 3,
   "id": "running-breed",
   "metadata": {},
   "outputs": [
    {
     "name": "stdout",
     "output_type": "stream",
     "text": [
      "(252000, 13)\n"
     ]
    },
    {
     "data": {
      "text/html": [
       "<div>\n",
       "<style scoped>\n",
       "    .dataframe tbody tr th:only-of-type {\n",
       "        vertical-align: middle;\n",
       "    }\n",
       "\n",
       "    .dataframe tbody tr th {\n",
       "        vertical-align: top;\n",
       "    }\n",
       "\n",
       "    .dataframe thead th {\n",
       "        text-align: right;\n",
       "    }\n",
       "</style>\n",
       "<table border=\"1\" class=\"dataframe\">\n",
       "  <thead>\n",
       "    <tr style=\"text-align: right;\">\n",
       "      <th></th>\n",
       "      <th>Id</th>\n",
       "      <th>income</th>\n",
       "      <th>age</th>\n",
       "      <th>experience</th>\n",
       "      <th>married</th>\n",
       "      <th>house_ownership</th>\n",
       "      <th>car_ownership</th>\n",
       "      <th>profession</th>\n",
       "      <th>city</th>\n",
       "      <th>state</th>\n",
       "      <th>current_job_years</th>\n",
       "      <th>current_house_years</th>\n",
       "      <th>risk_flag</th>\n",
       "    </tr>\n",
       "  </thead>\n",
       "  <tbody>\n",
       "    <tr>\n",
       "      <th>0</th>\n",
       "      <td>1</td>\n",
       "      <td>1303835</td>\n",
       "      <td>23</td>\n",
       "      <td>3</td>\n",
       "      <td>single</td>\n",
       "      <td>rented</td>\n",
       "      <td>no</td>\n",
       "      <td>Mechanical_engineer</td>\n",
       "      <td>Rewa</td>\n",
       "      <td>Madhya_Pradesh</td>\n",
       "      <td>3</td>\n",
       "      <td>13</td>\n",
       "      <td>0</td>\n",
       "    </tr>\n",
       "    <tr>\n",
       "      <th>1</th>\n",
       "      <td>2</td>\n",
       "      <td>7574516</td>\n",
       "      <td>40</td>\n",
       "      <td>10</td>\n",
       "      <td>single</td>\n",
       "      <td>rented</td>\n",
       "      <td>no</td>\n",
       "      <td>Software_Developer</td>\n",
       "      <td>Parbhani</td>\n",
       "      <td>Maharashtra</td>\n",
       "      <td>9</td>\n",
       "      <td>13</td>\n",
       "      <td>0</td>\n",
       "    </tr>\n",
       "    <tr>\n",
       "      <th>2</th>\n",
       "      <td>3</td>\n",
       "      <td>3991815</td>\n",
       "      <td>66</td>\n",
       "      <td>4</td>\n",
       "      <td>married</td>\n",
       "      <td>rented</td>\n",
       "      <td>no</td>\n",
       "      <td>Technical_writer</td>\n",
       "      <td>Alappuzha</td>\n",
       "      <td>Kerala</td>\n",
       "      <td>4</td>\n",
       "      <td>10</td>\n",
       "      <td>0</td>\n",
       "    </tr>\n",
       "    <tr>\n",
       "      <th>3</th>\n",
       "      <td>4</td>\n",
       "      <td>6256451</td>\n",
       "      <td>41</td>\n",
       "      <td>2</td>\n",
       "      <td>single</td>\n",
       "      <td>rented</td>\n",
       "      <td>yes</td>\n",
       "      <td>Software_Developer</td>\n",
       "      <td>Bhubaneswar</td>\n",
       "      <td>Odisha</td>\n",
       "      <td>2</td>\n",
       "      <td>12</td>\n",
       "      <td>1</td>\n",
       "    </tr>\n",
       "    <tr>\n",
       "      <th>4</th>\n",
       "      <td>5</td>\n",
       "      <td>5768871</td>\n",
       "      <td>47</td>\n",
       "      <td>11</td>\n",
       "      <td>single</td>\n",
       "      <td>rented</td>\n",
       "      <td>no</td>\n",
       "      <td>Civil_servant</td>\n",
       "      <td>Tiruchirappalli[10]</td>\n",
       "      <td>Tamil_Nadu</td>\n",
       "      <td>3</td>\n",
       "      <td>14</td>\n",
       "      <td>1</td>\n",
       "    </tr>\n",
       "  </tbody>\n",
       "</table>\n",
       "</div>"
      ],
      "text/plain": [
       "   Id   income  age  experience  married house_ownership car_ownership  \\\n",
       "0   1  1303835   23           3   single          rented            no   \n",
       "1   2  7574516   40          10   single          rented            no   \n",
       "2   3  3991815   66           4  married          rented            no   \n",
       "3   4  6256451   41           2   single          rented           yes   \n",
       "4   5  5768871   47          11   single          rented            no   \n",
       "\n",
       "            profession                 city           state  \\\n",
       "0  Mechanical_engineer                 Rewa  Madhya_Pradesh   \n",
       "1   Software_Developer             Parbhani     Maharashtra   \n",
       "2     Technical_writer            Alappuzha          Kerala   \n",
       "3   Software_Developer          Bhubaneswar          Odisha   \n",
       "4        Civil_servant  Tiruchirappalli[10]      Tamil_Nadu   \n",
       "\n",
       "   current_job_years  current_house_years  risk_flag  \n",
       "0                  3                   13          0  \n",
       "1                  9                   13          0  \n",
       "2                  4                   10          0  \n",
       "3                  2                   12          1  \n",
       "4                  3                   14          1  "
      ]
     },
     "execution_count": 3,
     "metadata": {},
     "output_type": "execute_result"
    }
   ],
   "source": [
    "print(df_train.shape)\n",
    "df_train.head() "
   ]
  },
  {
   "cell_type": "code",
   "execution_count": 4,
   "id": "twelve-reservoir",
   "metadata": {},
   "outputs": [
    {
     "name": "stdout",
     "output_type": "stream",
     "text": [
      "(28000, 12)\n"
     ]
    },
    {
     "data": {
      "text/html": [
       "<div>\n",
       "<style scoped>\n",
       "    .dataframe tbody tr th:only-of-type {\n",
       "        vertical-align: middle;\n",
       "    }\n",
       "\n",
       "    .dataframe tbody tr th {\n",
       "        vertical-align: top;\n",
       "    }\n",
       "\n",
       "    .dataframe thead th {\n",
       "        text-align: right;\n",
       "    }\n",
       "</style>\n",
       "<table border=\"1\" class=\"dataframe\">\n",
       "  <thead>\n",
       "    <tr style=\"text-align: right;\">\n",
       "      <th></th>\n",
       "      <th>id</th>\n",
       "      <th>income</th>\n",
       "      <th>age</th>\n",
       "      <th>experience</th>\n",
       "      <th>married</th>\n",
       "      <th>house_ownership</th>\n",
       "      <th>car_ownership</th>\n",
       "      <th>profession</th>\n",
       "      <th>city</th>\n",
       "      <th>state</th>\n",
       "      <th>current_job_years</th>\n",
       "      <th>current_house_years</th>\n",
       "    </tr>\n",
       "  </thead>\n",
       "  <tbody>\n",
       "    <tr>\n",
       "      <th>0</th>\n",
       "      <td>1</td>\n",
       "      <td>7393090</td>\n",
       "      <td>59</td>\n",
       "      <td>19</td>\n",
       "      <td>single</td>\n",
       "      <td>rented</td>\n",
       "      <td>no</td>\n",
       "      <td>Geologist</td>\n",
       "      <td>Malda</td>\n",
       "      <td>West Bengal</td>\n",
       "      <td>4</td>\n",
       "      <td>13</td>\n",
       "    </tr>\n",
       "    <tr>\n",
       "      <th>1</th>\n",
       "      <td>2</td>\n",
       "      <td>1215004</td>\n",
       "      <td>25</td>\n",
       "      <td>5</td>\n",
       "      <td>single</td>\n",
       "      <td>rented</td>\n",
       "      <td>no</td>\n",
       "      <td>Firefighter</td>\n",
       "      <td>Jalna</td>\n",
       "      <td>Maharashtra</td>\n",
       "      <td>5</td>\n",
       "      <td>10</td>\n",
       "    </tr>\n",
       "    <tr>\n",
       "      <th>2</th>\n",
       "      <td>3</td>\n",
       "      <td>8901342</td>\n",
       "      <td>50</td>\n",
       "      <td>12</td>\n",
       "      <td>single</td>\n",
       "      <td>rented</td>\n",
       "      <td>no</td>\n",
       "      <td>Lawyer</td>\n",
       "      <td>Thane</td>\n",
       "      <td>Maharashtra</td>\n",
       "      <td>9</td>\n",
       "      <td>14</td>\n",
       "    </tr>\n",
       "    <tr>\n",
       "      <th>3</th>\n",
       "      <td>4</td>\n",
       "      <td>1944421</td>\n",
       "      <td>49</td>\n",
       "      <td>9</td>\n",
       "      <td>married</td>\n",
       "      <td>rented</td>\n",
       "      <td>yes</td>\n",
       "      <td>Analyst</td>\n",
       "      <td>Latur</td>\n",
       "      <td>Maharashtra</td>\n",
       "      <td>3</td>\n",
       "      <td>12</td>\n",
       "    </tr>\n",
       "    <tr>\n",
       "      <th>4</th>\n",
       "      <td>5</td>\n",
       "      <td>13429</td>\n",
       "      <td>25</td>\n",
       "      <td>18</td>\n",
       "      <td>single</td>\n",
       "      <td>rented</td>\n",
       "      <td>yes</td>\n",
       "      <td>Comedian</td>\n",
       "      <td>Berhampore</td>\n",
       "      <td>West Bengal</td>\n",
       "      <td>13</td>\n",
       "      <td>11</td>\n",
       "    </tr>\n",
       "  </tbody>\n",
       "</table>\n",
       "</div>"
      ],
      "text/plain": [
       "   id   income  age  experience  married house_ownership car_ownership  \\\n",
       "0   1  7393090   59          19   single          rented            no   \n",
       "1   2  1215004   25           5   single          rented            no   \n",
       "2   3  8901342   50          12   single          rented            no   \n",
       "3   4  1944421   49           9  married          rented           yes   \n",
       "4   5    13429   25          18   single          rented           yes   \n",
       "\n",
       "    profession        city        state  current_job_years  \\\n",
       "0    Geologist       Malda  West Bengal                  4   \n",
       "1  Firefighter       Jalna  Maharashtra                  5   \n",
       "2       Lawyer       Thane  Maharashtra                  9   \n",
       "3      Analyst       Latur  Maharashtra                  3   \n",
       "4     Comedian  Berhampore  West Bengal                 13   \n",
       "\n",
       "   current_house_years  \n",
       "0                   13  \n",
       "1                   10  \n",
       "2                   14  \n",
       "3                   12  \n",
       "4                   11  "
      ]
     },
     "execution_count": 4,
     "metadata": {},
     "output_type": "execute_result"
    }
   ],
   "source": [
    "print(df_test.shape)\n",
    "df_test.head()"
   ]
  },
  {
   "cell_type": "code",
   "execution_count": 5,
   "id": "clean-knowing",
   "metadata": {},
   "outputs": [
    {
     "data": {
      "text/html": [
       "<div>\n",
       "<style scoped>\n",
       "    .dataframe tbody tr th:only-of-type {\n",
       "        vertical-align: middle;\n",
       "    }\n",
       "\n",
       "    .dataframe tbody tr th {\n",
       "        vertical-align: top;\n",
       "    }\n",
       "\n",
       "    .dataframe thead th {\n",
       "        text-align: right;\n",
       "    }\n",
       "</style>\n",
       "<table border=\"1\" class=\"dataframe\">\n",
       "  <thead>\n",
       "    <tr style=\"text-align: right;\">\n",
       "      <th></th>\n",
       "      <th>id</th>\n",
       "      <th>risk_flag</th>\n",
       "    </tr>\n",
       "  </thead>\n",
       "  <tbody>\n",
       "    <tr>\n",
       "      <th>0</th>\n",
       "      <td>1</td>\n",
       "      <td>0</td>\n",
       "    </tr>\n",
       "    <tr>\n",
       "      <th>1</th>\n",
       "      <td>2</td>\n",
       "      <td>0</td>\n",
       "    </tr>\n",
       "    <tr>\n",
       "      <th>2</th>\n",
       "      <td>3</td>\n",
       "      <td>1</td>\n",
       "    </tr>\n",
       "    <tr>\n",
       "      <th>3</th>\n",
       "      <td>4</td>\n",
       "      <td>0</td>\n",
       "    </tr>\n",
       "    <tr>\n",
       "      <th>4</th>\n",
       "      <td>5</td>\n",
       "      <td>0</td>\n",
       "    </tr>\n",
       "  </tbody>\n",
       "</table>\n",
       "</div>"
      ],
      "text/plain": [
       "   id  risk_flag\n",
       "0   1          0\n",
       "1   2          0\n",
       "2   3          1\n",
       "3   4          0\n",
       "4   5          0"
      ]
     },
     "execution_count": 5,
     "metadata": {},
     "output_type": "execute_result"
    }
   ],
   "source": [
    "df_sample.head()"
   ]
  },
  {
   "cell_type": "code",
   "execution_count": 6,
   "id": "delayed-prediction",
   "metadata": {},
   "outputs": [
    {
     "data": {
      "text/plain": [
       "array([0, 1], dtype=int64)"
      ]
     },
     "execution_count": 6,
     "metadata": {},
     "output_type": "execute_result"
    }
   ],
   "source": [
    "df_sample.risk_flag.unique()"
   ]
  },
  {
   "cell_type": "code",
   "execution_count": 7,
   "id": "fossil-organizer",
   "metadata": {},
   "outputs": [
    {
     "data": {
      "text/html": [
       "<div>\n",
       "<style scoped>\n",
       "    .dataframe tbody tr th:only-of-type {\n",
       "        vertical-align: middle;\n",
       "    }\n",
       "\n",
       "    .dataframe tbody tr th {\n",
       "        vertical-align: top;\n",
       "    }\n",
       "\n",
       "    .dataframe thead th {\n",
       "        text-align: right;\n",
       "    }\n",
       "</style>\n",
       "<table border=\"1\" class=\"dataframe\">\n",
       "  <thead>\n",
       "    <tr style=\"text-align: right;\">\n",
       "      <th></th>\n",
       "      <th>Id</th>\n",
       "      <th>income</th>\n",
       "      <th>age</th>\n",
       "      <th>experience</th>\n",
       "      <th>current_job_years</th>\n",
       "      <th>current_house_years</th>\n",
       "      <th>risk_flag</th>\n",
       "    </tr>\n",
       "  </thead>\n",
       "  <tbody>\n",
       "    <tr>\n",
       "      <th>count</th>\n",
       "      <td>252000.00</td>\n",
       "      <td>252000.00</td>\n",
       "      <td>252000.00</td>\n",
       "      <td>252000.00</td>\n",
       "      <td>252000.00</td>\n",
       "      <td>252000.00</td>\n",
       "      <td>252000.00</td>\n",
       "    </tr>\n",
       "    <tr>\n",
       "      <th>mean</th>\n",
       "      <td>126000.50</td>\n",
       "      <td>4997116.67</td>\n",
       "      <td>49.95</td>\n",
       "      <td>10.08</td>\n",
       "      <td>6.33</td>\n",
       "      <td>12.00</td>\n",
       "      <td>0.12</td>\n",
       "    </tr>\n",
       "    <tr>\n",
       "      <th>std</th>\n",
       "      <td>72746.28</td>\n",
       "      <td>2878311.01</td>\n",
       "      <td>17.06</td>\n",
       "      <td>6.00</td>\n",
       "      <td>3.65</td>\n",
       "      <td>1.40</td>\n",
       "      <td>0.33</td>\n",
       "    </tr>\n",
       "    <tr>\n",
       "      <th>min</th>\n",
       "      <td>1.00</td>\n",
       "      <td>10310.00</td>\n",
       "      <td>21.00</td>\n",
       "      <td>0.00</td>\n",
       "      <td>0.00</td>\n",
       "      <td>10.00</td>\n",
       "      <td>0.00</td>\n",
       "    </tr>\n",
       "    <tr>\n",
       "      <th>25%</th>\n",
       "      <td>63000.75</td>\n",
       "      <td>2503015.00</td>\n",
       "      <td>35.00</td>\n",
       "      <td>5.00</td>\n",
       "      <td>3.00</td>\n",
       "      <td>11.00</td>\n",
       "      <td>0.00</td>\n",
       "    </tr>\n",
       "    <tr>\n",
       "      <th>50%</th>\n",
       "      <td>126000.50</td>\n",
       "      <td>5000694.50</td>\n",
       "      <td>50.00</td>\n",
       "      <td>10.00</td>\n",
       "      <td>6.00</td>\n",
       "      <td>12.00</td>\n",
       "      <td>0.00</td>\n",
       "    </tr>\n",
       "    <tr>\n",
       "      <th>75%</th>\n",
       "      <td>189000.25</td>\n",
       "      <td>7477502.00</td>\n",
       "      <td>65.00</td>\n",
       "      <td>15.00</td>\n",
       "      <td>9.00</td>\n",
       "      <td>13.00</td>\n",
       "      <td>0.00</td>\n",
       "    </tr>\n",
       "    <tr>\n",
       "      <th>max</th>\n",
       "      <td>252000.00</td>\n",
       "      <td>9999938.00</td>\n",
       "      <td>79.00</td>\n",
       "      <td>20.00</td>\n",
       "      <td>14.00</td>\n",
       "      <td>14.00</td>\n",
       "      <td>1.00</td>\n",
       "    </tr>\n",
       "  </tbody>\n",
       "</table>\n",
       "</div>"
      ],
      "text/plain": [
       "             Id     income       age  experience  current_job_years  \\\n",
       "count 252000.00  252000.00 252000.00   252000.00          252000.00   \n",
       "mean  126000.50 4997116.67     49.95       10.08               6.33   \n",
       "std    72746.28 2878311.01     17.06        6.00               3.65   \n",
       "min        1.00   10310.00     21.00        0.00               0.00   \n",
       "25%    63000.75 2503015.00     35.00        5.00               3.00   \n",
       "50%   126000.50 5000694.50     50.00       10.00               6.00   \n",
       "75%   189000.25 7477502.00     65.00       15.00               9.00   \n",
       "max   252000.00 9999938.00     79.00       20.00              14.00   \n",
       "\n",
       "       current_house_years  risk_flag  \n",
       "count            252000.00  252000.00  \n",
       "mean                 12.00       0.12  \n",
       "std                   1.40       0.33  \n",
       "min                  10.00       0.00  \n",
       "25%                  11.00       0.00  \n",
       "50%                  12.00       0.00  \n",
       "75%                  13.00       0.00  \n",
       "max                  14.00       1.00  "
      ]
     },
     "execution_count": 7,
     "metadata": {},
     "output_type": "execute_result"
    }
   ],
   "source": [
    "df_train.describe()"
   ]
  },
  {
   "cell_type": "code",
   "execution_count": 8,
   "id": "organic-values",
   "metadata": {},
   "outputs": [
    {
     "data": {
      "text/html": [
       "<div>\n",
       "<style scoped>\n",
       "    .dataframe tbody tr th:only-of-type {\n",
       "        vertical-align: middle;\n",
       "    }\n",
       "\n",
       "    .dataframe tbody tr th {\n",
       "        vertical-align: top;\n",
       "    }\n",
       "\n",
       "    .dataframe thead th {\n",
       "        text-align: right;\n",
       "    }\n",
       "</style>\n",
       "<table border=\"1\" class=\"dataframe\">\n",
       "  <thead>\n",
       "    <tr style=\"text-align: right;\">\n",
       "      <th></th>\n",
       "      <th>id</th>\n",
       "      <th>income</th>\n",
       "      <th>age</th>\n",
       "      <th>experience</th>\n",
       "      <th>current_job_years</th>\n",
       "      <th>current_house_years</th>\n",
       "    </tr>\n",
       "  </thead>\n",
       "  <tbody>\n",
       "    <tr>\n",
       "      <th>count</th>\n",
       "      <td>28000.00</td>\n",
       "      <td>28000.00</td>\n",
       "      <td>28000.00</td>\n",
       "      <td>28000.00</td>\n",
       "      <td>28000.00</td>\n",
       "      <td>28000.00</td>\n",
       "    </tr>\n",
       "    <tr>\n",
       "      <th>mean</th>\n",
       "      <td>14000.50</td>\n",
       "      <td>5029562.65</td>\n",
       "      <td>50.05</td>\n",
       "      <td>10.12</td>\n",
       "      <td>6.34</td>\n",
       "      <td>11.99</td>\n",
       "    </tr>\n",
       "    <tr>\n",
       "      <th>std</th>\n",
       "      <td>8083.05</td>\n",
       "      <td>2864937.67</td>\n",
       "      <td>17.13</td>\n",
       "      <td>6.03</td>\n",
       "      <td>3.65</td>\n",
       "      <td>1.40</td>\n",
       "    </tr>\n",
       "    <tr>\n",
       "      <th>min</th>\n",
       "      <td>1.00</td>\n",
       "      <td>10310.00</td>\n",
       "      <td>21.00</td>\n",
       "      <td>0.00</td>\n",
       "      <td>0.00</td>\n",
       "      <td>10.00</td>\n",
       "    </tr>\n",
       "    <tr>\n",
       "      <th>25%</th>\n",
       "      <td>7000.75</td>\n",
       "      <td>2545414.00</td>\n",
       "      <td>35.00</td>\n",
       "      <td>5.00</td>\n",
       "      <td>3.00</td>\n",
       "      <td>11.00</td>\n",
       "    </tr>\n",
       "    <tr>\n",
       "      <th>50%</th>\n",
       "      <td>14000.50</td>\n",
       "      <td>5046744.00</td>\n",
       "      <td>50.00</td>\n",
       "      <td>10.00</td>\n",
       "      <td>6.00</td>\n",
       "      <td>12.00</td>\n",
       "    </tr>\n",
       "    <tr>\n",
       "      <th>75%</th>\n",
       "      <td>21000.25</td>\n",
       "      <td>7474639.00</td>\n",
       "      <td>65.00</td>\n",
       "      <td>15.00</td>\n",
       "      <td>9.00</td>\n",
       "      <td>13.00</td>\n",
       "    </tr>\n",
       "    <tr>\n",
       "      <th>max</th>\n",
       "      <td>28000.00</td>\n",
       "      <td>9999814.00</td>\n",
       "      <td>79.00</td>\n",
       "      <td>20.00</td>\n",
       "      <td>14.00</td>\n",
       "      <td>14.00</td>\n",
       "    </tr>\n",
       "  </tbody>\n",
       "</table>\n",
       "</div>"
      ],
      "text/plain": [
       "            id     income      age  experience  current_job_years  \\\n",
       "count 28000.00   28000.00 28000.00    28000.00           28000.00   \n",
       "mean  14000.50 5029562.65    50.05       10.12               6.34   \n",
       "std    8083.05 2864937.67    17.13        6.03               3.65   \n",
       "min       1.00   10310.00    21.00        0.00               0.00   \n",
       "25%    7000.75 2545414.00    35.00        5.00               3.00   \n",
       "50%   14000.50 5046744.00    50.00       10.00               6.00   \n",
       "75%   21000.25 7474639.00    65.00       15.00               9.00   \n",
       "max   28000.00 9999814.00    79.00       20.00              14.00   \n",
       "\n",
       "       current_house_years  \n",
       "count             28000.00  \n",
       "mean                 11.99  \n",
       "std                   1.40  \n",
       "min                  10.00  \n",
       "25%                  11.00  \n",
       "50%                  12.00  \n",
       "75%                  13.00  \n",
       "max                  14.00  "
      ]
     },
     "execution_count": 8,
     "metadata": {},
     "output_type": "execute_result"
    }
   ],
   "source": [
    "df_test.describe()"
   ]
  },
  {
   "cell_type": "code",
   "execution_count": 9,
   "id": "roman-westminster",
   "metadata": {},
   "outputs": [
    {
     "name": "stdout",
     "output_type": "stream",
     "text": [
      "<class 'pandas.core.frame.DataFrame'>\n",
      "RangeIndex: 28000 entries, 0 to 27999\n",
      "Data columns (total 12 columns):\n",
      " #   Column               Non-Null Count  Dtype \n",
      "---  ------               --------------  ----- \n",
      " 0   id                   28000 non-null  int64 \n",
      " 1   income               28000 non-null  int64 \n",
      " 2   age                  28000 non-null  int64 \n",
      " 3   experience           28000 non-null  int64 \n",
      " 4   married              28000 non-null  object\n",
      " 5   house_ownership      28000 non-null  object\n",
      " 6   car_ownership        28000 non-null  object\n",
      " 7   profession           28000 non-null  object\n",
      " 8   city                 28000 non-null  object\n",
      " 9   state                28000 non-null  object\n",
      " 10  current_job_years    28000 non-null  int64 \n",
      " 11  current_house_years  28000 non-null  int64 \n",
      "dtypes: int64(6), object(6)\n",
      "memory usage: 2.6+ MB\n"
     ]
    }
   ],
   "source": [
    "df_test.info()"
   ]
  },
  {
   "cell_type": "code",
   "execution_count": 10,
   "id": "graphic-county",
   "metadata": {},
   "outputs": [
    {
     "name": "stdout",
     "output_type": "stream",
     "text": [
      "<class 'pandas.core.frame.DataFrame'>\n",
      "RangeIndex: 252000 entries, 0 to 251999\n",
      "Data columns (total 13 columns):\n",
      " #   Column               Non-Null Count   Dtype \n",
      "---  ------               --------------   ----- \n",
      " 0   Id                   252000 non-null  int64 \n",
      " 1   income               252000 non-null  int64 \n",
      " 2   age                  252000 non-null  int64 \n",
      " 3   experience           252000 non-null  int64 \n",
      " 4   married              252000 non-null  object\n",
      " 5   house_ownership      252000 non-null  object\n",
      " 6   car_ownership        252000 non-null  object\n",
      " 7   profession           252000 non-null  object\n",
      " 8   city                 252000 non-null  object\n",
      " 9   state                252000 non-null  object\n",
      " 10  current_job_years    252000 non-null  int64 \n",
      " 11  current_house_years  252000 non-null  int64 \n",
      " 12  risk_flag            252000 non-null  int64 \n",
      "dtypes: int64(7), object(6)\n",
      "memory usage: 25.0+ MB\n"
     ]
    }
   ],
   "source": [
    "df_train.info()"
   ]
  },
  {
   "cell_type": "code",
   "execution_count": null,
   "id": "involved-thumbnail",
   "metadata": {},
   "outputs": [],
   "source": []
  },
  {
   "cell_type": "markdown",
   "id": "about-swing",
   "metadata": {},
   "source": [
    "## Understanding Each and every column by visualization ------- df_train"
   ]
  },
  {
   "cell_type": "code",
   "execution_count": 11,
   "id": "spare-romania",
   "metadata": {},
   "outputs": [
    {
     "data": {
      "text/html": [
       "<div>\n",
       "<style scoped>\n",
       "    .dataframe tbody tr th:only-of-type {\n",
       "        vertical-align: middle;\n",
       "    }\n",
       "\n",
       "    .dataframe tbody tr th {\n",
       "        vertical-align: top;\n",
       "    }\n",
       "\n",
       "    .dataframe thead th {\n",
       "        text-align: right;\n",
       "    }\n",
       "</style>\n",
       "<table border=\"1\" class=\"dataframe\">\n",
       "  <thead>\n",
       "    <tr style=\"text-align: right;\">\n",
       "      <th></th>\n",
       "      <th>Id</th>\n",
       "      <th>income</th>\n",
       "      <th>age</th>\n",
       "      <th>experience</th>\n",
       "      <th>married</th>\n",
       "      <th>house_ownership</th>\n",
       "      <th>car_ownership</th>\n",
       "      <th>profession</th>\n",
       "      <th>city</th>\n",
       "      <th>state</th>\n",
       "      <th>current_job_years</th>\n",
       "      <th>current_house_years</th>\n",
       "      <th>risk_flag</th>\n",
       "    </tr>\n",
       "  </thead>\n",
       "  <tbody>\n",
       "    <tr>\n",
       "      <th>0</th>\n",
       "      <td>1</td>\n",
       "      <td>1303835</td>\n",
       "      <td>23</td>\n",
       "      <td>3</td>\n",
       "      <td>single</td>\n",
       "      <td>rented</td>\n",
       "      <td>no</td>\n",
       "      <td>Mechanical_engineer</td>\n",
       "      <td>Rewa</td>\n",
       "      <td>Madhya_Pradesh</td>\n",
       "      <td>3</td>\n",
       "      <td>13</td>\n",
       "      <td>0</td>\n",
       "    </tr>\n",
       "    <tr>\n",
       "      <th>1</th>\n",
       "      <td>2</td>\n",
       "      <td>7574516</td>\n",
       "      <td>40</td>\n",
       "      <td>10</td>\n",
       "      <td>single</td>\n",
       "      <td>rented</td>\n",
       "      <td>no</td>\n",
       "      <td>Software_Developer</td>\n",
       "      <td>Parbhani</td>\n",
       "      <td>Maharashtra</td>\n",
       "      <td>9</td>\n",
       "      <td>13</td>\n",
       "      <td>0</td>\n",
       "    </tr>\n",
       "    <tr>\n",
       "      <th>2</th>\n",
       "      <td>3</td>\n",
       "      <td>3991815</td>\n",
       "      <td>66</td>\n",
       "      <td>4</td>\n",
       "      <td>married</td>\n",
       "      <td>rented</td>\n",
       "      <td>no</td>\n",
       "      <td>Technical_writer</td>\n",
       "      <td>Alappuzha</td>\n",
       "      <td>Kerala</td>\n",
       "      <td>4</td>\n",
       "      <td>10</td>\n",
       "      <td>0</td>\n",
       "    </tr>\n",
       "    <tr>\n",
       "      <th>3</th>\n",
       "      <td>4</td>\n",
       "      <td>6256451</td>\n",
       "      <td>41</td>\n",
       "      <td>2</td>\n",
       "      <td>single</td>\n",
       "      <td>rented</td>\n",
       "      <td>yes</td>\n",
       "      <td>Software_Developer</td>\n",
       "      <td>Bhubaneswar</td>\n",
       "      <td>Odisha</td>\n",
       "      <td>2</td>\n",
       "      <td>12</td>\n",
       "      <td>1</td>\n",
       "    </tr>\n",
       "    <tr>\n",
       "      <th>4</th>\n",
       "      <td>5</td>\n",
       "      <td>5768871</td>\n",
       "      <td>47</td>\n",
       "      <td>11</td>\n",
       "      <td>single</td>\n",
       "      <td>rented</td>\n",
       "      <td>no</td>\n",
       "      <td>Civil_servant</td>\n",
       "      <td>Tiruchirappalli[10]</td>\n",
       "      <td>Tamil_Nadu</td>\n",
       "      <td>3</td>\n",
       "      <td>14</td>\n",
       "      <td>1</td>\n",
       "    </tr>\n",
       "    <tr>\n",
       "      <th>5</th>\n",
       "      <td>6</td>\n",
       "      <td>6915937</td>\n",
       "      <td>64</td>\n",
       "      <td>0</td>\n",
       "      <td>single</td>\n",
       "      <td>rented</td>\n",
       "      <td>no</td>\n",
       "      <td>Civil_servant</td>\n",
       "      <td>Jalgaon</td>\n",
       "      <td>Maharashtra</td>\n",
       "      <td>0</td>\n",
       "      <td>12</td>\n",
       "      <td>0</td>\n",
       "    </tr>\n",
       "    <tr>\n",
       "      <th>6</th>\n",
       "      <td>7</td>\n",
       "      <td>3954973</td>\n",
       "      <td>58</td>\n",
       "      <td>14</td>\n",
       "      <td>married</td>\n",
       "      <td>rented</td>\n",
       "      <td>no</td>\n",
       "      <td>Librarian</td>\n",
       "      <td>Tiruppur</td>\n",
       "      <td>Tamil_Nadu</td>\n",
       "      <td>8</td>\n",
       "      <td>12</td>\n",
       "      <td>0</td>\n",
       "    </tr>\n",
       "    <tr>\n",
       "      <th>7</th>\n",
       "      <td>8</td>\n",
       "      <td>1706172</td>\n",
       "      <td>33</td>\n",
       "      <td>2</td>\n",
       "      <td>single</td>\n",
       "      <td>rented</td>\n",
       "      <td>no</td>\n",
       "      <td>Economist</td>\n",
       "      <td>Jamnagar</td>\n",
       "      <td>Gujarat</td>\n",
       "      <td>2</td>\n",
       "      <td>14</td>\n",
       "      <td>0</td>\n",
       "    </tr>\n",
       "    <tr>\n",
       "      <th>8</th>\n",
       "      <td>9</td>\n",
       "      <td>7566849</td>\n",
       "      <td>24</td>\n",
       "      <td>17</td>\n",
       "      <td>single</td>\n",
       "      <td>rented</td>\n",
       "      <td>yes</td>\n",
       "      <td>Flight_attendant</td>\n",
       "      <td>Kota[6]</td>\n",
       "      <td>Rajasthan</td>\n",
       "      <td>11</td>\n",
       "      <td>11</td>\n",
       "      <td>0</td>\n",
       "    </tr>\n",
       "    <tr>\n",
       "      <th>9</th>\n",
       "      <td>10</td>\n",
       "      <td>8964846</td>\n",
       "      <td>23</td>\n",
       "      <td>12</td>\n",
       "      <td>single</td>\n",
       "      <td>rented</td>\n",
       "      <td>no</td>\n",
       "      <td>Architect</td>\n",
       "      <td>Karimnagar</td>\n",
       "      <td>Telangana</td>\n",
       "      <td>5</td>\n",
       "      <td>13</td>\n",
       "      <td>0</td>\n",
       "    </tr>\n",
       "    <tr>\n",
       "      <th>10</th>\n",
       "      <td>11</td>\n",
       "      <td>4634682</td>\n",
       "      <td>78</td>\n",
       "      <td>7</td>\n",
       "      <td>single</td>\n",
       "      <td>rented</td>\n",
       "      <td>no</td>\n",
       "      <td>Flight_attendant</td>\n",
       "      <td>Hajipur[31]</td>\n",
       "      <td>Bihar</td>\n",
       "      <td>7</td>\n",
       "      <td>12</td>\n",
       "      <td>0</td>\n",
       "    </tr>\n",
       "    <tr>\n",
       "      <th>11</th>\n",
       "      <td>12</td>\n",
       "      <td>6623263</td>\n",
       "      <td>22</td>\n",
       "      <td>4</td>\n",
       "      <td>single</td>\n",
       "      <td>rented</td>\n",
       "      <td>no</td>\n",
       "      <td>Designer</td>\n",
       "      <td>Adoni</td>\n",
       "      <td>Andhra_Pradesh</td>\n",
       "      <td>4</td>\n",
       "      <td>14</td>\n",
       "      <td>0</td>\n",
       "    </tr>\n",
       "    <tr>\n",
       "      <th>12</th>\n",
       "      <td>13</td>\n",
       "      <td>9120988</td>\n",
       "      <td>28</td>\n",
       "      <td>9</td>\n",
       "      <td>single</td>\n",
       "      <td>rented</td>\n",
       "      <td>no</td>\n",
       "      <td>Physician</td>\n",
       "      <td>Erode[17]</td>\n",
       "      <td>Tamil_Nadu</td>\n",
       "      <td>9</td>\n",
       "      <td>12</td>\n",
       "      <td>0</td>\n",
       "    </tr>\n",
       "    <tr>\n",
       "      <th>13</th>\n",
       "      <td>14</td>\n",
       "      <td>8043880</td>\n",
       "      <td>57</td>\n",
       "      <td>12</td>\n",
       "      <td>single</td>\n",
       "      <td>rented</td>\n",
       "      <td>no</td>\n",
       "      <td>Financial_Analyst</td>\n",
       "      <td>Kollam</td>\n",
       "      <td>Kerala</td>\n",
       "      <td>8</td>\n",
       "      <td>10</td>\n",
       "      <td>0</td>\n",
       "    </tr>\n",
       "    <tr>\n",
       "      <th>14</th>\n",
       "      <td>15</td>\n",
       "      <td>9420838</td>\n",
       "      <td>48</td>\n",
       "      <td>6</td>\n",
       "      <td>single</td>\n",
       "      <td>rented</td>\n",
       "      <td>no</td>\n",
       "      <td>Technical_writer</td>\n",
       "      <td>Madurai</td>\n",
       "      <td>Tamil_Nadu</td>\n",
       "      <td>6</td>\n",
       "      <td>10</td>\n",
       "      <td>1</td>\n",
       "    </tr>\n",
       "    <tr>\n",
       "      <th>15</th>\n",
       "      <td>16</td>\n",
       "      <td>5694236</td>\n",
       "      <td>39</td>\n",
       "      <td>2</td>\n",
       "      <td>married</td>\n",
       "      <td>rented</td>\n",
       "      <td>yes</td>\n",
       "      <td>Economist</td>\n",
       "      <td>Anantapuram[24]</td>\n",
       "      <td>Andhra_Pradesh</td>\n",
       "      <td>2</td>\n",
       "      <td>10</td>\n",
       "      <td>0</td>\n",
       "    </tr>\n",
       "    <tr>\n",
       "      <th>16</th>\n",
       "      <td>17</td>\n",
       "      <td>7315839</td>\n",
       "      <td>72</td>\n",
       "      <td>8</td>\n",
       "      <td>married</td>\n",
       "      <td>rented</td>\n",
       "      <td>no</td>\n",
       "      <td>Air_traffic_controller</td>\n",
       "      <td>Kamarhati</td>\n",
       "      <td>West_Bengal</td>\n",
       "      <td>8</td>\n",
       "      <td>14</td>\n",
       "      <td>0</td>\n",
       "    </tr>\n",
       "    <tr>\n",
       "      <th>17</th>\n",
       "      <td>18</td>\n",
       "      <td>3666346</td>\n",
       "      <td>56</td>\n",
       "      <td>12</td>\n",
       "      <td>single</td>\n",
       "      <td>rented</td>\n",
       "      <td>no</td>\n",
       "      <td>Politician</td>\n",
       "      <td>Bhusawal</td>\n",
       "      <td>Maharashtra</td>\n",
       "      <td>12</td>\n",
       "      <td>11</td>\n",
       "      <td>1</td>\n",
       "    </tr>\n",
       "    <tr>\n",
       "      <th>18</th>\n",
       "      <td>19</td>\n",
       "      <td>2241112</td>\n",
       "      <td>28</td>\n",
       "      <td>8</td>\n",
       "      <td>single</td>\n",
       "      <td>rented</td>\n",
       "      <td>no</td>\n",
       "      <td>Police_officer</td>\n",
       "      <td>Sirsa</td>\n",
       "      <td>Haryana</td>\n",
       "      <td>6</td>\n",
       "      <td>14</td>\n",
       "      <td>0</td>\n",
       "    </tr>\n",
       "    <tr>\n",
       "      <th>19</th>\n",
       "      <td>20</td>\n",
       "      <td>5431918</td>\n",
       "      <td>40</td>\n",
       "      <td>1</td>\n",
       "      <td>single</td>\n",
       "      <td>rented</td>\n",
       "      <td>no</td>\n",
       "      <td>Artist</td>\n",
       "      <td>Amaravati</td>\n",
       "      <td>Andhra_Pradesh</td>\n",
       "      <td>1</td>\n",
       "      <td>14</td>\n",
       "      <td>0</td>\n",
       "    </tr>\n",
       "    <tr>\n",
       "      <th>20</th>\n",
       "      <td>21</td>\n",
       "      <td>9225468</td>\n",
       "      <td>54</td>\n",
       "      <td>14</td>\n",
       "      <td>single</td>\n",
       "      <td>rented</td>\n",
       "      <td>no</td>\n",
       "      <td>Surveyor</td>\n",
       "      <td>Secunderabad</td>\n",
       "      <td>Telangana</td>\n",
       "      <td>8</td>\n",
       "      <td>10</td>\n",
       "      <td>0</td>\n",
       "    </tr>\n",
       "    <tr>\n",
       "      <th>21</th>\n",
       "      <td>22</td>\n",
       "      <td>6506739</td>\n",
       "      <td>50</td>\n",
       "      <td>4</td>\n",
       "      <td>single</td>\n",
       "      <td>rented</td>\n",
       "      <td>no</td>\n",
       "      <td>Politician</td>\n",
       "      <td>Ahmedabad</td>\n",
       "      <td>Gujarat</td>\n",
       "      <td>4</td>\n",
       "      <td>11</td>\n",
       "      <td>0</td>\n",
       "    </tr>\n",
       "    <tr>\n",
       "      <th>22</th>\n",
       "      <td>23</td>\n",
       "      <td>9157379</td>\n",
       "      <td>72</td>\n",
       "      <td>13</td>\n",
       "      <td>single</td>\n",
       "      <td>rented</td>\n",
       "      <td>yes</td>\n",
       "      <td>Design_Engineer</td>\n",
       "      <td>Ajmer</td>\n",
       "      <td>Rajasthan</td>\n",
       "      <td>9</td>\n",
       "      <td>10</td>\n",
       "      <td>0</td>\n",
       "    </tr>\n",
       "    <tr>\n",
       "      <th>23</th>\n",
       "      <td>24</td>\n",
       "      <td>9236505</td>\n",
       "      <td>35</td>\n",
       "      <td>19</td>\n",
       "      <td>single</td>\n",
       "      <td>rented</td>\n",
       "      <td>no</td>\n",
       "      <td>Chemical_engineer</td>\n",
       "      <td>Ongole</td>\n",
       "      <td>Andhra_Pradesh</td>\n",
       "      <td>6</td>\n",
       "      <td>14</td>\n",
       "      <td>0</td>\n",
       "    </tr>\n",
       "    <tr>\n",
       "      <th>24</th>\n",
       "      <td>25</td>\n",
       "      <td>1065465</td>\n",
       "      <td>23</td>\n",
       "      <td>15</td>\n",
       "      <td>married</td>\n",
       "      <td>rented</td>\n",
       "      <td>no</td>\n",
       "      <td>Hotel_Manager</td>\n",
       "      <td>Miryalaguda</td>\n",
       "      <td>Telangana</td>\n",
       "      <td>4</td>\n",
       "      <td>12</td>\n",
       "      <td>0</td>\n",
       "    </tr>\n",
       "    <tr>\n",
       "      <th>25</th>\n",
       "      <td>26</td>\n",
       "      <td>1797876</td>\n",
       "      <td>76</td>\n",
       "      <td>20</td>\n",
       "      <td>single</td>\n",
       "      <td>norent_noown</td>\n",
       "      <td>no</td>\n",
       "      <td>Mechanical_engineer</td>\n",
       "      <td>Erode[17]</td>\n",
       "      <td>Tamil_Nadu</td>\n",
       "      <td>11</td>\n",
       "      <td>14</td>\n",
       "      <td>0</td>\n",
       "    </tr>\n",
       "    <tr>\n",
       "      <th>26</th>\n",
       "      <td>27</td>\n",
       "      <td>6063428</td>\n",
       "      <td>38</td>\n",
       "      <td>6</td>\n",
       "      <td>married</td>\n",
       "      <td>rented</td>\n",
       "      <td>no</td>\n",
       "      <td>Dentist</td>\n",
       "      <td>Ambattur</td>\n",
       "      <td>Tamil_Nadu</td>\n",
       "      <td>6</td>\n",
       "      <td>13</td>\n",
       "      <td>0</td>\n",
       "    </tr>\n",
       "    <tr>\n",
       "      <th>27</th>\n",
       "      <td>28</td>\n",
       "      <td>9643150</td>\n",
       "      <td>24</td>\n",
       "      <td>13</td>\n",
       "      <td>single</td>\n",
       "      <td>rented</td>\n",
       "      <td>no</td>\n",
       "      <td>Comedian</td>\n",
       "      <td>Indore</td>\n",
       "      <td>Madhya_Pradesh</td>\n",
       "      <td>6</td>\n",
       "      <td>14</td>\n",
       "      <td>0</td>\n",
       "    </tr>\n",
       "    <tr>\n",
       "      <th>28</th>\n",
       "      <td>29</td>\n",
       "      <td>8832725</td>\n",
       "      <td>64</td>\n",
       "      <td>5</td>\n",
       "      <td>single</td>\n",
       "      <td>rented</td>\n",
       "      <td>no</td>\n",
       "      <td>Biomedical_Engineer</td>\n",
       "      <td>Pondicherry</td>\n",
       "      <td>Puducherry</td>\n",
       "      <td>5</td>\n",
       "      <td>11</td>\n",
       "      <td>1</td>\n",
       "    </tr>\n",
       "    <tr>\n",
       "      <th>29</th>\n",
       "      <td>30</td>\n",
       "      <td>4386333</td>\n",
       "      <td>31</td>\n",
       "      <td>16</td>\n",
       "      <td>single</td>\n",
       "      <td>rented</td>\n",
       "      <td>no</td>\n",
       "      <td>Physician</td>\n",
       "      <td>Shimoga</td>\n",
       "      <td>Karnataka</td>\n",
       "      <td>3</td>\n",
       "      <td>12</td>\n",
       "      <td>0</td>\n",
       "    </tr>\n",
       "    <tr>\n",
       "      <th>30</th>\n",
       "      <td>31</td>\n",
       "      <td>3939397</td>\n",
       "      <td>52</td>\n",
       "      <td>19</td>\n",
       "      <td>single</td>\n",
       "      <td>rented</td>\n",
       "      <td>yes</td>\n",
       "      <td>Flight_attendant</td>\n",
       "      <td>Chennai</td>\n",
       "      <td>Tamil_Nadu</td>\n",
       "      <td>3</td>\n",
       "      <td>10</td>\n",
       "      <td>0</td>\n",
       "    </tr>\n",
       "    <tr>\n",
       "      <th>31</th>\n",
       "      <td>32</td>\n",
       "      <td>6944134</td>\n",
       "      <td>59</td>\n",
       "      <td>5</td>\n",
       "      <td>single</td>\n",
       "      <td>owned</td>\n",
       "      <td>no</td>\n",
       "      <td>Graphic_Designer</td>\n",
       "      <td>Gulbarga</td>\n",
       "      <td>Karnataka</td>\n",
       "      <td>5</td>\n",
       "      <td>11</td>\n",
       "      <td>0</td>\n",
       "    </tr>\n",
       "    <tr>\n",
       "      <th>32</th>\n",
       "      <td>33</td>\n",
       "      <td>4128828</td>\n",
       "      <td>21</td>\n",
       "      <td>10</td>\n",
       "      <td>single</td>\n",
       "      <td>rented</td>\n",
       "      <td>no</td>\n",
       "      <td>Computer_hardware_engineer</td>\n",
       "      <td>Khammam</td>\n",
       "      <td>Telangana</td>\n",
       "      <td>10</td>\n",
       "      <td>12</td>\n",
       "      <td>0</td>\n",
       "    </tr>\n",
       "    <tr>\n",
       "      <th>33</th>\n",
       "      <td>34</td>\n",
       "      <td>5023035</td>\n",
       "      <td>26</td>\n",
       "      <td>10</td>\n",
       "      <td>single</td>\n",
       "      <td>rented</td>\n",
       "      <td>yes</td>\n",
       "      <td>Petroleum_Engineer</td>\n",
       "      <td>Madurai</td>\n",
       "      <td>Tamil_Nadu</td>\n",
       "      <td>9</td>\n",
       "      <td>13</td>\n",
       "      <td>0</td>\n",
       "    </tr>\n",
       "    <tr>\n",
       "      <th>34</th>\n",
       "      <td>35</td>\n",
       "      <td>9086933</td>\n",
       "      <td>55</td>\n",
       "      <td>7</td>\n",
       "      <td>single</td>\n",
       "      <td>rented</td>\n",
       "      <td>no</td>\n",
       "      <td>Air_traffic_controller</td>\n",
       "      <td>Saharanpur</td>\n",
       "      <td>Uttar_Pradesh</td>\n",
       "      <td>7</td>\n",
       "      <td>13</td>\n",
       "      <td>0</td>\n",
       "    </tr>\n",
       "    <tr>\n",
       "      <th>35</th>\n",
       "      <td>36</td>\n",
       "      <td>7537675</td>\n",
       "      <td>45</td>\n",
       "      <td>4</td>\n",
       "      <td>single</td>\n",
       "      <td>rented</td>\n",
       "      <td>no</td>\n",
       "      <td>Graphic_Designer</td>\n",
       "      <td>Gopalpur</td>\n",
       "      <td>West_Bengal</td>\n",
       "      <td>4</td>\n",
       "      <td>14</td>\n",
       "      <td>0</td>\n",
       "    </tr>\n",
       "    <tr>\n",
       "      <th>36</th>\n",
       "      <td>37</td>\n",
       "      <td>9625415</td>\n",
       "      <td>77</td>\n",
       "      <td>15</td>\n",
       "      <td>married</td>\n",
       "      <td>rented</td>\n",
       "      <td>no</td>\n",
       "      <td>Secretary</td>\n",
       "      <td>Amravati</td>\n",
       "      <td>Maharashtra</td>\n",
       "      <td>9</td>\n",
       "      <td>10</td>\n",
       "      <td>0</td>\n",
       "    </tr>\n",
       "    <tr>\n",
       "      <th>37</th>\n",
       "      <td>38</td>\n",
       "      <td>7904011</td>\n",
       "      <td>71</td>\n",
       "      <td>3</td>\n",
       "      <td>single</td>\n",
       "      <td>rented</td>\n",
       "      <td>no</td>\n",
       "      <td>Computer_operator</td>\n",
       "      <td>Udupi</td>\n",
       "      <td>Karnataka</td>\n",
       "      <td>3</td>\n",
       "      <td>11</td>\n",
       "      <td>0</td>\n",
       "    </tr>\n",
       "    <tr>\n",
       "      <th>38</th>\n",
       "      <td>39</td>\n",
       "      <td>3540135</td>\n",
       "      <td>78</td>\n",
       "      <td>4</td>\n",
       "      <td>single</td>\n",
       "      <td>rented</td>\n",
       "      <td>no</td>\n",
       "      <td>Biomedical_Engineer</td>\n",
       "      <td>Howrah</td>\n",
       "      <td>West_Bengal</td>\n",
       "      <td>4</td>\n",
       "      <td>11</td>\n",
       "      <td>0</td>\n",
       "    </tr>\n",
       "    <tr>\n",
       "      <th>39</th>\n",
       "      <td>40</td>\n",
       "      <td>8739032</td>\n",
       "      <td>55</td>\n",
       "      <td>3</td>\n",
       "      <td>married</td>\n",
       "      <td>rented</td>\n",
       "      <td>no</td>\n",
       "      <td>Politician</td>\n",
       "      <td>Aurangabad[39]</td>\n",
       "      <td>Bihar</td>\n",
       "      <td>3</td>\n",
       "      <td>14</td>\n",
       "      <td>0</td>\n",
       "    </tr>\n",
       "    <tr>\n",
       "      <th>40</th>\n",
       "      <td>41</td>\n",
       "      <td>3217258</td>\n",
       "      <td>23</td>\n",
       "      <td>12</td>\n",
       "      <td>single</td>\n",
       "      <td>rented</td>\n",
       "      <td>yes</td>\n",
       "      <td>Petroleum_Engineer</td>\n",
       "      <td>Hospet</td>\n",
       "      <td>Karnataka</td>\n",
       "      <td>8</td>\n",
       "      <td>10</td>\n",
       "      <td>0</td>\n",
       "    </tr>\n",
       "    <tr>\n",
       "      <th>41</th>\n",
       "      <td>42</td>\n",
       "      <td>2735428</td>\n",
       "      <td>72</td>\n",
       "      <td>20</td>\n",
       "      <td>single</td>\n",
       "      <td>rented</td>\n",
       "      <td>no</td>\n",
       "      <td>Surveyor</td>\n",
       "      <td>Shimla</td>\n",
       "      <td>Himachal_Pradesh</td>\n",
       "      <td>6</td>\n",
       "      <td>14</td>\n",
       "      <td>0</td>\n",
       "    </tr>\n",
       "    <tr>\n",
       "      <th>42</th>\n",
       "      <td>43</td>\n",
       "      <td>9760667</td>\n",
       "      <td>63</td>\n",
       "      <td>17</td>\n",
       "      <td>single</td>\n",
       "      <td>rented</td>\n",
       "      <td>no</td>\n",
       "      <td>Chartered_Accountant</td>\n",
       "      <td>Khandwa</td>\n",
       "      <td>Madhya_Pradesh</td>\n",
       "      <td>13</td>\n",
       "      <td>12</td>\n",
       "      <td>1</td>\n",
       "    </tr>\n",
       "    <tr>\n",
       "      <th>43</th>\n",
       "      <td>44</td>\n",
       "      <td>8390825</td>\n",
       "      <td>30</td>\n",
       "      <td>11</td>\n",
       "      <td>single</td>\n",
       "      <td>rented</td>\n",
       "      <td>no</td>\n",
       "      <td>Secretary</td>\n",
       "      <td>Bidhannagar</td>\n",
       "      <td>West_Bengal</td>\n",
       "      <td>7</td>\n",
       "      <td>10</td>\n",
       "      <td>0</td>\n",
       "    </tr>\n",
       "    <tr>\n",
       "      <th>44</th>\n",
       "      <td>45</td>\n",
       "      <td>9639445</td>\n",
       "      <td>45</td>\n",
       "      <td>9</td>\n",
       "      <td>single</td>\n",
       "      <td>rented</td>\n",
       "      <td>no</td>\n",
       "      <td>Technician</td>\n",
       "      <td>Bellary</td>\n",
       "      <td>Karnataka</td>\n",
       "      <td>9</td>\n",
       "      <td>10</td>\n",
       "      <td>1</td>\n",
       "    </tr>\n",
       "    <tr>\n",
       "      <th>45</th>\n",
       "      <td>46</td>\n",
       "      <td>6868118</td>\n",
       "      <td>25</td>\n",
       "      <td>16</td>\n",
       "      <td>single</td>\n",
       "      <td>rented</td>\n",
       "      <td>no</td>\n",
       "      <td>Secretary</td>\n",
       "      <td>Danapur</td>\n",
       "      <td>Bihar</td>\n",
       "      <td>13</td>\n",
       "      <td>13</td>\n",
       "      <td>1</td>\n",
       "    </tr>\n",
       "    <tr>\n",
       "      <th>46</th>\n",
       "      <td>47</td>\n",
       "      <td>2471915</td>\n",
       "      <td>73</td>\n",
       "      <td>18</td>\n",
       "      <td>single</td>\n",
       "      <td>rented</td>\n",
       "      <td>no</td>\n",
       "      <td>Chemical_engineer</td>\n",
       "      <td>Purnia[26]</td>\n",
       "      <td>Bihar</td>\n",
       "      <td>14</td>\n",
       "      <td>13</td>\n",
       "      <td>0</td>\n",
       "    </tr>\n",
       "    <tr>\n",
       "      <th>47</th>\n",
       "      <td>48</td>\n",
       "      <td>8477026</td>\n",
       "      <td>52</td>\n",
       "      <td>10</td>\n",
       "      <td>single</td>\n",
       "      <td>rented</td>\n",
       "      <td>no</td>\n",
       "      <td>Design_Engineer</td>\n",
       "      <td>Bijapur</td>\n",
       "      <td>Karnataka</td>\n",
       "      <td>10</td>\n",
       "      <td>10</td>\n",
       "      <td>0</td>\n",
       "    </tr>\n",
       "    <tr>\n",
       "      <th>48</th>\n",
       "      <td>49</td>\n",
       "      <td>8996641</td>\n",
       "      <td>75</td>\n",
       "      <td>12</td>\n",
       "      <td>single</td>\n",
       "      <td>rented</td>\n",
       "      <td>no</td>\n",
       "      <td>Microbiologist</td>\n",
       "      <td>Patiala</td>\n",
       "      <td>Punjab</td>\n",
       "      <td>12</td>\n",
       "      <td>13</td>\n",
       "      <td>0</td>\n",
       "    </tr>\n",
       "    <tr>\n",
       "      <th>49</th>\n",
       "      <td>50</td>\n",
       "      <td>4043791</td>\n",
       "      <td>48</td>\n",
       "      <td>18</td>\n",
       "      <td>single</td>\n",
       "      <td>rented</td>\n",
       "      <td>yes</td>\n",
       "      <td>Architect</td>\n",
       "      <td>Malda</td>\n",
       "      <td>West_Bengal</td>\n",
       "      <td>13</td>\n",
       "      <td>14</td>\n",
       "      <td>0</td>\n",
       "    </tr>\n",
       "  </tbody>\n",
       "</table>\n",
       "</div>"
      ],
      "text/plain": [
       "    Id   income  age  experience  married house_ownership car_ownership  \\\n",
       "0    1  1303835   23           3   single          rented            no   \n",
       "1    2  7574516   40          10   single          rented            no   \n",
       "2    3  3991815   66           4  married          rented            no   \n",
       "3    4  6256451   41           2   single          rented           yes   \n",
       "4    5  5768871   47          11   single          rented            no   \n",
       "5    6  6915937   64           0   single          rented            no   \n",
       "6    7  3954973   58          14  married          rented            no   \n",
       "7    8  1706172   33           2   single          rented            no   \n",
       "8    9  7566849   24          17   single          rented           yes   \n",
       "9   10  8964846   23          12   single          rented            no   \n",
       "10  11  4634682   78           7   single          rented            no   \n",
       "11  12  6623263   22           4   single          rented            no   \n",
       "12  13  9120988   28           9   single          rented            no   \n",
       "13  14  8043880   57          12   single          rented            no   \n",
       "14  15  9420838   48           6   single          rented            no   \n",
       "15  16  5694236   39           2  married          rented           yes   \n",
       "16  17  7315839   72           8  married          rented            no   \n",
       "17  18  3666346   56          12   single          rented            no   \n",
       "18  19  2241112   28           8   single          rented            no   \n",
       "19  20  5431918   40           1   single          rented            no   \n",
       "20  21  9225468   54          14   single          rented            no   \n",
       "21  22  6506739   50           4   single          rented            no   \n",
       "22  23  9157379   72          13   single          rented           yes   \n",
       "23  24  9236505   35          19   single          rented            no   \n",
       "24  25  1065465   23          15  married          rented            no   \n",
       "25  26  1797876   76          20   single    norent_noown            no   \n",
       "26  27  6063428   38           6  married          rented            no   \n",
       "27  28  9643150   24          13   single          rented            no   \n",
       "28  29  8832725   64           5   single          rented            no   \n",
       "29  30  4386333   31          16   single          rented            no   \n",
       "30  31  3939397   52          19   single          rented           yes   \n",
       "31  32  6944134   59           5   single           owned            no   \n",
       "32  33  4128828   21          10   single          rented            no   \n",
       "33  34  5023035   26          10   single          rented           yes   \n",
       "34  35  9086933   55           7   single          rented            no   \n",
       "35  36  7537675   45           4   single          rented            no   \n",
       "36  37  9625415   77          15  married          rented            no   \n",
       "37  38  7904011   71           3   single          rented            no   \n",
       "38  39  3540135   78           4   single          rented            no   \n",
       "39  40  8739032   55           3  married          rented            no   \n",
       "40  41  3217258   23          12   single          rented           yes   \n",
       "41  42  2735428   72          20   single          rented            no   \n",
       "42  43  9760667   63          17   single          rented            no   \n",
       "43  44  8390825   30          11   single          rented            no   \n",
       "44  45  9639445   45           9   single          rented            no   \n",
       "45  46  6868118   25          16   single          rented            no   \n",
       "46  47  2471915   73          18   single          rented            no   \n",
       "47  48  8477026   52          10   single          rented            no   \n",
       "48  49  8996641   75          12   single          rented            no   \n",
       "49  50  4043791   48          18   single          rented           yes   \n",
       "\n",
       "                    profession                 city             state  \\\n",
       "0          Mechanical_engineer                 Rewa    Madhya_Pradesh   \n",
       "1           Software_Developer             Parbhani       Maharashtra   \n",
       "2             Technical_writer            Alappuzha            Kerala   \n",
       "3           Software_Developer          Bhubaneswar            Odisha   \n",
       "4                Civil_servant  Tiruchirappalli[10]        Tamil_Nadu   \n",
       "5                Civil_servant              Jalgaon       Maharashtra   \n",
       "6                    Librarian             Tiruppur        Tamil_Nadu   \n",
       "7                    Economist             Jamnagar           Gujarat   \n",
       "8             Flight_attendant              Kota[6]         Rajasthan   \n",
       "9                    Architect           Karimnagar         Telangana   \n",
       "10            Flight_attendant          Hajipur[31]             Bihar   \n",
       "11                    Designer                Adoni    Andhra_Pradesh   \n",
       "12                   Physician            Erode[17]        Tamil_Nadu   \n",
       "13           Financial_Analyst               Kollam            Kerala   \n",
       "14            Technical_writer              Madurai        Tamil_Nadu   \n",
       "15                   Economist      Anantapuram[24]    Andhra_Pradesh   \n",
       "16      Air_traffic_controller            Kamarhati       West_Bengal   \n",
       "17                  Politician             Bhusawal       Maharashtra   \n",
       "18              Police_officer                Sirsa           Haryana   \n",
       "19                      Artist            Amaravati    Andhra_Pradesh   \n",
       "20                    Surveyor         Secunderabad         Telangana   \n",
       "21                  Politician            Ahmedabad           Gujarat   \n",
       "22             Design_Engineer                Ajmer         Rajasthan   \n",
       "23           Chemical_engineer               Ongole    Andhra_Pradesh   \n",
       "24               Hotel_Manager          Miryalaguda         Telangana   \n",
       "25         Mechanical_engineer            Erode[17]        Tamil_Nadu   \n",
       "26                     Dentist             Ambattur        Tamil_Nadu   \n",
       "27                    Comedian               Indore    Madhya_Pradesh   \n",
       "28         Biomedical_Engineer          Pondicherry        Puducherry   \n",
       "29                   Physician              Shimoga         Karnataka   \n",
       "30            Flight_attendant              Chennai        Tamil_Nadu   \n",
       "31            Graphic_Designer             Gulbarga         Karnataka   \n",
       "32  Computer_hardware_engineer              Khammam         Telangana   \n",
       "33          Petroleum_Engineer              Madurai        Tamil_Nadu   \n",
       "34      Air_traffic_controller           Saharanpur     Uttar_Pradesh   \n",
       "35            Graphic_Designer             Gopalpur       West_Bengal   \n",
       "36                   Secretary             Amravati       Maharashtra   \n",
       "37           Computer_operator                Udupi         Karnataka   \n",
       "38         Biomedical_Engineer               Howrah       West_Bengal   \n",
       "39                  Politician       Aurangabad[39]             Bihar   \n",
       "40          Petroleum_Engineer               Hospet         Karnataka   \n",
       "41                    Surveyor               Shimla  Himachal_Pradesh   \n",
       "42        Chartered_Accountant              Khandwa    Madhya_Pradesh   \n",
       "43                   Secretary          Bidhannagar       West_Bengal   \n",
       "44                  Technician              Bellary         Karnataka   \n",
       "45                   Secretary              Danapur             Bihar   \n",
       "46           Chemical_engineer           Purnia[26]             Bihar   \n",
       "47             Design_Engineer              Bijapur         Karnataka   \n",
       "48              Microbiologist              Patiala            Punjab   \n",
       "49                   Architect                Malda       West_Bengal   \n",
       "\n",
       "    current_job_years  current_house_years  risk_flag  \n",
       "0                   3                   13          0  \n",
       "1                   9                   13          0  \n",
       "2                   4                   10          0  \n",
       "3                   2                   12          1  \n",
       "4                   3                   14          1  \n",
       "5                   0                   12          0  \n",
       "6                   8                   12          0  \n",
       "7                   2                   14          0  \n",
       "8                  11                   11          0  \n",
       "9                   5                   13          0  \n",
       "10                  7                   12          0  \n",
       "11                  4                   14          0  \n",
       "12                  9                   12          0  \n",
       "13                  8                   10          0  \n",
       "14                  6                   10          1  \n",
       "15                  2                   10          0  \n",
       "16                  8                   14          0  \n",
       "17                 12                   11          1  \n",
       "18                  6                   14          0  \n",
       "19                  1                   14          0  \n",
       "20                  8                   10          0  \n",
       "21                  4                   11          0  \n",
       "22                  9                   10          0  \n",
       "23                  6                   14          0  \n",
       "24                  4                   12          0  \n",
       "25                 11                   14          0  \n",
       "26                  6                   13          0  \n",
       "27                  6                   14          0  \n",
       "28                  5                   11          1  \n",
       "29                  3                   12          0  \n",
       "30                  3                   10          0  \n",
       "31                  5                   11          0  \n",
       "32                 10                   12          0  \n",
       "33                  9                   13          0  \n",
       "34                  7                   13          0  \n",
       "35                  4                   14          0  \n",
       "36                  9                   10          0  \n",
       "37                  3                   11          0  \n",
       "38                  4                   11          0  \n",
       "39                  3                   14          0  \n",
       "40                  8                   10          0  \n",
       "41                  6                   14          0  \n",
       "42                 13                   12          1  \n",
       "43                  7                   10          0  \n",
       "44                  9                   10          1  \n",
       "45                 13                   13          1  \n",
       "46                 14                   13          0  \n",
       "47                 10                   10          0  \n",
       "48                 12                   13          0  \n",
       "49                 13                   14          0  "
      ]
     },
     "execution_count": 11,
     "metadata": {},
     "output_type": "execute_result"
    }
   ],
   "source": [
    "df_train.head(50)"
   ]
  },
  {
   "cell_type": "code",
   "execution_count": 12,
   "id": "cultural-collectible",
   "metadata": {},
   "outputs": [
    {
     "data": {
      "text/plain": [
       "(252000, 13)"
      ]
     },
     "execution_count": 12,
     "metadata": {},
     "output_type": "execute_result"
    }
   ],
   "source": [
    "df_train.shape"
   ]
  },
  {
   "cell_type": "code",
   "execution_count": 13,
   "id": "purple-writing",
   "metadata": {},
   "outputs": [
    {
     "data": {
      "text/html": [
       "<div>\n",
       "<style scoped>\n",
       "    .dataframe tbody tr th:only-of-type {\n",
       "        vertical-align: middle;\n",
       "    }\n",
       "\n",
       "    .dataframe tbody tr th {\n",
       "        vertical-align: top;\n",
       "    }\n",
       "\n",
       "    .dataframe thead th {\n",
       "        text-align: right;\n",
       "    }\n",
       "</style>\n",
       "<table border=\"1\" class=\"dataframe\">\n",
       "  <thead>\n",
       "    <tr style=\"text-align: right;\">\n",
       "      <th></th>\n",
       "      <th>Id</th>\n",
       "      <th>income</th>\n",
       "      <th>age</th>\n",
       "      <th>experience</th>\n",
       "      <th>married</th>\n",
       "      <th>house_ownership</th>\n",
       "      <th>car_ownership</th>\n",
       "      <th>profession</th>\n",
       "      <th>city</th>\n",
       "      <th>state</th>\n",
       "      <th>current_job_years</th>\n",
       "      <th>current_house_years</th>\n",
       "      <th>risk_flag</th>\n",
       "    </tr>\n",
       "  </thead>\n",
       "  <tbody>\n",
       "    <tr>\n",
       "      <th>251960</th>\n",
       "      <td>251961</td>\n",
       "      <td>5128486</td>\n",
       "      <td>76</td>\n",
       "      <td>8</td>\n",
       "      <td>single</td>\n",
       "      <td>owned</td>\n",
       "      <td>yes</td>\n",
       "      <td>Graphic_Designer</td>\n",
       "      <td>Nandyal</td>\n",
       "      <td>Andhra_Pradesh</td>\n",
       "      <td>8</td>\n",
       "      <td>13</td>\n",
       "      <td>1</td>\n",
       "    </tr>\n",
       "    <tr>\n",
       "      <th>251961</th>\n",
       "      <td>251962</td>\n",
       "      <td>2358249</td>\n",
       "      <td>52</td>\n",
       "      <td>5</td>\n",
       "      <td>single</td>\n",
       "      <td>rented</td>\n",
       "      <td>no</td>\n",
       "      <td>Police_officer</td>\n",
       "      <td>Suryapet</td>\n",
       "      <td>Telangana</td>\n",
       "      <td>5</td>\n",
       "      <td>14</td>\n",
       "      <td>0</td>\n",
       "    </tr>\n",
       "    <tr>\n",
       "      <th>251962</th>\n",
       "      <td>251963</td>\n",
       "      <td>1696985</td>\n",
       "      <td>41</td>\n",
       "      <td>11</td>\n",
       "      <td>single</td>\n",
       "      <td>rented</td>\n",
       "      <td>yes</td>\n",
       "      <td>Flight_attendant</td>\n",
       "      <td>Patiala</td>\n",
       "      <td>Punjab</td>\n",
       "      <td>6</td>\n",
       "      <td>12</td>\n",
       "      <td>0</td>\n",
       "    </tr>\n",
       "    <tr>\n",
       "      <th>251963</th>\n",
       "      <td>251964</td>\n",
       "      <td>7881308</td>\n",
       "      <td>29</td>\n",
       "      <td>5</td>\n",
       "      <td>single</td>\n",
       "      <td>norent_noown</td>\n",
       "      <td>yes</td>\n",
       "      <td>Politician</td>\n",
       "      <td>Serampore</td>\n",
       "      <td>West_Bengal</td>\n",
       "      <td>5</td>\n",
       "      <td>14</td>\n",
       "      <td>0</td>\n",
       "    </tr>\n",
       "    <tr>\n",
       "      <th>251964</th>\n",
       "      <td>251965</td>\n",
       "      <td>520057</td>\n",
       "      <td>40</td>\n",
       "      <td>13</td>\n",
       "      <td>single</td>\n",
       "      <td>rented</td>\n",
       "      <td>yes</td>\n",
       "      <td>Analyst</td>\n",
       "      <td>Shahjahanpur</td>\n",
       "      <td>Uttar_Pradesh</td>\n",
       "      <td>13</td>\n",
       "      <td>14</td>\n",
       "      <td>0</td>\n",
       "    </tr>\n",
       "    <tr>\n",
       "      <th>251965</th>\n",
       "      <td>251966</td>\n",
       "      <td>2666519</td>\n",
       "      <td>47</td>\n",
       "      <td>20</td>\n",
       "      <td>married</td>\n",
       "      <td>rented</td>\n",
       "      <td>no</td>\n",
       "      <td>Comedian</td>\n",
       "      <td>Noida</td>\n",
       "      <td>Uttar_Pradesh</td>\n",
       "      <td>3</td>\n",
       "      <td>11</td>\n",
       "      <td>0</td>\n",
       "    </tr>\n",
       "    <tr>\n",
       "      <th>251966</th>\n",
       "      <td>251967</td>\n",
       "      <td>9834384</td>\n",
       "      <td>28</td>\n",
       "      <td>13</td>\n",
       "      <td>single</td>\n",
       "      <td>rented</td>\n",
       "      <td>no</td>\n",
       "      <td>Dentist</td>\n",
       "      <td>Hazaribagh</td>\n",
       "      <td>Jharkhand</td>\n",
       "      <td>5</td>\n",
       "      <td>14</td>\n",
       "      <td>1</td>\n",
       "    </tr>\n",
       "    <tr>\n",
       "      <th>251967</th>\n",
       "      <td>251968</td>\n",
       "      <td>1036851</td>\n",
       "      <td>23</td>\n",
       "      <td>9</td>\n",
       "      <td>single</td>\n",
       "      <td>rented</td>\n",
       "      <td>no</td>\n",
       "      <td>Technical_writer</td>\n",
       "      <td>Pondicherry</td>\n",
       "      <td>Puducherry</td>\n",
       "      <td>6</td>\n",
       "      <td>10</td>\n",
       "      <td>0</td>\n",
       "    </tr>\n",
       "    <tr>\n",
       "      <th>251968</th>\n",
       "      <td>251969</td>\n",
       "      <td>9600165</td>\n",
       "      <td>68</td>\n",
       "      <td>13</td>\n",
       "      <td>single</td>\n",
       "      <td>rented</td>\n",
       "      <td>yes</td>\n",
       "      <td>Secretary</td>\n",
       "      <td>Loni</td>\n",
       "      <td>Uttar_Pradesh</td>\n",
       "      <td>13</td>\n",
       "      <td>14</td>\n",
       "      <td>1</td>\n",
       "    </tr>\n",
       "    <tr>\n",
       "      <th>251969</th>\n",
       "      <td>251970</td>\n",
       "      <td>5198892</td>\n",
       "      <td>70</td>\n",
       "      <td>9</td>\n",
       "      <td>single</td>\n",
       "      <td>rented</td>\n",
       "      <td>no</td>\n",
       "      <td>Secretary</td>\n",
       "      <td>Dehradun</td>\n",
       "      <td>Uttarakhand</td>\n",
       "      <td>9</td>\n",
       "      <td>11</td>\n",
       "      <td>0</td>\n",
       "    </tr>\n",
       "    <tr>\n",
       "      <th>251970</th>\n",
       "      <td>251971</td>\n",
       "      <td>7692834</td>\n",
       "      <td>23</td>\n",
       "      <td>19</td>\n",
       "      <td>single</td>\n",
       "      <td>rented</td>\n",
       "      <td>no</td>\n",
       "      <td>Flight_attendant</td>\n",
       "      <td>Chinsurah</td>\n",
       "      <td>West_Bengal</td>\n",
       "      <td>12</td>\n",
       "      <td>12</td>\n",
       "      <td>0</td>\n",
       "    </tr>\n",
       "    <tr>\n",
       "      <th>251971</th>\n",
       "      <td>251972</td>\n",
       "      <td>8471156</td>\n",
       "      <td>71</td>\n",
       "      <td>17</td>\n",
       "      <td>single</td>\n",
       "      <td>rented</td>\n",
       "      <td>yes</td>\n",
       "      <td>Drafter</td>\n",
       "      <td>Ujjain</td>\n",
       "      <td>Madhya_Pradesh</td>\n",
       "      <td>5</td>\n",
       "      <td>14</td>\n",
       "      <td>0</td>\n",
       "    </tr>\n",
       "    <tr>\n",
       "      <th>251972</th>\n",
       "      <td>251973</td>\n",
       "      <td>1406948</td>\n",
       "      <td>44</td>\n",
       "      <td>5</td>\n",
       "      <td>single</td>\n",
       "      <td>rented</td>\n",
       "      <td>yes</td>\n",
       "      <td>Microbiologist</td>\n",
       "      <td>Bhalswa_Jahangir_Pur</td>\n",
       "      <td>Delhi</td>\n",
       "      <td>5</td>\n",
       "      <td>10</td>\n",
       "      <td>0</td>\n",
       "    </tr>\n",
       "    <tr>\n",
       "      <th>251973</th>\n",
       "      <td>251974</td>\n",
       "      <td>1244622</td>\n",
       "      <td>35</td>\n",
       "      <td>15</td>\n",
       "      <td>single</td>\n",
       "      <td>rented</td>\n",
       "      <td>no</td>\n",
       "      <td>Psychologist</td>\n",
       "      <td>Alwar</td>\n",
       "      <td>Rajasthan</td>\n",
       "      <td>3</td>\n",
       "      <td>11</td>\n",
       "      <td>1</td>\n",
       "    </tr>\n",
       "    <tr>\n",
       "      <th>251974</th>\n",
       "      <td>251975</td>\n",
       "      <td>7933470</td>\n",
       "      <td>64</td>\n",
       "      <td>2</td>\n",
       "      <td>single</td>\n",
       "      <td>rented</td>\n",
       "      <td>no</td>\n",
       "      <td>Secretary</td>\n",
       "      <td>Aizawl</td>\n",
       "      <td>Mizoram</td>\n",
       "      <td>2</td>\n",
       "      <td>11</td>\n",
       "      <td>0</td>\n",
       "    </tr>\n",
       "    <tr>\n",
       "      <th>251975</th>\n",
       "      <td>251976</td>\n",
       "      <td>2818775</td>\n",
       "      <td>56</td>\n",
       "      <td>13</td>\n",
       "      <td>single</td>\n",
       "      <td>rented</td>\n",
       "      <td>no</td>\n",
       "      <td>Surveyor</td>\n",
       "      <td>Madanapalle</td>\n",
       "      <td>Andhra_Pradesh</td>\n",
       "      <td>9</td>\n",
       "      <td>14</td>\n",
       "      <td>0</td>\n",
       "    </tr>\n",
       "    <tr>\n",
       "      <th>251976</th>\n",
       "      <td>251977</td>\n",
       "      <td>8577091</td>\n",
       "      <td>22</td>\n",
       "      <td>19</td>\n",
       "      <td>single</td>\n",
       "      <td>rented</td>\n",
       "      <td>no</td>\n",
       "      <td>Economist</td>\n",
       "      <td>Akola</td>\n",
       "      <td>Maharashtra</td>\n",
       "      <td>12</td>\n",
       "      <td>13</td>\n",
       "      <td>0</td>\n",
       "    </tr>\n",
       "    <tr>\n",
       "      <th>251977</th>\n",
       "      <td>251978</td>\n",
       "      <td>1330613</td>\n",
       "      <td>63</td>\n",
       "      <td>19</td>\n",
       "      <td>single</td>\n",
       "      <td>rented</td>\n",
       "      <td>no</td>\n",
       "      <td>Engineer</td>\n",
       "      <td>Purnia[26]</td>\n",
       "      <td>Bihar</td>\n",
       "      <td>13</td>\n",
       "      <td>12</td>\n",
       "      <td>1</td>\n",
       "    </tr>\n",
       "    <tr>\n",
       "      <th>251978</th>\n",
       "      <td>251979</td>\n",
       "      <td>4828696</td>\n",
       "      <td>58</td>\n",
       "      <td>19</td>\n",
       "      <td>single</td>\n",
       "      <td>rented</td>\n",
       "      <td>yes</td>\n",
       "      <td>Police_officer</td>\n",
       "      <td>Nandyal</td>\n",
       "      <td>Andhra_Pradesh</td>\n",
       "      <td>12</td>\n",
       "      <td>14</td>\n",
       "      <td>0</td>\n",
       "    </tr>\n",
       "    <tr>\n",
       "      <th>251979</th>\n",
       "      <td>251980</td>\n",
       "      <td>944374</td>\n",
       "      <td>75</td>\n",
       "      <td>13</td>\n",
       "      <td>single</td>\n",
       "      <td>rented</td>\n",
       "      <td>yes</td>\n",
       "      <td>Microbiologist</td>\n",
       "      <td>Korba</td>\n",
       "      <td>Chhattisgarh</td>\n",
       "      <td>12</td>\n",
       "      <td>14</td>\n",
       "      <td>0</td>\n",
       "    </tr>\n",
       "    <tr>\n",
       "      <th>251980</th>\n",
       "      <td>251981</td>\n",
       "      <td>617965</td>\n",
       "      <td>69</td>\n",
       "      <td>9</td>\n",
       "      <td>single</td>\n",
       "      <td>rented</td>\n",
       "      <td>no</td>\n",
       "      <td>Magistrate</td>\n",
       "      <td>Panipat</td>\n",
       "      <td>Haryana</td>\n",
       "      <td>4</td>\n",
       "      <td>14</td>\n",
       "      <td>0</td>\n",
       "    </tr>\n",
       "    <tr>\n",
       "      <th>251981</th>\n",
       "      <td>251982</td>\n",
       "      <td>1796713</td>\n",
       "      <td>47</td>\n",
       "      <td>2</td>\n",
       "      <td>single</td>\n",
       "      <td>rented</td>\n",
       "      <td>no</td>\n",
       "      <td>Technician</td>\n",
       "      <td>Kolhapur</td>\n",
       "      <td>Maharashtra</td>\n",
       "      <td>2</td>\n",
       "      <td>12</td>\n",
       "      <td>1</td>\n",
       "    </tr>\n",
       "    <tr>\n",
       "      <th>251982</th>\n",
       "      <td>251983</td>\n",
       "      <td>3182290</td>\n",
       "      <td>52</td>\n",
       "      <td>2</td>\n",
       "      <td>single</td>\n",
       "      <td>rented</td>\n",
       "      <td>no</td>\n",
       "      <td>Drafter</td>\n",
       "      <td>Naihati</td>\n",
       "      <td>West_Bengal</td>\n",
       "      <td>2</td>\n",
       "      <td>10</td>\n",
       "      <td>1</td>\n",
       "    </tr>\n",
       "    <tr>\n",
       "      <th>251983</th>\n",
       "      <td>251984</td>\n",
       "      <td>1759752</td>\n",
       "      <td>37</td>\n",
       "      <td>17</td>\n",
       "      <td>single</td>\n",
       "      <td>rented</td>\n",
       "      <td>no</td>\n",
       "      <td>Technical_writer</td>\n",
       "      <td>Ahmednagar</td>\n",
       "      <td>Maharashtra</td>\n",
       "      <td>14</td>\n",
       "      <td>13</td>\n",
       "      <td>0</td>\n",
       "    </tr>\n",
       "    <tr>\n",
       "      <th>251984</th>\n",
       "      <td>251985</td>\n",
       "      <td>1826668</td>\n",
       "      <td>78</td>\n",
       "      <td>6</td>\n",
       "      <td>single</td>\n",
       "      <td>rented</td>\n",
       "      <td>no</td>\n",
       "      <td>Technology_specialist</td>\n",
       "      <td>Kulti</td>\n",
       "      <td>West_Bengal</td>\n",
       "      <td>6</td>\n",
       "      <td>11</td>\n",
       "      <td>0</td>\n",
       "    </tr>\n",
       "    <tr>\n",
       "      <th>251985</th>\n",
       "      <td>251986</td>\n",
       "      <td>3509299</td>\n",
       "      <td>71</td>\n",
       "      <td>16</td>\n",
       "      <td>single</td>\n",
       "      <td>owned</td>\n",
       "      <td>no</td>\n",
       "      <td>Flight_attendant</td>\n",
       "      <td>Motihari[34]</td>\n",
       "      <td>Bihar</td>\n",
       "      <td>8</td>\n",
       "      <td>14</td>\n",
       "      <td>0</td>\n",
       "    </tr>\n",
       "    <tr>\n",
       "      <th>251986</th>\n",
       "      <td>251987</td>\n",
       "      <td>9984814</td>\n",
       "      <td>62</td>\n",
       "      <td>6</td>\n",
       "      <td>single</td>\n",
       "      <td>rented</td>\n",
       "      <td>no</td>\n",
       "      <td>Computer_hardware_engineer</td>\n",
       "      <td>Mathura</td>\n",
       "      <td>Uttar_Pradesh</td>\n",
       "      <td>6</td>\n",
       "      <td>10</td>\n",
       "      <td>0</td>\n",
       "    </tr>\n",
       "    <tr>\n",
       "      <th>251987</th>\n",
       "      <td>251988</td>\n",
       "      <td>6200535</td>\n",
       "      <td>72</td>\n",
       "      <td>6</td>\n",
       "      <td>single</td>\n",
       "      <td>rented</td>\n",
       "      <td>no</td>\n",
       "      <td>Physician</td>\n",
       "      <td>Sangli-Miraj_&amp;_Kupwad</td>\n",
       "      <td>Maharashtra</td>\n",
       "      <td>6</td>\n",
       "      <td>12</td>\n",
       "      <td>0</td>\n",
       "    </tr>\n",
       "    <tr>\n",
       "      <th>251988</th>\n",
       "      <td>251989</td>\n",
       "      <td>8555531</td>\n",
       "      <td>68</td>\n",
       "      <td>7</td>\n",
       "      <td>single</td>\n",
       "      <td>rented</td>\n",
       "      <td>no</td>\n",
       "      <td>Dentist</td>\n",
       "      <td>Unnao</td>\n",
       "      <td>Uttar_Pradesh</td>\n",
       "      <td>7</td>\n",
       "      <td>11</td>\n",
       "      <td>0</td>\n",
       "    </tr>\n",
       "    <tr>\n",
       "      <th>251989</th>\n",
       "      <td>251990</td>\n",
       "      <td>8956220</td>\n",
       "      <td>47</td>\n",
       "      <td>9</td>\n",
       "      <td>single</td>\n",
       "      <td>rented</td>\n",
       "      <td>no</td>\n",
       "      <td>Artist</td>\n",
       "      <td>Vadodara</td>\n",
       "      <td>Gujarat</td>\n",
       "      <td>9</td>\n",
       "      <td>14</td>\n",
       "      <td>0</td>\n",
       "    </tr>\n",
       "    <tr>\n",
       "      <th>251990</th>\n",
       "      <td>251991</td>\n",
       "      <td>349066</td>\n",
       "      <td>68</td>\n",
       "      <td>4</td>\n",
       "      <td>single</td>\n",
       "      <td>rented</td>\n",
       "      <td>no</td>\n",
       "      <td>Technical_writer</td>\n",
       "      <td>Madhyamgram</td>\n",
       "      <td>West_Bengal</td>\n",
       "      <td>4</td>\n",
       "      <td>11</td>\n",
       "      <td>0</td>\n",
       "    </tr>\n",
       "    <tr>\n",
       "      <th>251991</th>\n",
       "      <td>251992</td>\n",
       "      <td>6828311</td>\n",
       "      <td>36</td>\n",
       "      <td>11</td>\n",
       "      <td>single</td>\n",
       "      <td>owned</td>\n",
       "      <td>no</td>\n",
       "      <td>Designer</td>\n",
       "      <td>Nagpur</td>\n",
       "      <td>Maharashtra</td>\n",
       "      <td>11</td>\n",
       "      <td>13</td>\n",
       "      <td>0</td>\n",
       "    </tr>\n",
       "    <tr>\n",
       "      <th>251992</th>\n",
       "      <td>251993</td>\n",
       "      <td>7551745</td>\n",
       "      <td>57</td>\n",
       "      <td>7</td>\n",
       "      <td>married</td>\n",
       "      <td>rented</td>\n",
       "      <td>no</td>\n",
       "      <td>Secretary</td>\n",
       "      <td>Nadiad</td>\n",
       "      <td>Gujarat</td>\n",
       "      <td>4</td>\n",
       "      <td>12</td>\n",
       "      <td>0</td>\n",
       "    </tr>\n",
       "    <tr>\n",
       "      <th>251993</th>\n",
       "      <td>251994</td>\n",
       "      <td>8141027</td>\n",
       "      <td>60</td>\n",
       "      <td>10</td>\n",
       "      <td>single</td>\n",
       "      <td>rented</td>\n",
       "      <td>no</td>\n",
       "      <td>Secretary</td>\n",
       "      <td>Bhusawal</td>\n",
       "      <td>Maharashtra</td>\n",
       "      <td>9</td>\n",
       "      <td>13</td>\n",
       "      <td>1</td>\n",
       "    </tr>\n",
       "    <tr>\n",
       "      <th>251994</th>\n",
       "      <td>251995</td>\n",
       "      <td>7215678</td>\n",
       "      <td>27</td>\n",
       "      <td>8</td>\n",
       "      <td>single</td>\n",
       "      <td>rented</td>\n",
       "      <td>no</td>\n",
       "      <td>Aviator</td>\n",
       "      <td>Satna</td>\n",
       "      <td>Madhya_Pradesh</td>\n",
       "      <td>8</td>\n",
       "      <td>10</td>\n",
       "      <td>0</td>\n",
       "    </tr>\n",
       "    <tr>\n",
       "      <th>251995</th>\n",
       "      <td>251996</td>\n",
       "      <td>8154883</td>\n",
       "      <td>43</td>\n",
       "      <td>13</td>\n",
       "      <td>single</td>\n",
       "      <td>rented</td>\n",
       "      <td>no</td>\n",
       "      <td>Surgeon</td>\n",
       "      <td>Kolkata</td>\n",
       "      <td>West_Bengal</td>\n",
       "      <td>6</td>\n",
       "      <td>11</td>\n",
       "      <td>0</td>\n",
       "    </tr>\n",
       "    <tr>\n",
       "      <th>251996</th>\n",
       "      <td>251997</td>\n",
       "      <td>2843572</td>\n",
       "      <td>26</td>\n",
       "      <td>10</td>\n",
       "      <td>single</td>\n",
       "      <td>rented</td>\n",
       "      <td>no</td>\n",
       "      <td>Army_officer</td>\n",
       "      <td>Rewa</td>\n",
       "      <td>Madhya_Pradesh</td>\n",
       "      <td>6</td>\n",
       "      <td>11</td>\n",
       "      <td>0</td>\n",
       "    </tr>\n",
       "    <tr>\n",
       "      <th>251997</th>\n",
       "      <td>251998</td>\n",
       "      <td>4522448</td>\n",
       "      <td>46</td>\n",
       "      <td>7</td>\n",
       "      <td>single</td>\n",
       "      <td>rented</td>\n",
       "      <td>no</td>\n",
       "      <td>Design_Engineer</td>\n",
       "      <td>Kalyan-Dombivli</td>\n",
       "      <td>Maharashtra</td>\n",
       "      <td>7</td>\n",
       "      <td>12</td>\n",
       "      <td>0</td>\n",
       "    </tr>\n",
       "    <tr>\n",
       "      <th>251998</th>\n",
       "      <td>251999</td>\n",
       "      <td>6507128</td>\n",
       "      <td>45</td>\n",
       "      <td>0</td>\n",
       "      <td>single</td>\n",
       "      <td>rented</td>\n",
       "      <td>no</td>\n",
       "      <td>Graphic_Designer</td>\n",
       "      <td>Pondicherry</td>\n",
       "      <td>Puducherry</td>\n",
       "      <td>0</td>\n",
       "      <td>10</td>\n",
       "      <td>0</td>\n",
       "    </tr>\n",
       "    <tr>\n",
       "      <th>251999</th>\n",
       "      <td>252000</td>\n",
       "      <td>9070230</td>\n",
       "      <td>70</td>\n",
       "      <td>17</td>\n",
       "      <td>single</td>\n",
       "      <td>rented</td>\n",
       "      <td>no</td>\n",
       "      <td>Statistician</td>\n",
       "      <td>Avadi</td>\n",
       "      <td>Tamil_Nadu</td>\n",
       "      <td>7</td>\n",
       "      <td>11</td>\n",
       "      <td>0</td>\n",
       "    </tr>\n",
       "  </tbody>\n",
       "</table>\n",
       "</div>"
      ],
      "text/plain": [
       "            Id   income  age  experience  married house_ownership  \\\n",
       "251960  251961  5128486   76           8   single           owned   \n",
       "251961  251962  2358249   52           5   single          rented   \n",
       "251962  251963  1696985   41          11   single          rented   \n",
       "251963  251964  7881308   29           5   single    norent_noown   \n",
       "251964  251965   520057   40          13   single          rented   \n",
       "251965  251966  2666519   47          20  married          rented   \n",
       "251966  251967  9834384   28          13   single          rented   \n",
       "251967  251968  1036851   23           9   single          rented   \n",
       "251968  251969  9600165   68          13   single          rented   \n",
       "251969  251970  5198892   70           9   single          rented   \n",
       "251970  251971  7692834   23          19   single          rented   \n",
       "251971  251972  8471156   71          17   single          rented   \n",
       "251972  251973  1406948   44           5   single          rented   \n",
       "251973  251974  1244622   35          15   single          rented   \n",
       "251974  251975  7933470   64           2   single          rented   \n",
       "251975  251976  2818775   56          13   single          rented   \n",
       "251976  251977  8577091   22          19   single          rented   \n",
       "251977  251978  1330613   63          19   single          rented   \n",
       "251978  251979  4828696   58          19   single          rented   \n",
       "251979  251980   944374   75          13   single          rented   \n",
       "251980  251981   617965   69           9   single          rented   \n",
       "251981  251982  1796713   47           2   single          rented   \n",
       "251982  251983  3182290   52           2   single          rented   \n",
       "251983  251984  1759752   37          17   single          rented   \n",
       "251984  251985  1826668   78           6   single          rented   \n",
       "251985  251986  3509299   71          16   single           owned   \n",
       "251986  251987  9984814   62           6   single          rented   \n",
       "251987  251988  6200535   72           6   single          rented   \n",
       "251988  251989  8555531   68           7   single          rented   \n",
       "251989  251990  8956220   47           9   single          rented   \n",
       "251990  251991   349066   68           4   single          rented   \n",
       "251991  251992  6828311   36          11   single           owned   \n",
       "251992  251993  7551745   57           7  married          rented   \n",
       "251993  251994  8141027   60          10   single          rented   \n",
       "251994  251995  7215678   27           8   single          rented   \n",
       "251995  251996  8154883   43          13   single          rented   \n",
       "251996  251997  2843572   26          10   single          rented   \n",
       "251997  251998  4522448   46           7   single          rented   \n",
       "251998  251999  6507128   45           0   single          rented   \n",
       "251999  252000  9070230   70          17   single          rented   \n",
       "\n",
       "       car_ownership                  profession                   city  \\\n",
       "251960           yes            Graphic_Designer                Nandyal   \n",
       "251961            no              Police_officer               Suryapet   \n",
       "251962           yes            Flight_attendant                Patiala   \n",
       "251963           yes                  Politician              Serampore   \n",
       "251964           yes                     Analyst           Shahjahanpur   \n",
       "251965            no                    Comedian                  Noida   \n",
       "251966            no                     Dentist             Hazaribagh   \n",
       "251967            no            Technical_writer            Pondicherry   \n",
       "251968           yes                   Secretary                   Loni   \n",
       "251969            no                   Secretary               Dehradun   \n",
       "251970            no            Flight_attendant              Chinsurah   \n",
       "251971           yes                     Drafter                 Ujjain   \n",
       "251972           yes              Microbiologist   Bhalswa_Jahangir_Pur   \n",
       "251973            no                Psychologist                  Alwar   \n",
       "251974            no                   Secretary                 Aizawl   \n",
       "251975            no                    Surveyor            Madanapalle   \n",
       "251976            no                   Economist                  Akola   \n",
       "251977            no                    Engineer             Purnia[26]   \n",
       "251978           yes              Police_officer                Nandyal   \n",
       "251979           yes              Microbiologist                  Korba   \n",
       "251980            no                  Magistrate                Panipat   \n",
       "251981            no                  Technician               Kolhapur   \n",
       "251982            no                     Drafter                Naihati   \n",
       "251983            no            Technical_writer             Ahmednagar   \n",
       "251984            no       Technology_specialist                  Kulti   \n",
       "251985            no            Flight_attendant           Motihari[34]   \n",
       "251986            no  Computer_hardware_engineer                Mathura   \n",
       "251987            no                   Physician  Sangli-Miraj_&_Kupwad   \n",
       "251988            no                     Dentist                  Unnao   \n",
       "251989            no                      Artist               Vadodara   \n",
       "251990            no            Technical_writer            Madhyamgram   \n",
       "251991            no                    Designer                 Nagpur   \n",
       "251992            no                   Secretary                 Nadiad   \n",
       "251993            no                   Secretary               Bhusawal   \n",
       "251994            no                     Aviator                  Satna   \n",
       "251995            no                     Surgeon                Kolkata   \n",
       "251996            no                Army_officer                   Rewa   \n",
       "251997            no             Design_Engineer        Kalyan-Dombivli   \n",
       "251998            no            Graphic_Designer            Pondicherry   \n",
       "251999            no                Statistician                  Avadi   \n",
       "\n",
       "                 state  current_job_years  current_house_years  risk_flag  \n",
       "251960  Andhra_Pradesh                  8                   13          1  \n",
       "251961       Telangana                  5                   14          0  \n",
       "251962          Punjab                  6                   12          0  \n",
       "251963     West_Bengal                  5                   14          0  \n",
       "251964   Uttar_Pradesh                 13                   14          0  \n",
       "251965   Uttar_Pradesh                  3                   11          0  \n",
       "251966       Jharkhand                  5                   14          1  \n",
       "251967      Puducherry                  6                   10          0  \n",
       "251968   Uttar_Pradesh                 13                   14          1  \n",
       "251969     Uttarakhand                  9                   11          0  \n",
       "251970     West_Bengal                 12                   12          0  \n",
       "251971  Madhya_Pradesh                  5                   14          0  \n",
       "251972           Delhi                  5                   10          0  \n",
       "251973       Rajasthan                  3                   11          1  \n",
       "251974         Mizoram                  2                   11          0  \n",
       "251975  Andhra_Pradesh                  9                   14          0  \n",
       "251976     Maharashtra                 12                   13          0  \n",
       "251977           Bihar                 13                   12          1  \n",
       "251978  Andhra_Pradesh                 12                   14          0  \n",
       "251979    Chhattisgarh                 12                   14          0  \n",
       "251980         Haryana                  4                   14          0  \n",
       "251981     Maharashtra                  2                   12          1  \n",
       "251982     West_Bengal                  2                   10          1  \n",
       "251983     Maharashtra                 14                   13          0  \n",
       "251984     West_Bengal                  6                   11          0  \n",
       "251985           Bihar                  8                   14          0  \n",
       "251986   Uttar_Pradesh                  6                   10          0  \n",
       "251987     Maharashtra                  6                   12          0  \n",
       "251988   Uttar_Pradesh                  7                   11          0  \n",
       "251989         Gujarat                  9                   14          0  \n",
       "251990     West_Bengal                  4                   11          0  \n",
       "251991     Maharashtra                 11                   13          0  \n",
       "251992         Gujarat                  4                   12          0  \n",
       "251993     Maharashtra                  9                   13          1  \n",
       "251994  Madhya_Pradesh                  8                   10          0  \n",
       "251995     West_Bengal                  6                   11          0  \n",
       "251996  Madhya_Pradesh                  6                   11          0  \n",
       "251997     Maharashtra                  7                   12          0  \n",
       "251998      Puducherry                  0                   10          0  \n",
       "251999      Tamil_Nadu                  7                   11          0  "
      ]
     },
     "execution_count": 13,
     "metadata": {},
     "output_type": "execute_result"
    }
   ],
   "source": [
    "df_train.tail(40)"
   ]
  },
  {
   "cell_type": "code",
   "execution_count": 14,
   "id": "statistical-pharmaceutical",
   "metadata": {},
   "outputs": [
    {
     "data": {
      "text/html": [
       "<div>\n",
       "<style scoped>\n",
       "    .dataframe tbody tr th:only-of-type {\n",
       "        vertical-align: middle;\n",
       "    }\n",
       "\n",
       "    .dataframe tbody tr th {\n",
       "        vertical-align: top;\n",
       "    }\n",
       "\n",
       "    .dataframe thead th {\n",
       "        text-align: right;\n",
       "    }\n",
       "</style>\n",
       "<table border=\"1\" class=\"dataframe\">\n",
       "  <thead>\n",
       "    <tr style=\"text-align: right;\">\n",
       "      <th></th>\n",
       "      <th>id</th>\n",
       "      <th>income</th>\n",
       "      <th>age</th>\n",
       "      <th>experience</th>\n",
       "      <th>married</th>\n",
       "      <th>house_ownership</th>\n",
       "      <th>car_ownership</th>\n",
       "      <th>profession</th>\n",
       "      <th>city</th>\n",
       "      <th>state</th>\n",
       "      <th>current_job_years</th>\n",
       "      <th>current_house_years</th>\n",
       "    </tr>\n",
       "  </thead>\n",
       "  <tbody>\n",
       "    <tr>\n",
       "      <th>0</th>\n",
       "      <td>1</td>\n",
       "      <td>7393090</td>\n",
       "      <td>59</td>\n",
       "      <td>19</td>\n",
       "      <td>single</td>\n",
       "      <td>rented</td>\n",
       "      <td>no</td>\n",
       "      <td>Geologist</td>\n",
       "      <td>Malda</td>\n",
       "      <td>West Bengal</td>\n",
       "      <td>4</td>\n",
       "      <td>13</td>\n",
       "    </tr>\n",
       "    <tr>\n",
       "      <th>1</th>\n",
       "      <td>2</td>\n",
       "      <td>1215004</td>\n",
       "      <td>25</td>\n",
       "      <td>5</td>\n",
       "      <td>single</td>\n",
       "      <td>rented</td>\n",
       "      <td>no</td>\n",
       "      <td>Firefighter</td>\n",
       "      <td>Jalna</td>\n",
       "      <td>Maharashtra</td>\n",
       "      <td>5</td>\n",
       "      <td>10</td>\n",
       "    </tr>\n",
       "    <tr>\n",
       "      <th>2</th>\n",
       "      <td>3</td>\n",
       "      <td>8901342</td>\n",
       "      <td>50</td>\n",
       "      <td>12</td>\n",
       "      <td>single</td>\n",
       "      <td>rented</td>\n",
       "      <td>no</td>\n",
       "      <td>Lawyer</td>\n",
       "      <td>Thane</td>\n",
       "      <td>Maharashtra</td>\n",
       "      <td>9</td>\n",
       "      <td>14</td>\n",
       "    </tr>\n",
       "    <tr>\n",
       "      <th>3</th>\n",
       "      <td>4</td>\n",
       "      <td>1944421</td>\n",
       "      <td>49</td>\n",
       "      <td>9</td>\n",
       "      <td>married</td>\n",
       "      <td>rented</td>\n",
       "      <td>yes</td>\n",
       "      <td>Analyst</td>\n",
       "      <td>Latur</td>\n",
       "      <td>Maharashtra</td>\n",
       "      <td>3</td>\n",
       "      <td>12</td>\n",
       "    </tr>\n",
       "    <tr>\n",
       "      <th>4</th>\n",
       "      <td>5</td>\n",
       "      <td>13429</td>\n",
       "      <td>25</td>\n",
       "      <td>18</td>\n",
       "      <td>single</td>\n",
       "      <td>rented</td>\n",
       "      <td>yes</td>\n",
       "      <td>Comedian</td>\n",
       "      <td>Berhampore</td>\n",
       "      <td>West Bengal</td>\n",
       "      <td>13</td>\n",
       "      <td>11</td>\n",
       "    </tr>\n",
       "  </tbody>\n",
       "</table>\n",
       "</div>"
      ],
      "text/plain": [
       "   id   income  age  experience  married house_ownership car_ownership  \\\n",
       "0   1  7393090   59          19   single          rented            no   \n",
       "1   2  1215004   25           5   single          rented            no   \n",
       "2   3  8901342   50          12   single          rented            no   \n",
       "3   4  1944421   49           9  married          rented           yes   \n",
       "4   5    13429   25          18   single          rented           yes   \n",
       "\n",
       "    profession        city        state  current_job_years  \\\n",
       "0    Geologist       Malda  West Bengal                  4   \n",
       "1  Firefighter       Jalna  Maharashtra                  5   \n",
       "2       Lawyer       Thane  Maharashtra                  9   \n",
       "3      Analyst       Latur  Maharashtra                  3   \n",
       "4     Comedian  Berhampore  West Bengal                 13   \n",
       "\n",
       "   current_house_years  \n",
       "0                   13  \n",
       "1                   10  \n",
       "2                   14  \n",
       "3                   12  \n",
       "4                   11  "
      ]
     },
     "execution_count": 14,
     "metadata": {},
     "output_type": "execute_result"
    }
   ],
   "source": [
    "df_test.head()"
   ]
  },
  {
   "cell_type": "code",
   "execution_count": 15,
   "id": "rental-walter",
   "metadata": {},
   "outputs": [
    {
     "data": {
      "text/plain": [
       "(28000, 12)"
      ]
     },
     "execution_count": 15,
     "metadata": {},
     "output_type": "execute_result"
    }
   ],
   "source": [
    "df_test.shape"
   ]
  },
  {
   "cell_type": "code",
   "execution_count": 16,
   "id": "legendary-baghdad",
   "metadata": {},
   "outputs": [
    {
     "data": {
      "text/plain": [
       "array(['rented', 'norent_noown', 'owned'], dtype=object)"
      ]
     },
     "execution_count": 16,
     "metadata": {},
     "output_type": "execute_result"
    }
   ],
   "source": [
    "df_train.house_ownership.unique()"
   ]
  },
  {
   "cell_type": "code",
   "execution_count": 17,
   "id": "fossil-granny",
   "metadata": {},
   "outputs": [
    {
     "data": {
      "text/plain": [
       "<AxesSubplot:>"
      ]
     },
     "execution_count": 17,
     "metadata": {},
     "output_type": "execute_result"
    },
    {
     "data": {
      "image/png": "[encoded data removed]",
      "text/plain": [
       "<Figure size 720x720 with 2 Axes>"
      ]
     },
     "metadata": {
      "needs_background": "light"
     },
     "output_type": "display_data"
    }
   ],
   "source": [
    "import seaborn as sns\n",
    "import matplotlib.pyplot as plt\n",
    "\n",
    "plt.figure(figsize = (10,10))\n",
    "sns.heatmap(df_train.corr(), cmap='RdYlGn', annot = True)"
   ]
  },
  {
   "cell_type": "code",
   "execution_count": 18,
   "id": "incredible-lawsuit",
   "metadata": {},
   "outputs": [
    {
     "data": {
      "text/plain": [
       "<AxesSubplot:>"
      ]
     },
     "execution_count": 18,
     "metadata": {},
     "output_type": "execute_result"
    },
    {
     "data": {
      "image/png": "[encoded data removed]",
      "text/plain": [
       "<Figure size 720x720 with 2 Axes>"
      ]
     },
     "metadata": {
      "needs_background": "light"
     },
     "output_type": "display_data"
    }
   ],
   "source": [
    "plt.figure(figsize=(10,10))\n",
    "sns.heatmap(df_test.corr(), annot= True, cmap='RdYlGn')"
   ]
  },
  {
   "cell_type": "markdown",
   "id": "false-madison",
   "metadata": {},
   "source": [
    "##### So from the correleation plot, we can see that 5 columns are very correlated with the risk_flag output dependency.\n",
    "\n",
    "##### 1) current_job_years\n",
    "##### 2) age\n",
    "##### 3) income\n",
    "##### 4) experience\n",
    "##### 5) current_house_years"
   ]
  },
  {
   "cell_type": "markdown",
   "id": "fantastic-rubber",
   "metadata": {},
   "source": [
    "##### Now, In the testing data, we can see that experience and current_job_years are highly correlated. So removing one of them would be better. So now I will remove the 'current_job_years' column from the training part and finalize all my columns as:\n",
    "\n",
    "##### 1) age\n",
    "##### 2) income\n",
    "##### 3) experience\n",
    "##### 4) current_house_years\n",
    "##### And these columns will help me classify the risk_flag"
   ]
  },
  {
   "cell_type": "code",
   "execution_count": 19,
   "id": "worse-caribbean",
   "metadata": {},
   "outputs": [
    {
     "data": {
      "text/plain": [
       "Index(['Id', 'income', 'age', 'experience', 'married', 'house_ownership',\n",
       "       'car_ownership', 'profession', 'city', 'state', 'current_job_years',\n",
       "       'current_house_years', 'risk_flag'],\n",
       "      dtype='object')"
      ]
     },
     "execution_count": 19,
     "metadata": {},
     "output_type": "execute_result"
    }
   ],
   "source": [
    "df_train.columns"
   ]
  },
  {
   "cell_type": "code",
   "execution_count": 20,
   "id": "antique-healing",
   "metadata": {},
   "outputs": [],
   "source": [
    "col = ['Id', 'income', 'age', 'experience', 'current_house_years', 'risk_flag']"
   ]
  },
  {
   "cell_type": "code",
   "execution_count": 21,
   "id": "missing-julian",
   "metadata": {},
   "outputs": [
    {
     "data": {
      "text/html": [
       "<div>\n",
       "<style scoped>\n",
       "    .dataframe tbody tr th:only-of-type {\n",
       "        vertical-align: middle;\n",
       "    }\n",
       "\n",
       "    .dataframe tbody tr th {\n",
       "        vertical-align: top;\n",
       "    }\n",
       "\n",
       "    .dataframe thead th {\n",
       "        text-align: right;\n",
       "    }\n",
       "</style>\n",
       "<table border=\"1\" class=\"dataframe\">\n",
       "  <thead>\n",
       "    <tr style=\"text-align: right;\">\n",
       "      <th></th>\n",
       "      <th>Id</th>\n",
       "      <th>income</th>\n",
       "      <th>age</th>\n",
       "      <th>experience</th>\n",
       "      <th>current_house_years</th>\n",
       "      <th>risk_flag</th>\n",
       "    </tr>\n",
       "  </thead>\n",
       "  <tbody>\n",
       "    <tr>\n",
       "      <th>0</th>\n",
       "      <td>1</td>\n",
       "      <td>1303835</td>\n",
       "      <td>23</td>\n",
       "      <td>3</td>\n",
       "      <td>13</td>\n",
       "      <td>0</td>\n",
       "    </tr>\n",
       "    <tr>\n",
       "      <th>1</th>\n",
       "      <td>2</td>\n",
       "      <td>7574516</td>\n",
       "      <td>40</td>\n",
       "      <td>10</td>\n",
       "      <td>13</td>\n",
       "      <td>0</td>\n",
       "    </tr>\n",
       "    <tr>\n",
       "      <th>2</th>\n",
       "      <td>3</td>\n",
       "      <td>3991815</td>\n",
       "      <td>66</td>\n",
       "      <td>4</td>\n",
       "      <td>10</td>\n",
       "      <td>0</td>\n",
       "    </tr>\n",
       "    <tr>\n",
       "      <th>3</th>\n",
       "      <td>4</td>\n",
       "      <td>6256451</td>\n",
       "      <td>41</td>\n",
       "      <td>2</td>\n",
       "      <td>12</td>\n",
       "      <td>1</td>\n",
       "    </tr>\n",
       "    <tr>\n",
       "      <th>4</th>\n",
       "      <td>5</td>\n",
       "      <td>5768871</td>\n",
       "      <td>47</td>\n",
       "      <td>11</td>\n",
       "      <td>14</td>\n",
       "      <td>1</td>\n",
       "    </tr>\n",
       "  </tbody>\n",
       "</table>\n",
       "</div>"
      ],
      "text/plain": [
       "   Id   income  age  experience  current_house_years  risk_flag\n",
       "0   1  1303835   23           3                   13          0\n",
       "1   2  7574516   40          10                   13          0\n",
       "2   3  3991815   66           4                   10          0\n",
       "3   4  6256451   41           2                   12          1\n",
       "4   5  5768871   47          11                   14          1"
      ]
     },
     "execution_count": 21,
     "metadata": {},
     "output_type": "execute_result"
    }
   ],
   "source": [
    "df_train_temp = df_train[col]\n",
    "df_train_temp.head()"
   ]
  },
  {
   "cell_type": "code",
   "execution_count": 22,
   "id": "addressed-camcorder",
   "metadata": {},
   "outputs": [
    {
     "data": {
      "text/plain": [
       "True"
      ]
     },
     "execution_count": 22,
     "metadata": {},
     "output_type": "execute_result"
    }
   ],
   "source": [
    "df_train_temp.shape[0] == df_train.shape[0]"
   ]
  },
  {
   "cell_type": "code",
   "execution_count": 23,
   "id": "established-sodium",
   "metadata": {},
   "outputs": [
    {
     "data": {
      "text/plain": [
       "<AxesSubplot:>"
      ]
     },
     "execution_count": 23,
     "metadata": {},
     "output_type": "execute_result"
    },
    {
     "data": {
      "image/png": "[encoded data removed]",
      "text/plain": [
       "<Figure size 1800x720 with 2 Axes>"
      ]
     },
     "metadata": {
      "needs_background": "light"
     },
     "output_type": "display_data"
    }
   ],
   "source": [
    "import missingno\n",
    "missingno.matrix(df_train_temp)"
   ]
  },
  {
   "cell_type": "markdown",
   "id": "searching-terrorist",
   "metadata": {},
   "source": [
    "### Now we Understand all the columns"
   ]
  },
  {
   "cell_type": "markdown",
   "id": "minus-advance",
   "metadata": {},
   "source": [
    "#### 1) age -------------------------------------------------------------------------------------------"
   ]
  },
  {
   "cell_type": "code",
   "execution_count": 24,
   "id": "better-proposal",
   "metadata": {},
   "outputs": [
    {
     "data": {
      "text/plain": [
       "0"
      ]
     },
     "execution_count": 24,
     "metadata": {},
     "output_type": "execute_result"
    }
   ],
   "source": [
    "df_train_temp.age.isnull().sum()"
   ]
  },
  {
   "cell_type": "code",
   "execution_count": 25,
   "id": "effective-signal",
   "metadata": {},
   "outputs": [
    {
     "data": {
      "text/plain": [
       "0"
      ]
     },
     "execution_count": 25,
     "metadata": {},
     "output_type": "execute_result"
    }
   ],
   "source": [
    "df_test.age.isnull().sum()"
   ]
  },
  {
   "cell_type": "code",
   "execution_count": 26,
   "id": "loaded-explosion",
   "metadata": {},
   "outputs": [
    {
     "data": {
      "text/plain": [
       "count   252000.00\n",
       "mean        49.95\n",
       "std         17.06\n",
       "min         21.00\n",
       "25%         35.00\n",
       "50%         50.00\n",
       "75%         65.00\n",
       "max         79.00\n",
       "Name: age, dtype: float64"
      ]
     },
     "execution_count": 26,
     "metadata": {},
     "output_type": "execute_result"
    }
   ],
   "source": [
    "df_train_temp.age.describe()"
   ]
  },
  {
   "cell_type": "code",
   "execution_count": 27,
   "id": "synthetic-riding",
   "metadata": {},
   "outputs": [
    {
     "data": {
      "text/plain": [
       "count   28000.00\n",
       "mean       50.05\n",
       "std        17.13\n",
       "min        21.00\n",
       "25%        35.00\n",
       "50%        50.00\n",
       "75%        65.00\n",
       "max        79.00\n",
       "Name: age, dtype: float64"
      ]
     },
     "execution_count": 27,
     "metadata": {},
     "output_type": "execute_result"
    }
   ],
   "source": [
    "df_test.age.describe()"
   ]
  },
  {
   "cell_type": "code",
   "execution_count": 28,
   "id": "appreciated-correspondence",
   "metadata": {},
   "outputs": [
    {
     "data": {
      "text/plain": [
       "True"
      ]
     },
     "execution_count": 28,
     "metadata": {},
     "output_type": "execute_result"
    }
   ],
   "source": [
    "df_train_temp.age.dtype == df_test.age.dtype"
   ]
  },
  {
   "cell_type": "code",
   "execution_count": 29,
   "id": "infinite-forge",
   "metadata": {},
   "outputs": [
    {
     "data": {
      "text/plain": [
       "dtype('int64')"
      ]
     },
     "execution_count": 29,
     "metadata": {},
     "output_type": "execute_result"
    }
   ],
   "source": [
    "df_test.age.dtype"
   ]
  },
  {
   "cell_type": "code",
   "execution_count": 30,
   "id": "increased-editor",
   "metadata": {},
   "outputs": [
    {
     "data": {
      "text/plain": [
       "<AxesSubplot:xlabel='Frequency'>"
      ]
     },
     "execution_count": 30,
     "metadata": {},
     "output_type": "execute_result"
    },
    {
     "data": {
      "image/png": "[encoded data removed]",
      "text/plain": [
       "<Figure size 720x504 with 1 Axes>"
      ]
     },
     "metadata": {
      "needs_background": "light"
     },
     "output_type": "display_data"
    }
   ],
   "source": [
    "df_train_temp['age'].plot.hist(alpha=0.7, figsize=(10, 7), orientation=\"horizontal\")"
   ]
  },
  {
   "cell_type": "code",
   "execution_count": 31,
   "id": "chubby-islam",
   "metadata": {},
   "outputs": [
    {
     "data": {
      "text/plain": [
       "<AxesSubplot:xlabel='Frequency'>"
      ]
     },
     "execution_count": 31,
     "metadata": {},
     "output_type": "execute_result"
    },
    {
     "data": {
      "image/png": "[encoded data removed]",
      "text/plain": [
       "<Figure size 720x504 with 1 Axes>"
      ]
     },
     "metadata": {
      "needs_background": "light"
     },
     "output_type": "display_data"
    }
   ],
   "source": [
    "df_test['age'].plot.hist(alpha=0.7, figsize=(10, 7), orientation=\"horizontal\")"
   ]
  },
  {
   "cell_type": "code",
   "execution_count": 32,
   "id": "satisfactory-driver",
   "metadata": {},
   "outputs": [],
   "source": [
    "data = np.asarray([df_train_temp.age])\n",
    "new_data = data.reshape(-1,1)\n",
    "\n",
    "scaler = MinMaxScaler(feature_range= (0,1))\n",
    "scaled = scaler.fit_transform(new_data)\n",
    "\n",
    "df_train_temp['age'] = scaled"
   ]
  },
  {
   "cell_type": "code",
   "execution_count": 33,
   "id": "hourly-buddy",
   "metadata": {},
   "outputs": [
    {
     "data": {
      "text/html": [
       "<div>\n",
       "<style scoped>\n",
       "    .dataframe tbody tr th:only-of-type {\n",
       "        vertical-align: middle;\n",
       "    }\n",
       "\n",
       "    .dataframe tbody tr th {\n",
       "        vertical-align: top;\n",
       "    }\n",
       "\n",
       "    .dataframe thead th {\n",
       "        text-align: right;\n",
       "    }\n",
       "</style>\n",
       "<table border=\"1\" class=\"dataframe\">\n",
       "  <thead>\n",
       "    <tr style=\"text-align: right;\">\n",
       "      <th></th>\n",
       "      <th>Id</th>\n",
       "      <th>income</th>\n",
       "      <th>age</th>\n",
       "      <th>experience</th>\n",
       "      <th>current_house_years</th>\n",
       "      <th>risk_flag</th>\n",
       "    </tr>\n",
       "  </thead>\n",
       "  <tbody>\n",
       "    <tr>\n",
       "      <th>0</th>\n",
       "      <td>1</td>\n",
       "      <td>1303835</td>\n",
       "      <td>0.03</td>\n",
       "      <td>3</td>\n",
       "      <td>13</td>\n",
       "      <td>0</td>\n",
       "    </tr>\n",
       "    <tr>\n",
       "      <th>1</th>\n",
       "      <td>2</td>\n",
       "      <td>7574516</td>\n",
       "      <td>0.33</td>\n",
       "      <td>10</td>\n",
       "      <td>13</td>\n",
       "      <td>0</td>\n",
       "    </tr>\n",
       "    <tr>\n",
       "      <th>2</th>\n",
       "      <td>3</td>\n",
       "      <td>3991815</td>\n",
       "      <td>0.78</td>\n",
       "      <td>4</td>\n",
       "      <td>10</td>\n",
       "      <td>0</td>\n",
       "    </tr>\n",
       "    <tr>\n",
       "      <th>3</th>\n",
       "      <td>4</td>\n",
       "      <td>6256451</td>\n",
       "      <td>0.34</td>\n",
       "      <td>2</td>\n",
       "      <td>12</td>\n",
       "      <td>1</td>\n",
       "    </tr>\n",
       "    <tr>\n",
       "      <th>4</th>\n",
       "      <td>5</td>\n",
       "      <td>5768871</td>\n",
       "      <td>0.45</td>\n",
       "      <td>11</td>\n",
       "      <td>14</td>\n",
       "      <td>1</td>\n",
       "    </tr>\n",
       "  </tbody>\n",
       "</table>\n",
       "</div>"
      ],
      "text/plain": [
       "   Id   income  age  experience  current_house_years  risk_flag\n",
       "0   1  1303835 0.03           3                   13          0\n",
       "1   2  7574516 0.33          10                   13          0\n",
       "2   3  3991815 0.78           4                   10          0\n",
       "3   4  6256451 0.34           2                   12          1\n",
       "4   5  5768871 0.45          11                   14          1"
      ]
     },
     "execution_count": 33,
     "metadata": {},
     "output_type": "execute_result"
    }
   ],
   "source": [
    "df_train_temp.head()"
   ]
  },
  {
   "cell_type": "markdown",
   "id": "senior-music",
   "metadata": {},
   "source": [
    "#### 2) income"
   ]
  },
  {
   "cell_type": "code",
   "execution_count": 34,
   "id": "together-denial",
   "metadata": {},
   "outputs": [
    {
     "data": {
      "text/plain": [
       "count    252000.00\n",
       "mean    4997116.67\n",
       "std     2878311.01\n",
       "min       10310.00\n",
       "25%     2503015.00\n",
       "50%     5000694.50\n",
       "75%     7477502.00\n",
       "max     9999938.00\n",
       "Name: income, dtype: float64"
      ]
     },
     "execution_count": 34,
     "metadata": {},
     "output_type": "execute_result"
    }
   ],
   "source": [
    "df_train_temp.income.describe()"
   ]
  },
  {
   "cell_type": "code",
   "execution_count": 35,
   "id": "after-mambo",
   "metadata": {},
   "outputs": [
    {
     "data": {
      "text/plain": [
       "count     28000.00\n",
       "mean    5029562.65\n",
       "std     2864937.67\n",
       "min       10310.00\n",
       "25%     2545414.00\n",
       "50%     5046744.00\n",
       "75%     7474639.00\n",
       "max     9999814.00\n",
       "Name: income, dtype: float64"
      ]
     },
     "execution_count": 35,
     "metadata": {},
     "output_type": "execute_result"
    }
   ],
   "source": [
    "df_test.income.describe()"
   ]
  },
  {
   "cell_type": "code",
   "execution_count": 36,
   "id": "heard-tennis",
   "metadata": {},
   "outputs": [
    {
     "data": {
      "text/plain": [
       "0"
      ]
     },
     "execution_count": 36,
     "metadata": {},
     "output_type": "execute_result"
    }
   ],
   "source": [
    "df_train_temp.income.isnull().sum()"
   ]
  },
  {
   "cell_type": "code",
   "execution_count": 37,
   "id": "comfortable-delight",
   "metadata": {},
   "outputs": [
    {
     "data": {
      "text/plain": [
       "0"
      ]
     },
     "execution_count": 37,
     "metadata": {},
     "output_type": "execute_result"
    }
   ],
   "source": [
    "df_test.income.isnull().sum()"
   ]
  },
  {
   "cell_type": "code",
   "execution_count": 38,
   "id": "stretch-fisher",
   "metadata": {},
   "outputs": [
    {
     "data": {
      "text/plain": [
       "7936020    77\n",
       "9775375    71\n",
       "1996629    71\n",
       "9345456    70\n",
       "7638998    40\n",
       "           ..\n",
       "5446449     1\n",
       "7330601     1\n",
       "3377955     1\n",
       "2779935     1\n",
       "7907349     1\n",
       "Name: income, Length: 41917, dtype: int64"
      ]
     },
     "execution_count": 38,
     "metadata": {},
     "output_type": "execute_result"
    }
   ],
   "source": [
    "df_train_temp.income.value_counts()"
   ]
  },
  {
   "cell_type": "code",
   "execution_count": 39,
   "id": "lesbian-special",
   "metadata": {},
   "outputs": [
    {
     "data": {
      "text/plain": [
       "4254644    13\n",
       "3846207    11\n",
       "6098816    11\n",
       "9886718    11\n",
       "5531708    11\n",
       "           ..\n",
       "472986      1\n",
       "5670325     1\n",
       "3088351     1\n",
       "1666523     1\n",
       "5081161     1\n",
       "Name: income, Length: 9916, dtype: int64"
      ]
     },
     "execution_count": 39,
     "metadata": {},
     "output_type": "execute_result"
    }
   ],
   "source": [
    "df_test.income.value_counts()"
   ]
  },
  {
   "cell_type": "code",
   "execution_count": 40,
   "id": "stunning-oklahoma",
   "metadata": {},
   "outputs": [
    {
     "data": {
      "text/plain": [
       "0        7393090\n",
       "1        1215004\n",
       "2        8901342\n",
       "3        1944421\n",
       "4          13429\n",
       "          ...   \n",
       "27995    9955481\n",
       "27996    2917765\n",
       "27997    8082415\n",
       "27998    9474180\n",
       "27999    9250350\n",
       "Name: income, Length: 28000, dtype: int64"
      ]
     },
     "execution_count": 40,
     "metadata": {},
     "output_type": "execute_result"
    }
   ],
   "source": [
    "df_test['income']"
   ]
  },
  {
   "cell_type": "code",
   "execution_count": 41,
   "id": "classified-boulder",
   "metadata": {},
   "outputs": [],
   "source": [
    "# from sklearn.preprocessing import StandardScaler\n",
    "# import numpy as np\n",
    "\n",
    "# data = np.asarray([df_train_temp['income']])\n",
    "# new_data = data.reshape(-1,1)\n",
    "\n",
    "# scaler = StandardScaler()\n",
    "# scaled = scaler.fit_transform(new_data)\n",
    "# print(scaled)"
   ]
  },
  {
   "cell_type": "code",
   "execution_count": 42,
   "id": "heavy-microwave",
   "metadata": {},
   "outputs": [
    {
     "name": "stdout",
     "output_type": "stream",
     "text": [
      "[[0.1294868 ]\n",
      " [0.75720597]\n",
      " [0.39856389]\n",
      " ...\n",
      " [0.45168228]\n",
      " [0.65035635]\n",
      " [0.90693267]]\n"
     ]
    }
   ],
   "source": [
    "data = np.asarray([df_train_temp['income']])\n",
    "new_data = data.reshape(-1,1)\n",
    "\n",
    "scaler = MinMaxScaler(feature_range= (0,1))\n",
    "scaled = scaler.fit_transform(new_data)\n",
    "print(scaled)"
   ]
  },
  {
   "cell_type": "code",
   "execution_count": 43,
   "id": "collect-oxford",
   "metadata": {},
   "outputs": [],
   "source": [
    "df_train_temp['income'] = scaled"
   ]
  },
  {
   "cell_type": "code",
   "execution_count": 44,
   "id": "innocent-stick",
   "metadata": {},
   "outputs": [
    {
     "data": {
      "text/html": [
       "<div>\n",
       "<style scoped>\n",
       "    .dataframe tbody tr th:only-of-type {\n",
       "        vertical-align: middle;\n",
       "    }\n",
       "\n",
       "    .dataframe tbody tr th {\n",
       "        vertical-align: top;\n",
       "    }\n",
       "\n",
       "    .dataframe thead th {\n",
       "        text-align: right;\n",
       "    }\n",
       "</style>\n",
       "<table border=\"1\" class=\"dataframe\">\n",
       "  <thead>\n",
       "    <tr style=\"text-align: right;\">\n",
       "      <th></th>\n",
       "      <th>Id</th>\n",
       "      <th>income</th>\n",
       "      <th>age</th>\n",
       "      <th>experience</th>\n",
       "      <th>current_house_years</th>\n",
       "      <th>risk_flag</th>\n",
       "    </tr>\n",
       "  </thead>\n",
       "  <tbody>\n",
       "    <tr>\n",
       "      <th>0</th>\n",
       "      <td>1</td>\n",
       "      <td>0.13</td>\n",
       "      <td>0.03</td>\n",
       "      <td>3</td>\n",
       "      <td>13</td>\n",
       "      <td>0</td>\n",
       "    </tr>\n",
       "    <tr>\n",
       "      <th>1</th>\n",
       "      <td>2</td>\n",
       "      <td>0.76</td>\n",
       "      <td>0.33</td>\n",
       "      <td>10</td>\n",
       "      <td>13</td>\n",
       "      <td>0</td>\n",
       "    </tr>\n",
       "    <tr>\n",
       "      <th>2</th>\n",
       "      <td>3</td>\n",
       "      <td>0.40</td>\n",
       "      <td>0.78</td>\n",
       "      <td>4</td>\n",
       "      <td>10</td>\n",
       "      <td>0</td>\n",
       "    </tr>\n",
       "    <tr>\n",
       "      <th>3</th>\n",
       "      <td>4</td>\n",
       "      <td>0.63</td>\n",
       "      <td>0.34</td>\n",
       "      <td>2</td>\n",
       "      <td>12</td>\n",
       "      <td>1</td>\n",
       "    </tr>\n",
       "    <tr>\n",
       "      <th>4</th>\n",
       "      <td>5</td>\n",
       "      <td>0.58</td>\n",
       "      <td>0.45</td>\n",
       "      <td>11</td>\n",
       "      <td>14</td>\n",
       "      <td>1</td>\n",
       "    </tr>\n",
       "  </tbody>\n",
       "</table>\n",
       "</div>"
      ],
      "text/plain": [
       "   Id  income  age  experience  current_house_years  risk_flag\n",
       "0   1    0.13 0.03           3                   13          0\n",
       "1   2    0.76 0.33          10                   13          0\n",
       "2   3    0.40 0.78           4                   10          0\n",
       "3   4    0.63 0.34           2                   12          1\n",
       "4   5    0.58 0.45          11                   14          1"
      ]
     },
     "execution_count": 44,
     "metadata": {},
     "output_type": "execute_result"
    }
   ],
   "source": [
    "df_train_temp.head()"
   ]
  },
  {
   "cell_type": "markdown",
   "id": "identified-keeping",
   "metadata": {},
   "source": [
    "#### 3) experience"
   ]
  },
  {
   "cell_type": "code",
   "execution_count": 45,
   "id": "modular-ideal",
   "metadata": {},
   "outputs": [
    {
     "data": {
      "text/plain": [
       "0"
      ]
     },
     "execution_count": 45,
     "metadata": {},
     "output_type": "execute_result"
    }
   ],
   "source": [
    "df_train_temp.experience.isnull().sum()"
   ]
  },
  {
   "cell_type": "code",
   "execution_count": 46,
   "id": "extraordinary-burton",
   "metadata": {},
   "outputs": [
    {
     "data": {
      "text/plain": [
       "0"
      ]
     },
     "execution_count": 46,
     "metadata": {},
     "output_type": "execute_result"
    }
   ],
   "source": [
    "df_test.experience.isnull().sum()"
   ]
  },
  {
   "cell_type": "code",
   "execution_count": 47,
   "id": "fossil-apache",
   "metadata": {},
   "outputs": [
    {
     "data": {
      "text/plain": [
       "count   252000.00\n",
       "mean        10.08\n",
       "std          6.00\n",
       "min          0.00\n",
       "25%          5.00\n",
       "50%         10.00\n",
       "75%         15.00\n",
       "max         20.00\n",
       "Name: experience, dtype: float64"
      ]
     },
     "execution_count": 47,
     "metadata": {},
     "output_type": "execute_result"
    }
   ],
   "source": [
    "df_train_temp.experience.describe()"
   ]
  },
  {
   "cell_type": "code",
   "execution_count": 48,
   "id": "administrative-freedom",
   "metadata": {},
   "outputs": [
    {
     "data": {
      "text/plain": [
       "count   28000.00\n",
       "mean       10.12\n",
       "std         6.03\n",
       "min         0.00\n",
       "25%         5.00\n",
       "50%        10.00\n",
       "75%        15.00\n",
       "max        20.00\n",
       "Name: experience, dtype: float64"
      ]
     },
     "execution_count": 48,
     "metadata": {},
     "output_type": "execute_result"
    }
   ],
   "source": [
    "df_test.experience.describe()"
   ]
  },
  {
   "cell_type": "code",
   "execution_count": 49,
   "id": "according-capacity",
   "metadata": {},
   "outputs": [
    {
     "data": {
      "text/plain": [
       "<AxesSubplot:xlabel='experience', ylabel='count'>"
      ]
     },
     "execution_count": 49,
     "metadata": {},
     "output_type": "execute_result"
    },
    {
     "data": {
      "image/png": "[encoded data removed]",
      "text/plain": [
       "<Figure size 432x288 with 1 Axes>"
      ]
     },
     "metadata": {
      "needs_background": "light"
     },
     "output_type": "display_data"
    }
   ],
   "source": [
    "sns.countplot(x = df_train_temp['experience'])"
   ]
  },
  {
   "cell_type": "code",
   "execution_count": 50,
   "id": "multiple-butterfly",
   "metadata": {},
   "outputs": [
    {
     "data": {
      "text/plain": [
       "<AxesSubplot:xlabel='experience', ylabel='count'>"
      ]
     },
     "execution_count": 50,
     "metadata": {},
     "output_type": "execute_result"
    },
    {
     "data": {
      "image/png": "[encoded data removed]",
      "text/plain": [
       "<Figure size 432x288 with 1 Axes>"
      ]
     },
     "metadata": {
      "needs_background": "light"
     },
     "output_type": "display_data"
    }
   ],
   "source": [
    "sns.countplot(x = df_test['experience'])"
   ]
  },
  {
   "cell_type": "code",
   "execution_count": 51,
   "id": "coastal-thickness",
   "metadata": {},
   "outputs": [],
   "source": [
    "data = np.asarray([df_train_temp.experience])\n",
    "new_data = data.reshape(-1,1)\n",
    "\n",
    "scaler = MinMaxScaler(feature_range= (0,1))\n",
    "scaled = scaler.fit_transform(new_data)\n",
    "\n",
    "df_train_temp['experience'] = scaled"
   ]
  },
  {
   "cell_type": "code",
   "execution_count": 52,
   "id": "bottom-liability",
   "metadata": {},
   "outputs": [
    {
     "data": {
      "text/html": [
       "<div>\n",
       "<style scoped>\n",
       "    .dataframe tbody tr th:only-of-type {\n",
       "        vertical-align: middle;\n",
       "    }\n",
       "\n",
       "    .dataframe tbody tr th {\n",
       "        vertical-align: top;\n",
       "    }\n",
       "\n",
       "    .dataframe thead th {\n",
       "        text-align: right;\n",
       "    }\n",
       "</style>\n",
       "<table border=\"1\" class=\"dataframe\">\n",
       "  <thead>\n",
       "    <tr style=\"text-align: right;\">\n",
       "      <th></th>\n",
       "      <th>Id</th>\n",
       "      <th>income</th>\n",
       "      <th>age</th>\n",
       "      <th>experience</th>\n",
       "      <th>current_house_years</th>\n",
       "      <th>risk_flag</th>\n",
       "    </tr>\n",
       "  </thead>\n",
       "  <tbody>\n",
       "    <tr>\n",
       "      <th>0</th>\n",
       "      <td>1</td>\n",
       "      <td>0.13</td>\n",
       "      <td>0.03</td>\n",
       "      <td>0.15</td>\n",
       "      <td>13</td>\n",
       "      <td>0</td>\n",
       "    </tr>\n",
       "    <tr>\n",
       "      <th>1</th>\n",
       "      <td>2</td>\n",
       "      <td>0.76</td>\n",
       "      <td>0.33</td>\n",
       "      <td>0.50</td>\n",
       "      <td>13</td>\n",
       "      <td>0</td>\n",
       "    </tr>\n",
       "    <tr>\n",
       "      <th>2</th>\n",
       "      <td>3</td>\n",
       "      <td>0.40</td>\n",
       "      <td>0.78</td>\n",
       "      <td>0.20</td>\n",
       "      <td>10</td>\n",
       "      <td>0</td>\n",
       "    </tr>\n",
       "    <tr>\n",
       "      <th>3</th>\n",
       "      <td>4</td>\n",
       "      <td>0.63</td>\n",
       "      <td>0.34</td>\n",
       "      <td>0.10</td>\n",
       "      <td>12</td>\n",
       "      <td>1</td>\n",
       "    </tr>\n",
       "    <tr>\n",
       "      <th>4</th>\n",
       "      <td>5</td>\n",
       "      <td>0.58</td>\n",
       "      <td>0.45</td>\n",
       "      <td>0.55</td>\n",
       "      <td>14</td>\n",
       "      <td>1</td>\n",
       "    </tr>\n",
       "  </tbody>\n",
       "</table>\n",
       "</div>"
      ],
      "text/plain": [
       "   Id  income  age  experience  current_house_years  risk_flag\n",
       "0   1    0.13 0.03        0.15                   13          0\n",
       "1   2    0.76 0.33        0.50                   13          0\n",
       "2   3    0.40 0.78        0.20                   10          0\n",
       "3   4    0.63 0.34        0.10                   12          1\n",
       "4   5    0.58 0.45        0.55                   14          1"
      ]
     },
     "execution_count": 52,
     "metadata": {},
     "output_type": "execute_result"
    }
   ],
   "source": [
    "df_train_temp.head()"
   ]
  },
  {
   "cell_type": "markdown",
   "id": "defensive-spokesman",
   "metadata": {},
   "source": [
    "##### 4) current_house_years"
   ]
  },
  {
   "cell_type": "code",
   "execution_count": 53,
   "id": "funky-insulation",
   "metadata": {},
   "outputs": [
    {
     "data": {
      "text/plain": [
       "count   252000.00\n",
       "mean        12.00\n",
       "std          1.40\n",
       "min         10.00\n",
       "25%         11.00\n",
       "50%         12.00\n",
       "75%         13.00\n",
       "max         14.00\n",
       "Name: current_house_years, dtype: float64"
      ]
     },
     "execution_count": 53,
     "metadata": {},
     "output_type": "execute_result"
    }
   ],
   "source": [
    "df_train_temp.current_house_years.describe()"
   ]
  },
  {
   "cell_type": "code",
   "execution_count": 54,
   "id": "educational-characteristic",
   "metadata": {},
   "outputs": [
    {
     "data": {
      "text/plain": [
       "count   28000.00\n",
       "mean       11.99\n",
       "std         1.40\n",
       "min        10.00\n",
       "25%        11.00\n",
       "50%        12.00\n",
       "75%        13.00\n",
       "max        14.00\n",
       "Name: current_house_years, dtype: float64"
      ]
     },
     "execution_count": 54,
     "metadata": {},
     "output_type": "execute_result"
    }
   ],
   "source": [
    "df_test.current_house_years.describe()"
   ]
  },
  {
   "cell_type": "code",
   "execution_count": 55,
   "id": "significant-prague",
   "metadata": {},
   "outputs": [
    {
     "data": {
      "text/plain": [
       "<AxesSubplot:xlabel='current_house_years', ylabel='count'>"
      ]
     },
     "execution_count": 55,
     "metadata": {},
     "output_type": "execute_result"
    },
    {
     "data": {
      "image/png": "[encoded data removed]",
      "text/plain": [
       "<Figure size 432x288 with 1 Axes>"
      ]
     },
     "metadata": {
      "needs_background": "light"
     },
     "output_type": "display_data"
    }
   ],
   "source": [
    "sns.countplot(x = df_train_temp['current_house_years'])"
   ]
  },
  {
   "cell_type": "code",
   "execution_count": 56,
   "id": "homeless-strip",
   "metadata": {},
   "outputs": [
    {
     "data": {
      "text/plain": [
       "<AxesSubplot:xlabel='current_house_years', ylabel='count'>"
      ]
     },
     "execution_count": 56,
     "metadata": {},
     "output_type": "execute_result"
    },
    {
     "data": {
      "image/png": "[encoded data removed]",
      "text/plain": [
       "<Figure size 432x288 with 1 Axes>"
      ]
     },
     "metadata": {
      "needs_background": "light"
     },
     "output_type": "display_data"
    }
   ],
   "source": [
    "sns.countplot(x = df_test['current_house_years'])"
   ]
  },
  {
   "cell_type": "code",
   "execution_count": 57,
   "id": "temporal-laugh",
   "metadata": {},
   "outputs": [
    {
     "data": {
      "text/plain": [
       "0"
      ]
     },
     "execution_count": 57,
     "metadata": {},
     "output_type": "execute_result"
    }
   ],
   "source": [
    "df_train_temp.current_house_years.isnull().sum()"
   ]
  },
  {
   "cell_type": "code",
   "execution_count": 58,
   "id": "demographic-scroll",
   "metadata": {},
   "outputs": [
    {
     "data": {
      "text/plain": [
       "0"
      ]
     },
     "execution_count": 58,
     "metadata": {},
     "output_type": "execute_result"
    }
   ],
   "source": [
    "df_test.current_house_years.isna().sum()"
   ]
  },
  {
   "cell_type": "code",
   "execution_count": 59,
   "id": "female-warner",
   "metadata": {},
   "outputs": [],
   "source": [
    "data = np.asarray([df_train_temp.current_house_years])\n",
    "new_data = data.reshape(-1,1)\n",
    "\n",
    "scaler = MinMaxScaler(feature_range= (0,1))\n",
    "scaled = scaler.fit_transform(new_data)\n",
    "\n",
    "df_train_temp['current_house_years'] = scaled"
   ]
  },
  {
   "cell_type": "code",
   "execution_count": 60,
   "id": "small-auditor",
   "metadata": {},
   "outputs": [
    {
     "data": {
      "text/html": [
       "<div>\n",
       "<style scoped>\n",
       "    .dataframe tbody tr th:only-of-type {\n",
       "        vertical-align: middle;\n",
       "    }\n",
       "\n",
       "    .dataframe tbody tr th {\n",
       "        vertical-align: top;\n",
       "    }\n",
       "\n",
       "    .dataframe thead th {\n",
       "        text-align: right;\n",
       "    }\n",
       "</style>\n",
       "<table border=\"1\" class=\"dataframe\">\n",
       "  <thead>\n",
       "    <tr style=\"text-align: right;\">\n",
       "      <th></th>\n",
       "      <th>Id</th>\n",
       "      <th>income</th>\n",
       "      <th>age</th>\n",
       "      <th>experience</th>\n",
       "      <th>current_house_years</th>\n",
       "      <th>risk_flag</th>\n",
       "    </tr>\n",
       "  </thead>\n",
       "  <tbody>\n",
       "    <tr>\n",
       "      <th>0</th>\n",
       "      <td>1</td>\n",
       "      <td>0.13</td>\n",
       "      <td>0.03</td>\n",
       "      <td>0.15</td>\n",
       "      <td>0.75</td>\n",
       "      <td>0</td>\n",
       "    </tr>\n",
       "    <tr>\n",
       "      <th>1</th>\n",
       "      <td>2</td>\n",
       "      <td>0.76</td>\n",
       "      <td>0.33</td>\n",
       "      <td>0.50</td>\n",
       "      <td>0.75</td>\n",
       "      <td>0</td>\n",
       "    </tr>\n",
       "    <tr>\n",
       "      <th>2</th>\n",
       "      <td>3</td>\n",
       "      <td>0.40</td>\n",
       "      <td>0.78</td>\n",
       "      <td>0.20</td>\n",
       "      <td>0.00</td>\n",
       "      <td>0</td>\n",
       "    </tr>\n",
       "    <tr>\n",
       "      <th>3</th>\n",
       "      <td>4</td>\n",
       "      <td>0.63</td>\n",
       "      <td>0.34</td>\n",
       "      <td>0.10</td>\n",
       "      <td>0.50</td>\n",
       "      <td>1</td>\n",
       "    </tr>\n",
       "    <tr>\n",
       "      <th>4</th>\n",
       "      <td>5</td>\n",
       "      <td>0.58</td>\n",
       "      <td>0.45</td>\n",
       "      <td>0.55</td>\n",
       "      <td>1.00</td>\n",
       "      <td>1</td>\n",
       "    </tr>\n",
       "    <tr>\n",
       "      <th>5</th>\n",
       "      <td>6</td>\n",
       "      <td>0.69</td>\n",
       "      <td>0.74</td>\n",
       "      <td>0.00</td>\n",
       "      <td>0.50</td>\n",
       "      <td>0</td>\n",
       "    </tr>\n",
       "    <tr>\n",
       "      <th>6</th>\n",
       "      <td>7</td>\n",
       "      <td>0.39</td>\n",
       "      <td>0.64</td>\n",
       "      <td>0.70</td>\n",
       "      <td>0.50</td>\n",
       "      <td>0</td>\n",
       "    </tr>\n",
       "    <tr>\n",
       "      <th>7</th>\n",
       "      <td>8</td>\n",
       "      <td>0.17</td>\n",
       "      <td>0.21</td>\n",
       "      <td>0.10</td>\n",
       "      <td>1.00</td>\n",
       "      <td>0</td>\n",
       "    </tr>\n",
       "    <tr>\n",
       "      <th>8</th>\n",
       "      <td>9</td>\n",
       "      <td>0.76</td>\n",
       "      <td>0.05</td>\n",
       "      <td>0.85</td>\n",
       "      <td>0.25</td>\n",
       "      <td>0</td>\n",
       "    </tr>\n",
       "    <tr>\n",
       "      <th>9</th>\n",
       "      <td>10</td>\n",
       "      <td>0.90</td>\n",
       "      <td>0.03</td>\n",
       "      <td>0.60</td>\n",
       "      <td>0.75</td>\n",
       "      <td>0</td>\n",
       "    </tr>\n",
       "    <tr>\n",
       "      <th>10</th>\n",
       "      <td>11</td>\n",
       "      <td>0.46</td>\n",
       "      <td>0.98</td>\n",
       "      <td>0.35</td>\n",
       "      <td>0.50</td>\n",
       "      <td>0</td>\n",
       "    </tr>\n",
       "    <tr>\n",
       "      <th>11</th>\n",
       "      <td>12</td>\n",
       "      <td>0.66</td>\n",
       "      <td>0.02</td>\n",
       "      <td>0.20</td>\n",
       "      <td>1.00</td>\n",
       "      <td>0</td>\n",
       "    </tr>\n",
       "    <tr>\n",
       "      <th>12</th>\n",
       "      <td>13</td>\n",
       "      <td>0.91</td>\n",
       "      <td>0.12</td>\n",
       "      <td>0.45</td>\n",
       "      <td>0.50</td>\n",
       "      <td>0</td>\n",
       "    </tr>\n",
       "    <tr>\n",
       "      <th>13</th>\n",
       "      <td>14</td>\n",
       "      <td>0.80</td>\n",
       "      <td>0.62</td>\n",
       "      <td>0.60</td>\n",
       "      <td>0.00</td>\n",
       "      <td>0</td>\n",
       "    </tr>\n",
       "    <tr>\n",
       "      <th>14</th>\n",
       "      <td>15</td>\n",
       "      <td>0.94</td>\n",
       "      <td>0.47</td>\n",
       "      <td>0.30</td>\n",
       "      <td>0.00</td>\n",
       "      <td>1</td>\n",
       "    </tr>\n",
       "    <tr>\n",
       "      <th>15</th>\n",
       "      <td>16</td>\n",
       "      <td>0.57</td>\n",
       "      <td>0.31</td>\n",
       "      <td>0.10</td>\n",
       "      <td>0.00</td>\n",
       "      <td>0</td>\n",
       "    </tr>\n",
       "    <tr>\n",
       "      <th>16</th>\n",
       "      <td>17</td>\n",
       "      <td>0.73</td>\n",
       "      <td>0.88</td>\n",
       "      <td>0.40</td>\n",
       "      <td>1.00</td>\n",
       "      <td>0</td>\n",
       "    </tr>\n",
       "    <tr>\n",
       "      <th>17</th>\n",
       "      <td>18</td>\n",
       "      <td>0.37</td>\n",
       "      <td>0.60</td>\n",
       "      <td>0.60</td>\n",
       "      <td>0.25</td>\n",
       "      <td>1</td>\n",
       "    </tr>\n",
       "    <tr>\n",
       "      <th>18</th>\n",
       "      <td>19</td>\n",
       "      <td>0.22</td>\n",
       "      <td>0.12</td>\n",
       "      <td>0.40</td>\n",
       "      <td>1.00</td>\n",
       "      <td>0</td>\n",
       "    </tr>\n",
       "    <tr>\n",
       "      <th>19</th>\n",
       "      <td>20</td>\n",
       "      <td>0.54</td>\n",
       "      <td>0.33</td>\n",
       "      <td>0.05</td>\n",
       "      <td>1.00</td>\n",
       "      <td>0</td>\n",
       "    </tr>\n",
       "  </tbody>\n",
       "</table>\n",
       "</div>"
      ],
      "text/plain": [
       "    Id  income  age  experience  current_house_years  risk_flag\n",
       "0    1    0.13 0.03        0.15                 0.75          0\n",
       "1    2    0.76 0.33        0.50                 0.75          0\n",
       "2    3    0.40 0.78        0.20                 0.00          0\n",
       "3    4    0.63 0.34        0.10                 0.50          1\n",
       "4    5    0.58 0.45        0.55                 1.00          1\n",
       "5    6    0.69 0.74        0.00                 0.50          0\n",
       "6    7    0.39 0.64        0.70                 0.50          0\n",
       "7    8    0.17 0.21        0.10                 1.00          0\n",
       "8    9    0.76 0.05        0.85                 0.25          0\n",
       "9   10    0.90 0.03        0.60                 0.75          0\n",
       "10  11    0.46 0.98        0.35                 0.50          0\n",
       "11  12    0.66 0.02        0.20                 1.00          0\n",
       "12  13    0.91 0.12        0.45                 0.50          0\n",
       "13  14    0.80 0.62        0.60                 0.00          0\n",
       "14  15    0.94 0.47        0.30                 0.00          1\n",
       "15  16    0.57 0.31        0.10                 0.00          0\n",
       "16  17    0.73 0.88        0.40                 1.00          0\n",
       "17  18    0.37 0.60        0.60                 0.25          1\n",
       "18  19    0.22 0.12        0.40                 1.00          0\n",
       "19  20    0.54 0.33        0.05                 1.00          0"
      ]
     },
     "execution_count": 60,
     "metadata": {},
     "output_type": "execute_result"
    }
   ],
   "source": [
    "df_train_temp.head(20)"
   ]
  },
  {
   "cell_type": "code",
   "execution_count": null,
   "id": "fitted-mayor",
   "metadata": {},
   "outputs": [],
   "source": []
  },
  {
   "cell_type": "markdown",
   "id": "organizational-homeless",
   "metadata": {},
   "source": [
    "##### Dependent feature -----> 'risk_flag'"
   ]
  },
  {
   "cell_type": "code",
   "execution_count": 61,
   "id": "laden-midwest",
   "metadata": {},
   "outputs": [
    {
     "data": {
      "text/plain": [
       "0    221004\n",
       "1     30996\n",
       "Name: risk_flag, dtype: int64"
      ]
     },
     "execution_count": 61,
     "metadata": {},
     "output_type": "execute_result"
    }
   ],
   "source": [
    "df_train_temp.risk_flag.value_counts()"
   ]
  },
  {
   "cell_type": "code",
   "execution_count": 62,
   "id": "boolean-celebrity",
   "metadata": {},
   "outputs": [
    {
     "data": {
      "text/plain": [
       "<AxesSubplot:xlabel='risk_flag', ylabel='count'>"
      ]
     },
     "execution_count": 62,
     "metadata": {},
     "output_type": "execute_result"
    },
    {
     "data": {
      "image/png": "[encoded data removed]",
      "text/plain": [
       "<Figure size 432x288 with 1 Axes>"
      ]
     },
     "metadata": {
      "needs_background": "light"
     },
     "output_type": "display_data"
    }
   ],
   "source": [
    "sns.countplot(x = df_train_temp.risk_flag)"
   ]
  },
  {
   "cell_type": "code",
   "execution_count": 63,
   "id": "vanilla-flooring",
   "metadata": {},
   "outputs": [
    {
     "name": "stdout",
     "output_type": "stream",
     "text": [
      "221004 : 30996\n"
     ]
    }
   ],
   "source": [
    "# there is a problem with our data as it is highly imbalanced.\n",
    "\n",
    "x = df_train_temp['risk_flag'].value_counts()[0]\n",
    "y = df_train_temp['risk_flag'].value_counts()[1]\n",
    "\n",
    "print(x , \":\", y)\n",
    "\n"
   ]
  },
  {
   "cell_type": "code",
   "execution_count": 64,
   "id": "sonic-planning",
   "metadata": {},
   "outputs": [
    {
     "name": "stdout",
     "output_type": "stream",
     "text": [
      "7.130081300813008\n"
     ]
    }
   ],
   "source": [
    "print(x/y)"
   ]
  },
  {
   "cell_type": "markdown",
   "id": "manual-gossip",
   "metadata": {},
   "source": [
    "### Now we will solve this problem"
   ]
  },
  {
   "cell_type": "code",
   "execution_count": 65,
   "id": "contrary-ghost",
   "metadata": {},
   "outputs": [
    {
     "data": {
      "text/html": [
       "<div>\n",
       "<style scoped>\n",
       "    .dataframe tbody tr th:only-of-type {\n",
       "        vertical-align: middle;\n",
       "    }\n",
       "\n",
       "    .dataframe tbody tr th {\n",
       "        vertical-align: top;\n",
       "    }\n",
       "\n",
       "    .dataframe thead th {\n",
       "        text-align: right;\n",
       "    }\n",
       "</style>\n",
       "<table border=\"1\" class=\"dataframe\">\n",
       "  <thead>\n",
       "    <tr style=\"text-align: right;\">\n",
       "      <th></th>\n",
       "      <th>Id</th>\n",
       "      <th>income</th>\n",
       "      <th>age</th>\n",
       "      <th>experience</th>\n",
       "      <th>current_house_years</th>\n",
       "      <th>risk_flag</th>\n",
       "    </tr>\n",
       "  </thead>\n",
       "  <tbody>\n",
       "    <tr>\n",
       "      <th>0</th>\n",
       "      <td>1</td>\n",
       "      <td>0.13</td>\n",
       "      <td>0.03</td>\n",
       "      <td>0.15</td>\n",
       "      <td>0.75</td>\n",
       "      <td>0</td>\n",
       "    </tr>\n",
       "    <tr>\n",
       "      <th>1</th>\n",
       "      <td>2</td>\n",
       "      <td>0.76</td>\n",
       "      <td>0.33</td>\n",
       "      <td>0.50</td>\n",
       "      <td>0.75</td>\n",
       "      <td>0</td>\n",
       "    </tr>\n",
       "    <tr>\n",
       "      <th>2</th>\n",
       "      <td>3</td>\n",
       "      <td>0.40</td>\n",
       "      <td>0.78</td>\n",
       "      <td>0.20</td>\n",
       "      <td>0.00</td>\n",
       "      <td>0</td>\n",
       "    </tr>\n",
       "    <tr>\n",
       "      <th>3</th>\n",
       "      <td>4</td>\n",
       "      <td>0.63</td>\n",
       "      <td>0.34</td>\n",
       "      <td>0.10</td>\n",
       "      <td>0.50</td>\n",
       "      <td>1</td>\n",
       "    </tr>\n",
       "    <tr>\n",
       "      <th>4</th>\n",
       "      <td>5</td>\n",
       "      <td>0.58</td>\n",
       "      <td>0.45</td>\n",
       "      <td>0.55</td>\n",
       "      <td>1.00</td>\n",
       "      <td>1</td>\n",
       "    </tr>\n",
       "  </tbody>\n",
       "</table>\n",
       "</div>"
      ],
      "text/plain": [
       "   Id  income  age  experience  current_house_years  risk_flag\n",
       "0   1    0.13 0.03        0.15                 0.75          0\n",
       "1   2    0.76 0.33        0.50                 0.75          0\n",
       "2   3    0.40 0.78        0.20                 0.00          0\n",
       "3   4    0.63 0.34        0.10                 0.50          1\n",
       "4   5    0.58 0.45        0.55                 1.00          1"
      ]
     },
     "execution_count": 65,
     "metadata": {},
     "output_type": "execute_result"
    }
   ],
   "source": [
    "df_train_temp.head()"
   ]
  },
  {
   "cell_type": "code",
   "execution_count": 66,
   "id": "prime-guard",
   "metadata": {},
   "outputs": [
    {
     "data": {
      "text/html": [
       "<div>\n",
       "<style scoped>\n",
       "    .dataframe tbody tr th:only-of-type {\n",
       "        vertical-align: middle;\n",
       "    }\n",
       "\n",
       "    .dataframe tbody tr th {\n",
       "        vertical-align: top;\n",
       "    }\n",
       "\n",
       "    .dataframe thead th {\n",
       "        text-align: right;\n",
       "    }\n",
       "</style>\n",
       "<table border=\"1\" class=\"dataframe\">\n",
       "  <thead>\n",
       "    <tr style=\"text-align: right;\">\n",
       "      <th></th>\n",
       "      <th>Id</th>\n",
       "      <th>income</th>\n",
       "      <th>age</th>\n",
       "      <th>experience</th>\n",
       "      <th>current_house_years</th>\n",
       "      <th>risk_flag</th>\n",
       "    </tr>\n",
       "  </thead>\n",
       "  <tbody>\n",
       "    <tr>\n",
       "      <th>251995</th>\n",
       "      <td>251996</td>\n",
       "      <td>0.82</td>\n",
       "      <td>0.38</td>\n",
       "      <td>0.65</td>\n",
       "      <td>0.25</td>\n",
       "      <td>0</td>\n",
       "    </tr>\n",
       "    <tr>\n",
       "      <th>251996</th>\n",
       "      <td>251997</td>\n",
       "      <td>0.28</td>\n",
       "      <td>0.09</td>\n",
       "      <td>0.50</td>\n",
       "      <td>0.25</td>\n",
       "      <td>0</td>\n",
       "    </tr>\n",
       "    <tr>\n",
       "      <th>251997</th>\n",
       "      <td>251998</td>\n",
       "      <td>0.45</td>\n",
       "      <td>0.43</td>\n",
       "      <td>0.35</td>\n",
       "      <td>0.50</td>\n",
       "      <td>0</td>\n",
       "    </tr>\n",
       "    <tr>\n",
       "      <th>251998</th>\n",
       "      <td>251999</td>\n",
       "      <td>0.65</td>\n",
       "      <td>0.41</td>\n",
       "      <td>0.00</td>\n",
       "      <td>0.00</td>\n",
       "      <td>0</td>\n",
       "    </tr>\n",
       "    <tr>\n",
       "      <th>251999</th>\n",
       "      <td>252000</td>\n",
       "      <td>0.91</td>\n",
       "      <td>0.84</td>\n",
       "      <td>0.85</td>\n",
       "      <td>0.25</td>\n",
       "      <td>0</td>\n",
       "    </tr>\n",
       "  </tbody>\n",
       "</table>\n",
       "</div>"
      ],
      "text/plain": [
       "            Id  income  age  experience  current_house_years  risk_flag\n",
       "251995  251996    0.82 0.38        0.65                 0.25          0\n",
       "251996  251997    0.28 0.09        0.50                 0.25          0\n",
       "251997  251998    0.45 0.43        0.35                 0.50          0\n",
       "251998  251999    0.65 0.41        0.00                 0.00          0\n",
       "251999  252000    0.91 0.84        0.85                 0.25          0"
      ]
     },
     "execution_count": 66,
     "metadata": {},
     "output_type": "execute_result"
    }
   ],
   "source": [
    "df_train_temp.tail()"
   ]
  },
  {
   "cell_type": "code",
   "execution_count": null,
   "id": "suitable-might",
   "metadata": {},
   "outputs": [],
   "source": []
  },
  {
   "cell_type": "code",
   "execution_count": 67,
   "id": "important-chart",
   "metadata": {},
   "outputs": [],
   "source": [
    "X = df_train_temp.iloc[:, 1:-1]\n",
    "y = df_train_temp.iloc[:, -1]"
   ]
  },
  {
   "cell_type": "code",
   "execution_count": 68,
   "id": "right-protection",
   "metadata": {},
   "outputs": [
    {
     "data": {
      "text/html": [
       "<div>\n",
       "<style scoped>\n",
       "    .dataframe tbody tr th:only-of-type {\n",
       "        vertical-align: middle;\n",
       "    }\n",
       "\n",
       "    .dataframe tbody tr th {\n",
       "        vertical-align: top;\n",
       "    }\n",
       "\n",
       "    .dataframe thead th {\n",
       "        text-align: right;\n",
       "    }\n",
       "</style>\n",
       "<table border=\"1\" class=\"dataframe\">\n",
       "  <thead>\n",
       "    <tr style=\"text-align: right;\">\n",
       "      <th></th>\n",
       "      <th>income</th>\n",
       "      <th>age</th>\n",
       "      <th>experience</th>\n",
       "      <th>current_house_years</th>\n",
       "    </tr>\n",
       "  </thead>\n",
       "  <tbody>\n",
       "    <tr>\n",
       "      <th>0</th>\n",
       "      <td>0.13</td>\n",
       "      <td>0.03</td>\n",
       "      <td>0.15</td>\n",
       "      <td>0.75</td>\n",
       "    </tr>\n",
       "    <tr>\n",
       "      <th>1</th>\n",
       "      <td>0.76</td>\n",
       "      <td>0.33</td>\n",
       "      <td>0.50</td>\n",
       "      <td>0.75</td>\n",
       "    </tr>\n",
       "    <tr>\n",
       "      <th>2</th>\n",
       "      <td>0.40</td>\n",
       "      <td>0.78</td>\n",
       "      <td>0.20</td>\n",
       "      <td>0.00</td>\n",
       "    </tr>\n",
       "    <tr>\n",
       "      <th>3</th>\n",
       "      <td>0.63</td>\n",
       "      <td>0.34</td>\n",
       "      <td>0.10</td>\n",
       "      <td>0.50</td>\n",
       "    </tr>\n",
       "    <tr>\n",
       "      <th>4</th>\n",
       "      <td>0.58</td>\n",
       "      <td>0.45</td>\n",
       "      <td>0.55</td>\n",
       "      <td>1.00</td>\n",
       "    </tr>\n",
       "  </tbody>\n",
       "</table>\n",
       "</div>"
      ],
      "text/plain": [
       "   income  age  experience  current_house_years\n",
       "0    0.13 0.03        0.15                 0.75\n",
       "1    0.76 0.33        0.50                 0.75\n",
       "2    0.40 0.78        0.20                 0.00\n",
       "3    0.63 0.34        0.10                 0.50\n",
       "4    0.58 0.45        0.55                 1.00"
      ]
     },
     "execution_count": 68,
     "metadata": {},
     "output_type": "execute_result"
    }
   ],
   "source": [
    "X.head()"
   ]
  },
  {
   "cell_type": "code",
   "execution_count": 69,
   "id": "injured-artist",
   "metadata": {},
   "outputs": [
    {
     "data": {
      "text/plain": [
       "0    0\n",
       "1    0\n",
       "2    0\n",
       "3    1\n",
       "4    1\n",
       "Name: risk_flag, dtype: int64"
      ]
     },
     "execution_count": 69,
     "metadata": {},
     "output_type": "execute_result"
    }
   ],
   "source": [
    "y.head()"
   ]
  },
  {
   "cell_type": "markdown",
   "id": "explicit-tanzania",
   "metadata": {},
   "source": [
    "### 1) without any imabalanced techniques:"
   ]
  },
  {
   "cell_type": "code",
   "execution_count": 70,
   "id": "married-cholesterol",
   "metadata": {},
   "outputs": [],
   "source": [
    "from sklearn.linear_model import LogisticRegression\n",
    "from sklearn.metrics import accuracy_score,confusion_matrix,classification_report\n",
    "from sklearn.model_selection import KFold\n",
    "import numpy as np\n",
    "from sklearn.model_selection import GridSearchCV"
   ]
  },
  {
   "cell_type": "code",
   "execution_count": 71,
   "id": "understanding-raising",
   "metadata": {},
   "outputs": [],
   "source": [
    "# 10.0 **np.arange(-2,3)"
   ]
  },
  {
   "cell_type": "code",
   "execution_count": null,
   "id": "revised-devil",
   "metadata": {},
   "outputs": [],
   "source": []
  },
  {
   "cell_type": "code",
   "execution_count": 72,
   "id": "fewer-budget",
   "metadata": {},
   "outputs": [],
   "source": [
    "# log_class=LogisticRegression()\n",
    "# grid={'C':10.0 **np.arange(-2,3),'penalty':['l1','l2']}\n",
    "# cv=KFold(n_splits=5,random_state=None,shuffle=False)"
   ]
  },
  {
   "cell_type": "code",
   "execution_count": 73,
   "id": "fitting-campaign",
   "metadata": {},
   "outputs": [],
   "source": [
    "# clf=GridSearchCV(log_class,grid,cv=cv,n_jobs=-1,scoring='f1_macro')\n",
    "# clf.fit(X_train,y_train)"
   ]
  },
  {
   "cell_type": "code",
   "execution_count": 74,
   "id": "assisted-movie",
   "metadata": {},
   "outputs": [],
   "source": [
    "# y_pred=clf.predict(X_test)\n",
    "# print(confusion_matrix(y_test,y_pred))\n",
    "# tn, fp, fn, tp = confusion_matrix(y_test,y_pred).ravel()\n",
    "# print(tn, fp, fn, tp)\n",
    "# print(accuracy_score(y_test,y_pred))\n",
    "# print(classification_report(y_test,y_pred))"
   ]
  },
  {
   "cell_type": "code",
   "execution_count": null,
   "id": "technical-stick",
   "metadata": {},
   "outputs": [],
   "source": []
  },
  {
   "cell_type": "markdown",
   "id": "comparable-friendly",
   "metadata": {},
   "source": [
    "#### 2) Undersampling"
   ]
  },
  {
   "cell_type": "code",
   "execution_count": 75,
   "id": "given-declaration",
   "metadata": {},
   "outputs": [],
   "source": [
    "# from collections import Counter\n",
    "# from imblearn.under_sampling import NearMiss\n",
    "# Counter(y_train)\n",
    "\n",
    "# ns=NearMiss(0.8)\n",
    "# X_train_ns,y_train_ns=ns.fit_resample(X_train,y_train)\n",
    "# print(\"The number of classes before fit {}\".format(Counter(y_train)))\n",
    "# print(\"The number of classes after fit {}\".format(Counter(y_train_ns)))"
   ]
  },
  {
   "cell_type": "code",
   "execution_count": 76,
   "id": "musical-incidence",
   "metadata": {},
   "outputs": [],
   "source": [
    "# from sklearn.ensemble import RandomForestClassifier\n",
    "# classifier=RandomForestClassifier()\n",
    "# classifier.fit(X_train_ns,y_train_ns)\n",
    "\n",
    "# y_pred=classifier.predict(X_test)\n",
    "# print(confusion_matrix(y_test,y_pred))\n",
    "# print('\\n')\n",
    "# tn, fp, fn, tp = confusion_matrix(y_test,y_pred).ravel()\n",
    "# print(tn, fp, fn, tp)\n",
    "# print('\\n')\n",
    "# print(accuracy_score(y_test,y_pred))\n",
    "# print('\\n')\n",
    "# print(classification_report(y_test,y_pred))"
   ]
  },
  {
   "cell_type": "code",
   "execution_count": null,
   "id": "little-match",
   "metadata": {},
   "outputs": [],
   "source": []
  },
  {
   "cell_type": "markdown",
   "id": "final-canon",
   "metadata": {},
   "source": [
    "#### 2) oversampling"
   ]
  },
  {
   "cell_type": "code",
   "execution_count": 77,
   "id": "responsible-paraguay",
   "metadata": {},
   "outputs": [],
   "source": [
    "from sklearn.model_selection import train_test_split\n",
    "X_train,X_test,y_train,y_test=train_test_split(X,y,test_size=0.2)"
   ]
  },
  {
   "cell_type": "code",
   "execution_count": 78,
   "id": "advised-differential",
   "metadata": {},
   "outputs": [
    {
     "name": "stdout",
     "output_type": "stream",
     "text": [
      "The number of classes before fit Counter({0: 176868, 1: 24732})\n",
      "The number of classes after fit Counter({0: 176868, 1: 132651})\n"
     ]
    }
   ],
   "source": [
    "from imblearn.over_sampling import RandomOverSampler\n",
    "from sklearn.ensemble import RandomForestClassifier\n",
    "from collections import Counter\n",
    "\n",
    "\n",
    "os=RandomOverSampler(0.75)\n",
    "X_train_ns,y_train_ns=os.fit_resample(X_train,y_train)\n",
    "print(\"The number of classes before fit {}\".format(Counter(y_train)))\n",
    "print(\"The number of classes after fit {}\".format(Counter(y_train_ns)))\n"
   ]
  },
  {
   "cell_type": "code",
   "execution_count": 79,
   "id": "controlling-message",
   "metadata": {},
   "outputs": [
    {
     "name": "stdout",
     "output_type": "stream",
     "text": [
      "\n",
      "\n",
      "[[39772  4364]\n",
      " [ 1293  4971]]\n",
      "39772 4364 1293 4971\n",
      "\n",
      "\n",
      "0.8877579365079366\n",
      "              precision    recall  f1-score   support\n",
      "\n",
      "           0       0.97      0.90      0.93     44136\n",
      "           1       0.53      0.79      0.64      6264\n",
      "\n",
      "    accuracy                           0.89     50400\n",
      "   macro avg       0.75      0.85      0.79     50400\n",
      "weighted avg       0.91      0.89      0.90     50400\n",
      "\n"
     ]
    }
   ],
   "source": [
    "classifier_1=RandomForestClassifier()\n",
    "classifier_1.fit(X_train_ns,y_train_ns)\n",
    "\n",
    "y_pred=classifier_1.predict(X_test)\n",
    "print('\\n')\n",
    "print(confusion_matrix(y_test,y_pred))\n",
    "tn, fp, fn, tp = confusion_matrix(y_test,y_pred).ravel()\n",
    "print(tn, fp, fn, tp)\n",
    "print('\\n')\n",
    "print(accuracy_score(y_test,y_pred))\n",
    "print(classification_report(y_test,y_pred))"
   ]
  },
  {
   "cell_type": "code",
   "execution_count": 80,
   "id": "major-complex",
   "metadata": {},
   "outputs": [
    {
     "data": {
      "text/plain": [
       "5817"
      ]
     },
     "execution_count": 80,
     "metadata": {},
     "output_type": "execute_result"
    }
   ],
   "source": [
    "1331  + 4486"
   ]
  },
  {
   "cell_type": "markdown",
   "id": "anticipated-wiring",
   "metadata": {},
   "source": [
    "#### With different classifiers"
   ]
  },
  {
   "cell_type": "code",
   "execution_count": 81,
   "id": "complex-secretary",
   "metadata": {},
   "outputs": [],
   "source": [
    "# RandomForestClassifier"
   ]
  },
  {
   "cell_type": "code",
   "execution_count": 82,
   "id": "occupied-lawsuit",
   "metadata": {},
   "outputs": [],
   "source": [
    "# model01 = RandomForestClassifier(n_estimators = 100, class_weight=None, criterion='gini', max_depth=5,\n",
    "#             max_features=\"auto\", max_leaf_nodes=10, min_samples_leaf=50,\n",
    "#             min_samples_split=2, min_weight_fraction_leaf=0.0, random_state=50, n_jobs = -1, oob_score = True)\n",
    "\n",
    "# model01.fit(X_train_ns,y_train_ns)"
   ]
  },
  {
   "cell_type": "code",
   "execution_count": 83,
   "id": "stunning-fleet",
   "metadata": {},
   "outputs": [],
   "source": [
    "# y_pred=model01.predict(X_test)\n",
    "\n",
    "# print('\\n')\n",
    "# print(confusion_matrix(y_test,y_pred))\n",
    "# tn, fp, fn, tp = confusion_matrix(y_test,y_pred).ravel()\n",
    "# print(tn, fp, fn, tp)\n",
    "# print('\\n')\n",
    "# print(accuracy_score(y_test,y_pred))\n",
    "# print(classification_report(y_test,y_pred))"
   ]
  },
  {
   "cell_type": "code",
   "execution_count": 84,
   "id": "inclusive-signature",
   "metadata": {},
   "outputs": [],
   "source": [
    "# DecisionTreeClassifier"
   ]
  },
  {
   "cell_type": "code",
   "execution_count": 85,
   "id": "laughing-absorption",
   "metadata": {},
   "outputs": [],
   "source": [
    "# from sklearn.tree import DecisionTreeClassifier\n"
   ]
  },
  {
   "cell_type": "code",
   "execution_count": 86,
   "id": "unique-omaha",
   "metadata": {},
   "outputs": [],
   "source": [
    "# model02 = DecisionTreeClassifier(class_weight=None, criterion='gini', max_depth=5,\n",
    "#             max_features=None, max_leaf_nodes=10, min_samples_leaf=5,\n",
    "#             min_samples_split=2, min_weight_fraction_leaf=0.0, random_state=None, splitter='random')\n",
    "\n",
    "# model02.fit(X_train_ns,y_train_ns)"
   ]
  },
  {
   "cell_type": "code",
   "execution_count": 87,
   "id": "exceptional-trauma",
   "metadata": {},
   "outputs": [],
   "source": [
    "# y_pred=model02.predict(X_test)\n",
    "\n",
    "# print('\\n')\n",
    "# print(confusion_matrix(y_test,y_pred))\n",
    "# tn, fp, fn, tp = confusion_matrix(y_test,y_pred).ravel()\n",
    "# print(tn, fp, fn, tp)\n",
    "# print('\\n')\n",
    "# print(accuracy_score(y_test,y_pred))\n",
    "# print(classification_report(y_test,y_pred))"
   ]
  },
  {
   "cell_type": "code",
   "execution_count": 88,
   "id": "optical-survival",
   "metadata": {},
   "outputs": [],
   "source": [
    "# MultinomialNB"
   ]
  },
  {
   "cell_type": "code",
   "execution_count": 89,
   "id": "vanilla-toronto",
   "metadata": {},
   "outputs": [],
   "source": [
    "# from sklearn.naive_bayes import MultinomialNB\n",
    "\n",
    "# mnb = MultinomialNB()\n",
    "# mnb.fit(X_train_ns,y_train_ns)\n",
    "\n"
   ]
  },
  {
   "cell_type": "code",
   "execution_count": 90,
   "id": "champion-knock",
   "metadata": {},
   "outputs": [],
   "source": [
    "# y_pred=mnb.predict(X_test)\n",
    "\n",
    "# print('\\n')\n",
    "# print(confusion_matrix(y_test,y_pred))\n",
    "# tn, fp, fn, tp = confusion_matrix(y_test,y_pred).ravel()\n",
    "# print(tn, fp, fn, tp)\n",
    "# print('\\n')\n",
    "# print(accuracy_score(y_test,y_pred))\n",
    "# print(classification_report(y_test,y_pred))\n",
    "\n",
    "# 0.8756746031746032 wrong"
   ]
  },
  {
   "cell_type": "code",
   "execution_count": 91,
   "id": "creative-credit",
   "metadata": {},
   "outputs": [],
   "source": [
    "# SVM"
   ]
  },
  {
   "cell_type": "code",
   "execution_count": 92,
   "id": "statistical-england",
   "metadata": {},
   "outputs": [],
   "source": [
    "# from sklearn.pipeline import make_pipeline\n",
    "# from sklearn.preprocessing import StandardScaler\n",
    "# from sklearn.svm import SVC"
   ]
  },
  {
   "cell_type": "code",
   "execution_count": 93,
   "id": "qualified-thread",
   "metadata": {},
   "outputs": [],
   "source": [
    "# clf = make_pipeline(StandardScaler(), SVC(gamma='auto'))\n",
    "# clf.fit(X_train_ns,y_train_ns)"
   ]
  },
  {
   "cell_type": "code",
   "execution_count": 94,
   "id": "israeli-doubt",
   "metadata": {},
   "outputs": [],
   "source": [
    "# y_pred=clf.predict(X_test)\n",
    "\n",
    "# print('\\n')\n",
    "# print(confusion_matrix(y_test,y_pred))\n",
    "# tn, fp, fn, tp = confusion_matrix(y_test,y_pred).ravel()\n",
    "# print(tn, fp, fn, tp)\n",
    "# print('\\n')\n",
    "# print(accuracy_score(y_test,y_pred))\n",
    "# print(classification_report(y_test,y_pred))"
   ]
  },
  {
   "cell_type": "code",
   "execution_count": null,
   "id": "supposed-assurance",
   "metadata": {},
   "outputs": [],
   "source": []
  },
  {
   "cell_type": "code",
   "execution_count": 95,
   "id": "shaped-supervision",
   "metadata": {},
   "outputs": [],
   "source": [
    "# Catboost"
   ]
  },
  {
   "cell_type": "code",
   "execution_count": 96,
   "id": "capital-weather",
   "metadata": {},
   "outputs": [],
   "source": [
    "# from catboost import CatBoostClassifier, Pool, cv\n",
    "# from sklearn.metrics import accuracy_score\n",
    "# params = {'iterations': 500,\n",
    "#           'learning_rate': 0.1,\n",
    "#           'eval_metric': 'Accuracy',\n",
    "#           'random_seed': 42,\n",
    "#           'logging_level': 'Silent',\n",
    "#           'use_best_model': True}\n",
    "\n",
    "\n",
    "# categorical_feature_indices = np.where(X_train_ns.dtypes != np.float)[0]\n",
    "\n",
    "# train_pool = Pool(X_train_ns, y_train_ns, cat_features = categorical_feature_indices)\n",
    "# test_pool = Pool(X_test, y_test, cat_features = categorical_feature_indices)\n",
    "\n",
    "# model = CatBoostClassifier(**params)\n",
    "# model.fit(train_pool, eval_set=test_pool)"
   ]
  },
  {
   "cell_type": "code",
   "execution_count": 97,
   "id": "imposed-desire",
   "metadata": {},
   "outputs": [],
   "source": [
    "# y_pred=model.predict(X_test)\n",
    "\n",
    "# print('\\n')\n",
    "# print(confusion_matrix(y_test,y_pred))\n",
    "# tn, fp, fn, tp = confusion_matrix(y_test,y_pred).ravel()\n",
    "# print(tn, fp, fn, tp)\n",
    "# print('\\n')\n",
    "# print(accuracy_score(y_test,y_pred))\n",
    "# print(classification_report(y_test,y_pred))\n",
    "\n",
    "# # 0.8608928571428571"
   ]
  },
  {
   "cell_type": "code",
   "execution_count": null,
   "id": "graduate-novel",
   "metadata": {},
   "outputs": [],
   "source": []
  },
  {
   "cell_type": "code",
   "execution_count": 98,
   "id": "collected-bunny",
   "metadata": {},
   "outputs": [],
   "source": [
    "# Passive aggressive classifier"
   ]
  },
  {
   "cell_type": "code",
   "execution_count": 99,
   "id": "integral-photograph",
   "metadata": {},
   "outputs": [],
   "source": [
    "# from sklearn.linear_model import PassiveAggressiveClassifier\n",
    "\n",
    "# clf_passive = PassiveAggressiveClassifier(max_iter=1000, random_state=42, tol=1e-3)\n",
    "\n",
    "# clf_passive.fit(X_train_ns,y_train_ns)\n",
    "\n",
    "# y_pred=clf_passive.predict(X_test)\n",
    "\n",
    "# print('\\n')\n",
    "# print(confusion_matrix(y_test,y_pred))\n",
    "# tn, fp, fn, tp = confusion_matrix(y_test,y_pred).ravel()\n",
    "# print(tn, fp, fn, tp)\n",
    "# print('\\n')\n",
    "# print(accuracy_score(y_test,y_pred))\n",
    "# print(classification_report(y_test,y_pred))"
   ]
  },
  {
   "cell_type": "code",
   "execution_count": null,
   "id": "wrapped-hearts",
   "metadata": {},
   "outputs": [],
   "source": []
  },
  {
   "cell_type": "code",
   "execution_count": null,
   "id": "moral-suggestion",
   "metadata": {},
   "outputs": [],
   "source": []
  },
  {
   "cell_type": "code",
   "execution_count": null,
   "id": "pharmaceutical-fortune",
   "metadata": {},
   "outputs": [],
   "source": []
  },
  {
   "cell_type": "code",
   "execution_count": null,
   "id": "african-discrimination",
   "metadata": {},
   "outputs": [],
   "source": []
  },
  {
   "cell_type": "code",
   "execution_count": null,
   "id": "blessed-barcelona",
   "metadata": {},
   "outputs": [],
   "source": []
  },
  {
   "cell_type": "markdown",
   "id": "aboriginal-burns",
   "metadata": {},
   "source": [
    "#### 3) SMOTETomek"
   ]
  },
  {
   "cell_type": "code",
   "execution_count": 100,
   "id": "modern-cannon",
   "metadata": {},
   "outputs": [],
   "source": [
    "# from imblearn.combine import SMOTETomek\n",
    "# from sklearn.ensemble import RandomForestClassifier\n",
    "\n",
    "# st=SMOTETomek(0.75)\n",
    "# X_train_ns,y_train_ns=st.fit_resample(X_train,y_train)\n",
    "# print(\"The number of classes before fit {}\".format(Counter(y_train)))\n",
    "# print(\"The number of classes after fit {}\".format(Counter(y_train_ns)))\n"
   ]
  },
  {
   "cell_type": "code",
   "execution_count": 101,
   "id": "split-impossible",
   "metadata": {},
   "outputs": [],
   "source": [
    "# classifier_2=RandomForestClassifier()\n",
    "# classifier_2.fit(X_train_ns,y_train_ns)\n",
    "\n",
    "\n",
    "# y_pred=classifier_2.predict(X_test)\n",
    "# print(confusion_matrix(y_test,y_pred))\n",
    "# print(accuracy_score(y_test,y_pred))\n",
    "# print(classification_report(y_test,y_pred))"
   ]
  },
  {
   "cell_type": "code",
   "execution_count": null,
   "id": "unlimited-indiana",
   "metadata": {},
   "outputs": [],
   "source": []
  },
  {
   "cell_type": "markdown",
   "id": "closing-significance",
   "metadata": {},
   "source": [
    "#### 4) Ensemble Techniques"
   ]
  },
  {
   "cell_type": "code",
   "execution_count": 102,
   "id": "changing-barrier",
   "metadata": {},
   "outputs": [],
   "source": [
    "# from imblearn.ensemble import EasyEnsembleClassifier\n",
    "\n",
    "# easy=EasyEnsembleClassifier()\n",
    "# easy.fit(X_train,y_train)\n",
    "\n",
    "# y_pred=easy.predict(X_test)\n",
    "# print(confusion_matrix(y_test,y_pred))\n",
    "# print(accuracy_score(y_test,y_pred))\n",
    "# print(classification_report(y_test,y_pred))\n",
    "\n",
    "##[[27011 17051]\n",
    "#  [ 3234  3104]]\n",
    "# 0.5975198412698413"
   ]
  },
  {
   "cell_type": "code",
   "execution_count": null,
   "id": "changing-harvard",
   "metadata": {},
   "outputs": [],
   "source": []
  },
  {
   "cell_type": "markdown",
   "id": "described-disposition",
   "metadata": {},
   "source": [
    "#### 5) ANN"
   ]
  },
  {
   "cell_type": "code",
   "execution_count": 103,
   "id": "attempted-planning",
   "metadata": {},
   "outputs": [],
   "source": [
    "# import tensorflow as tf\n",
    "# from tensorflow import keras\n",
    "# from sklearn.metrics import confusion_matrix , classification_report\n",
    "\n",
    "# def ANN(X_train, y_train, X_test, y_test, loss, weights):\n",
    "#     model = keras.Sequential([\n",
    "#         keras.layers.Dense(4, input_dim=4, activation='relu'),\n",
    "#         keras.layers.Dense(15, activation='relu'),\n",
    "#         keras.layers.Dense(1, activation='sigmoid')\n",
    "#     ])\n",
    "\n",
    "#     model.compile(optimizer='adam', loss=loss, metrics=['accuracy'])\n",
    "    \n",
    "#     if weights == -1:\n",
    "#         model.fit(X_train, y_train, epochs=100)\n",
    "#     else:\n",
    "#         model.fit(X_train, y_train, epochs=100, class_weight = weights)\n",
    "    \n",
    "#     print(model.evaluate(X_test, y_test))\n",
    "    \n",
    "#     y_preds = model.predict(X_test)\n",
    "#     y_preds = np.round(y_preds)\n",
    "    \n",
    "#     print(\"Classification Report: \\n\", classification_report(y_test, y_preds))\n",
    "    \n",
    "#     return y_preds\n",
    "\n",
    "# from imblearn.over_sampling import SMOTE\n",
    "\n",
    "# smote = SMOTE(sampling_strategy='minority')\n",
    "# X_sm, y_sm = smote.fit_resample(X, y)\n",
    "\n",
    "# y_sm.value_counts()\n",
    "\n",
    "# from sklearn.model_selection import train_test_split\n",
    "# X_train, X_test, y_train, y_test = train_test_split(X_sm, y_sm, test_size=0.2, random_state=15, stratify=y_sm)\n",
    "\n",
    "# y_train.value_counts()\n",
    "\n",
    "# y_preds = ANN(X_train, y_train, X_test, y_test, 'binary_crossentropy', -1)"
   ]
  },
  {
   "cell_type": "code",
   "execution_count": null,
   "id": "liberal-bahrain",
   "metadata": {},
   "outputs": [],
   "source": []
  },
  {
   "cell_type": "code",
   "execution_count": null,
   "id": "portable-dylan",
   "metadata": {},
   "outputs": [],
   "source": []
  },
  {
   "cell_type": "code",
   "execution_count": null,
   "id": "sporting-package",
   "metadata": {},
   "outputs": [],
   "source": []
  },
  {
   "cell_type": "markdown",
   "id": "loved-signal",
   "metadata": {},
   "source": [
    "## Final Deployment on the test data"
   ]
  },
  {
   "cell_type": "markdown",
   "id": "reflected-powell",
   "metadata": {},
   "source": [
    "### UNderstand and viusalize our test data"
   ]
  },
  {
   "cell_type": "code",
   "execution_count": 104,
   "id": "elder-venezuela",
   "metadata": {},
   "outputs": [
    {
     "data": {
      "text/plain": [
       "6981"
      ]
     },
     "execution_count": 104,
     "metadata": {},
     "output_type": "execute_result"
    }
   ],
   "source": [
    "1035 + 5946 #----> rf"
   ]
  },
  {
   "cell_type": "code",
   "execution_count": 105,
   "id": "handed-relevance",
   "metadata": {},
   "outputs": [
    {
     "data": {
      "text/plain": [
       "6451"
      ]
     },
     "execution_count": 105,
     "metadata": {},
     "output_type": "execute_result"
    }
   ],
   "source": [
    "356 + 6095  # ----->dt"
   ]
  },
  {
   "cell_type": "code",
   "execution_count": 106,
   "id": "designing-estonia",
   "metadata": {},
   "outputs": [
    {
     "data": {
      "text/plain": [
       "7042"
      ]
     },
     "execution_count": 106,
     "metadata": {},
     "output_type": "execute_result"
    }
   ],
   "source": [
    "1484 + 5558 #--------> catboost"
   ]
  },
  {
   "cell_type": "code",
   "execution_count": 107,
   "id": "deadly-trade",
   "metadata": {},
   "outputs": [
    {
     "data": {
      "text/html": [
       "<div>\n",
       "<style scoped>\n",
       "    .dataframe tbody tr th:only-of-type {\n",
       "        vertical-align: middle;\n",
       "    }\n",
       "\n",
       "    .dataframe tbody tr th {\n",
       "        vertical-align: top;\n",
       "    }\n",
       "\n",
       "    .dataframe thead th {\n",
       "        text-align: right;\n",
       "    }\n",
       "</style>\n",
       "<table border=\"1\" class=\"dataframe\">\n",
       "  <thead>\n",
       "    <tr style=\"text-align: right;\">\n",
       "      <th></th>\n",
       "      <th>id</th>\n",
       "      <th>income</th>\n",
       "      <th>age</th>\n",
       "      <th>experience</th>\n",
       "      <th>married</th>\n",
       "      <th>house_ownership</th>\n",
       "      <th>car_ownership</th>\n",
       "      <th>profession</th>\n",
       "      <th>city</th>\n",
       "      <th>state</th>\n",
       "      <th>current_job_years</th>\n",
       "      <th>current_house_years</th>\n",
       "    </tr>\n",
       "  </thead>\n",
       "  <tbody>\n",
       "    <tr>\n",
       "      <th>0</th>\n",
       "      <td>1</td>\n",
       "      <td>7393090</td>\n",
       "      <td>59</td>\n",
       "      <td>19</td>\n",
       "      <td>single</td>\n",
       "      <td>rented</td>\n",
       "      <td>no</td>\n",
       "      <td>Geologist</td>\n",
       "      <td>Malda</td>\n",
       "      <td>West Bengal</td>\n",
       "      <td>4</td>\n",
       "      <td>13</td>\n",
       "    </tr>\n",
       "    <tr>\n",
       "      <th>1</th>\n",
       "      <td>2</td>\n",
       "      <td>1215004</td>\n",
       "      <td>25</td>\n",
       "      <td>5</td>\n",
       "      <td>single</td>\n",
       "      <td>rented</td>\n",
       "      <td>no</td>\n",
       "      <td>Firefighter</td>\n",
       "      <td>Jalna</td>\n",
       "      <td>Maharashtra</td>\n",
       "      <td>5</td>\n",
       "      <td>10</td>\n",
       "    </tr>\n",
       "    <tr>\n",
       "      <th>2</th>\n",
       "      <td>3</td>\n",
       "      <td>8901342</td>\n",
       "      <td>50</td>\n",
       "      <td>12</td>\n",
       "      <td>single</td>\n",
       "      <td>rented</td>\n",
       "      <td>no</td>\n",
       "      <td>Lawyer</td>\n",
       "      <td>Thane</td>\n",
       "      <td>Maharashtra</td>\n",
       "      <td>9</td>\n",
       "      <td>14</td>\n",
       "    </tr>\n",
       "    <tr>\n",
       "      <th>3</th>\n",
       "      <td>4</td>\n",
       "      <td>1944421</td>\n",
       "      <td>49</td>\n",
       "      <td>9</td>\n",
       "      <td>married</td>\n",
       "      <td>rented</td>\n",
       "      <td>yes</td>\n",
       "      <td>Analyst</td>\n",
       "      <td>Latur</td>\n",
       "      <td>Maharashtra</td>\n",
       "      <td>3</td>\n",
       "      <td>12</td>\n",
       "    </tr>\n",
       "    <tr>\n",
       "      <th>4</th>\n",
       "      <td>5</td>\n",
       "      <td>13429</td>\n",
       "      <td>25</td>\n",
       "      <td>18</td>\n",
       "      <td>single</td>\n",
       "      <td>rented</td>\n",
       "      <td>yes</td>\n",
       "      <td>Comedian</td>\n",
       "      <td>Berhampore</td>\n",
       "      <td>West Bengal</td>\n",
       "      <td>13</td>\n",
       "      <td>11</td>\n",
       "    </tr>\n",
       "  </tbody>\n",
       "</table>\n",
       "</div>"
      ],
      "text/plain": [
       "   id   income  age  experience  married house_ownership car_ownership  \\\n",
       "0   1  7393090   59          19   single          rented            no   \n",
       "1   2  1215004   25           5   single          rented            no   \n",
       "2   3  8901342   50          12   single          rented            no   \n",
       "3   4  1944421   49           9  married          rented           yes   \n",
       "4   5    13429   25          18   single          rented           yes   \n",
       "\n",
       "    profession        city        state  current_job_years  \\\n",
       "0    Geologist       Malda  West Bengal                  4   \n",
       "1  Firefighter       Jalna  Maharashtra                  5   \n",
       "2       Lawyer       Thane  Maharashtra                  9   \n",
       "3      Analyst       Latur  Maharashtra                  3   \n",
       "4     Comedian  Berhampore  West Bengal                 13   \n",
       "\n",
       "   current_house_years  \n",
       "0                   13  \n",
       "1                   10  \n",
       "2                   14  \n",
       "3                   12  \n",
       "4                   11  "
      ]
     },
     "execution_count": 107,
     "metadata": {},
     "output_type": "execute_result"
    }
   ],
   "source": [
    "df_test.head()"
   ]
  },
  {
   "cell_type": "code",
   "execution_count": 108,
   "id": "affecting-walker",
   "metadata": {},
   "outputs": [
    {
     "data": {
      "text/html": [
       "<div>\n",
       "<style scoped>\n",
       "    .dataframe tbody tr th:only-of-type {\n",
       "        vertical-align: middle;\n",
       "    }\n",
       "\n",
       "    .dataframe tbody tr th {\n",
       "        vertical-align: top;\n",
       "    }\n",
       "\n",
       "    .dataframe thead th {\n",
       "        text-align: right;\n",
       "    }\n",
       "</style>\n",
       "<table border=\"1\" class=\"dataframe\">\n",
       "  <thead>\n",
       "    <tr style=\"text-align: right;\">\n",
       "      <th></th>\n",
       "      <th>income</th>\n",
       "      <th>age</th>\n",
       "      <th>experience</th>\n",
       "      <th>current_house_years</th>\n",
       "    </tr>\n",
       "  </thead>\n",
       "  <tbody>\n",
       "    <tr>\n",
       "      <th>0</th>\n",
       "      <td>7393090</td>\n",
       "      <td>59</td>\n",
       "      <td>19</td>\n",
       "      <td>13</td>\n",
       "    </tr>\n",
       "    <tr>\n",
       "      <th>1</th>\n",
       "      <td>1215004</td>\n",
       "      <td>25</td>\n",
       "      <td>5</td>\n",
       "      <td>10</td>\n",
       "    </tr>\n",
       "    <tr>\n",
       "      <th>2</th>\n",
       "      <td>8901342</td>\n",
       "      <td>50</td>\n",
       "      <td>12</td>\n",
       "      <td>14</td>\n",
       "    </tr>\n",
       "    <tr>\n",
       "      <th>3</th>\n",
       "      <td>1944421</td>\n",
       "      <td>49</td>\n",
       "      <td>9</td>\n",
       "      <td>12</td>\n",
       "    </tr>\n",
       "    <tr>\n",
       "      <th>4</th>\n",
       "      <td>13429</td>\n",
       "      <td>25</td>\n",
       "      <td>18</td>\n",
       "      <td>11</td>\n",
       "    </tr>\n",
       "  </tbody>\n",
       "</table>\n",
       "</div>"
      ],
      "text/plain": [
       "    income  age  experience  current_house_years\n",
       "0  7393090   59          19                   13\n",
       "1  1215004   25           5                   10\n",
       "2  8901342   50          12                   14\n",
       "3  1944421   49           9                   12\n",
       "4    13429   25          18                   11"
      ]
     },
     "execution_count": 108,
     "metadata": {},
     "output_type": "execute_result"
    }
   ],
   "source": [
    "col = ['income', 'age', 'experience', 'current_house_years']\n",
    "df_test_temp = df_test[col]\n",
    "\n",
    "df_test_temp.head()"
   ]
  },
  {
   "cell_type": "code",
   "execution_count": 109,
   "id": "expired-finder",
   "metadata": {},
   "outputs": [
    {
     "data": {
      "text/plain": [
       "(28000, 4)"
      ]
     },
     "execution_count": 109,
     "metadata": {},
     "output_type": "execute_result"
    }
   ],
   "source": [
    "df_test_temp.shape"
   ]
  },
  {
   "cell_type": "code",
   "execution_count": 110,
   "id": "spoken-drama",
   "metadata": {},
   "outputs": [],
   "source": [
    "# scaling all of them"
   ]
  },
  {
   "cell_type": "code",
   "execution_count": 111,
   "id": "pediatric-player",
   "metadata": {},
   "outputs": [],
   "source": [
    "data = np.asarray([df_test_temp.income])\n",
    "new_data = data.reshape(-1,1)\n",
    "\n",
    "scaler = MinMaxScaler(feature_range= (0,1))\n",
    "scaled = scaler.fit_transform(new_data)\n",
    "\n",
    "df_test_temp['income'] = scaled"
   ]
  },
  {
   "cell_type": "code",
   "execution_count": 112,
   "id": "precious-railway",
   "metadata": {},
   "outputs": [],
   "source": [
    "data = np.asarray([df_test_temp.age])\n",
    "new_data = data.reshape(-1,1)\n",
    "\n",
    "scaler = MinMaxScaler(feature_range= (0,1))\n",
    "scaled = scaler.fit_transform(new_data)\n",
    "\n",
    "df_test_temp['age'] = scaled"
   ]
  },
  {
   "cell_type": "code",
   "execution_count": 113,
   "id": "basic-cabin",
   "metadata": {},
   "outputs": [],
   "source": [
    "data = np.asarray([df_test_temp.current_house_years])\n",
    "new_data = data.reshape(-1,1)\n",
    "\n",
    "scaler = MinMaxScaler(feature_range= (0,1))\n",
    "scaled = scaler.fit_transform(new_data)\n",
    "\n",
    "df_test_temp['current_house_years'] = scaled"
   ]
  },
  {
   "cell_type": "code",
   "execution_count": 114,
   "id": "stuffed-madness",
   "metadata": {},
   "outputs": [],
   "source": [
    "data = np.asarray([df_test_temp.experience])\n",
    "new_data = data.reshape(-1,1)\n",
    "\n",
    "scaler = MinMaxScaler(feature_range= (0,1))\n",
    "scaled = scaler.fit_transform(new_data)\n",
    "\n",
    "df_test_temp['experience'] = scaled"
   ]
  },
  {
   "cell_type": "code",
   "execution_count": 115,
   "id": "destroyed-engineering",
   "metadata": {},
   "outputs": [
    {
     "data": {
      "text/html": [
       "<div>\n",
       "<style scoped>\n",
       "    .dataframe tbody tr th:only-of-type {\n",
       "        vertical-align: middle;\n",
       "    }\n",
       "\n",
       "    .dataframe tbody tr th {\n",
       "        vertical-align: top;\n",
       "    }\n",
       "\n",
       "    .dataframe thead th {\n",
       "        text-align: right;\n",
       "    }\n",
       "</style>\n",
       "<table border=\"1\" class=\"dataframe\">\n",
       "  <thead>\n",
       "    <tr style=\"text-align: right;\">\n",
       "      <th></th>\n",
       "      <th>income</th>\n",
       "      <th>age</th>\n",
       "      <th>experience</th>\n",
       "      <th>current_house_years</th>\n",
       "    </tr>\n",
       "  </thead>\n",
       "  <tbody>\n",
       "    <tr>\n",
       "      <th>0</th>\n",
       "      <td>0.74</td>\n",
       "      <td>0.66</td>\n",
       "      <td>0.95</td>\n",
       "      <td>0.75</td>\n",
       "    </tr>\n",
       "    <tr>\n",
       "      <th>1</th>\n",
       "      <td>0.12</td>\n",
       "      <td>0.07</td>\n",
       "      <td>0.25</td>\n",
       "      <td>0.00</td>\n",
       "    </tr>\n",
       "    <tr>\n",
       "      <th>2</th>\n",
       "      <td>0.89</td>\n",
       "      <td>0.50</td>\n",
       "      <td>0.60</td>\n",
       "      <td>1.00</td>\n",
       "    </tr>\n",
       "    <tr>\n",
       "      <th>3</th>\n",
       "      <td>0.19</td>\n",
       "      <td>0.48</td>\n",
       "      <td>0.45</td>\n",
       "      <td>0.50</td>\n",
       "    </tr>\n",
       "    <tr>\n",
       "      <th>4</th>\n",
       "      <td>0.00</td>\n",
       "      <td>0.07</td>\n",
       "      <td>0.90</td>\n",
       "      <td>0.25</td>\n",
       "    </tr>\n",
       "  </tbody>\n",
       "</table>\n",
       "</div>"
      ],
      "text/plain": [
       "   income  age  experience  current_house_years\n",
       "0    0.74 0.66        0.95                 0.75\n",
       "1    0.12 0.07        0.25                 0.00\n",
       "2    0.89 0.50        0.60                 1.00\n",
       "3    0.19 0.48        0.45                 0.50\n",
       "4    0.00 0.07        0.90                 0.25"
      ]
     },
     "execution_count": 115,
     "metadata": {},
     "output_type": "execute_result"
    }
   ],
   "source": [
    "df_test_temp.head()"
   ]
  },
  {
   "cell_type": "code",
   "execution_count": 116,
   "id": "leading-brother",
   "metadata": {},
   "outputs": [],
   "source": [
    "# we have selected the oversampling method + randomforest"
   ]
  },
  {
   "cell_type": "code",
   "execution_count": 117,
   "id": "computational-blues",
   "metadata": {},
   "outputs": [
    {
     "data": {
      "text/plain": [
       "(28000, 4)"
      ]
     },
     "execution_count": 117,
     "metadata": {},
     "output_type": "execute_result"
    }
   ],
   "source": [
    "df_test_temp.shape"
   ]
  },
  {
   "cell_type": "markdown",
   "id": "subsequent-female",
   "metadata": {},
   "source": [
    "# This is the Part"
   ]
  },
  {
   "cell_type": "code",
   "execution_count": null,
   "id": "allied-issue",
   "metadata": {},
   "outputs": [],
   "source": [
    "y_pred_final = classifier_1.predict(df_test_temp)\n",
    "\n",
    "# print('\\n')\n",
    "# print(confusion_matrix(y_test,y_pred_final))\n",
    "# tn, fp, fn, tp = confusion_matrix(y_test,y_pred_final).ravel()\n",
    "# print(tn, fp, fn, tp)\n",
    "# print('\\n')\n",
    "# print(accuracy_score(y_test,y_pred_final))\n",
    "# print(classification_report(y_test,y_pred_final))"
   ]
  },
  {
   "cell_type": "code",
   "execution_count": null,
   "id": "valid-award",
   "metadata": {},
   "outputs": [],
   "source": [
    "count = 0\n",
    "for i in y_pred_final:\n",
    "    if i == 0:\n",
    "        count += 1\n",
    "        \n",
    "print(count)"
   ]
  },
  {
   "cell_type": "code",
   "execution_count": null,
   "id": "reduced-setting",
   "metadata": {},
   "outputs": [],
   "source": [
    "count = 0\n",
    "for i in y_pred_final:\n",
    "    if i == 1:\n",
    "        count += 1\n",
    "        \n",
    "print(count)"
   ]
  },
  {
   "cell_type": "code",
   "execution_count": null,
   "id": "hollywood-vehicle",
   "metadata": {},
   "outputs": [],
   "source": [
    "y_pred_final"
   ]
  },
  {
   "cell_type": "code",
   "execution_count": null,
   "id": "honey-pleasure",
   "metadata": {},
   "outputs": [],
   "source": []
  },
  {
   "cell_type": "markdown",
   "id": "enormous-groove",
   "metadata": {},
   "source": [
    "## making the submission"
   ]
  },
  {
   "cell_type": "code",
   "execution_count": null,
   "id": "superb-tyler",
   "metadata": {},
   "outputs": [],
   "source": [
    "submission = pd.DataFrame()\n",
    "submission['id'] = df_test['id']\n",
    "submission['risk_flag'] = y_pred_final # our model predictions on the test dataset\n",
    "submission.head()"
   ]
  },
  {
   "cell_type": "code",
   "execution_count": null,
   "id": "constitutional-binary",
   "metadata": {},
   "outputs": [],
   "source": [
    "submission['risk_flag'] = submission['risk_flag'].astype(int)\n",
    "print('Converted Survived column to integers.')"
   ]
  },
  {
   "cell_type": "code",
   "execution_count": null,
   "id": "continental-request",
   "metadata": {},
   "outputs": [],
   "source": [
    "if len(submission) == len(df_test):\n",
    "    print(\"Submission dataframe is the same length as test ({} rows).\".format(len(submission)))\n",
    "else:\n",
    "    print(\"Dataframes mismatched, won't be able to submit to Kaggle.\")"
   ]
  },
  {
   "cell_type": "code",
   "execution_count": null,
   "id": "stuck-virgin",
   "metadata": {},
   "outputs": [],
   "source": [
    "submission.to_csv(r'C:\\Users\\anshu\\OneDrive\\Desktop\\hackathon/submission_2.csv', index=False)\n",
    "print('Submission CSV is ready!')"
   ]
  },
  {
   "cell_type": "code",
   "execution_count": null,
   "id": "integral-melissa",
   "metadata": {},
   "outputs": [],
   "source": []
  },
  {
   "cell_type": "code",
   "execution_count": null,
   "id": "western-circular",
   "metadata": {},
   "outputs": [],
   "source": []
  }
 ],
 "metadata": {
  "kernelspec": {
   "display_name": "Python 3",
   "language": "python",
   "name": "python3"
  },
  "language_info": {
   "codemirror_mode": {
    "name": "ipython",
    "version": 3
   },
   "file_extension": ".py",
   "mimetype": "text/x-python",
   "name": "python",
   "nbconvert_exporter": "python",
   "pygments_lexer": "ipython3",
   "version": "3.6.12"
  }
 },
 "nbformat": 4,
 "nbformat_minor": 5
}
